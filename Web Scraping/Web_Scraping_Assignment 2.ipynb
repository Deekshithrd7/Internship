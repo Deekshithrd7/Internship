{
 "cells": [
  {
   "cell_type": "markdown",
   "id": "9985dd31",
   "metadata": {},
   "source": [
    "### Q1: Write a python program to scrape data for “Data Analyst” Job position in “Bangalore” location. You have to scrape the job-title, job-location, company_name, experience_required. You have to scrape first 10 jobs data.\n",
    "\n",
    "#### This task will be done in following steps:\n",
    "\n",
    "#### 1. First get the webpage https://www.naukri.com/\n",
    "#### 2. Enter “Data Analyst” in “Skill, Designations, Companies” field and enter “Bangalore” in “enter the\n",
    "#### location” field.\n",
    "#### 3. Then click the search button.\n",
    "#### 4. Then scrape the data for the first 10 jobs results you get.\n",
    "#### 5. Finally create a dataframe of the scraped data"
   ]
  },
  {
   "cell_type": "code",
   "execution_count": 1,
   "id": "43d39328",
   "metadata": {},
   "outputs": [],
   "source": [
    "import selenium\n",
    "import pandas as pd\n",
    "from selenium import webdriver\n",
    "from selenium.webdriver.common.by import By\n",
    "\n",
    "import time\n",
    "\n",
    "import warnings\n",
    "warnings.filterwarnings('ignore')"
   ]
  },
  {
   "cell_type": "code",
   "execution_count": 2,
   "id": "0159b17e",
   "metadata": {},
   "outputs": [],
   "source": [
    "driver = webdriver.Chrome(r\"C:\\Users\\deeks\\Downloads\\chromedriver_win32\\chromedriver.exe\") # connecting to the driver\n",
    "time.sleep(5)"
   ]
  },
  {
   "cell_type": "code",
   "execution_count": 3,
   "id": "3856fa5b",
   "metadata": {},
   "outputs": [],
   "source": [
    "# Opening naukri page on the automated chrome browser\n",
    "driver.get(\"https://www.naukri.com/\")"
   ]
  },
  {
   "cell_type": "code",
   "execution_count": 4,
   "id": "513b491c",
   "metadata": {},
   "outputs": [],
   "source": [
    "# entering designation as Data analyst\n",
    "\n",
    "designation = driver.find_element(By.CLASS_NAME,\"suggestor-input\")\n",
    "\n",
    "# we have class in the page that's why we are using class name, if it was a xpath we could have used By XPATH\n",
    "\n",
    "designation.send_keys('Data Analyst') # it will send the data analyst search"
   ]
  },
  {
   "cell_type": "code",
   "execution_count": 5,
   "id": "0ecfef0d",
   "metadata": {},
   "outputs": [],
   "source": [
    "# entering location as banglore using absolute xpath method\n",
    "location = driver.find_element(By.XPATH,\"/html/body/div[1]/div[6]/div/div/div[5]/div/div/div/input\")\n",
    "location.send_keys('Banglore')"
   ]
  },
  {
   "cell_type": "code",
   "execution_count": 6,
   "id": "323fa38d",
   "metadata": {},
   "outputs": [],
   "source": [
    "search = driver.find_element(By.CLASS_NAME,\"qsbSubmit\")\n",
    "search.click()\n",
    "time.sleep(5) # making sure the page is loaded properly"
   ]
  },
  {
   "cell_type": "code",
   "execution_count": 7,
   "id": "89f8ff2a",
   "metadata": {},
   "outputs": [],
   "source": [
    "# Creating a lists to append the data according to their title,location, company name and experience\n",
    "job_title = []\n",
    "job_location = []\n",
    "company_name = []\n",
    "experience = []"
   ]
  },
  {
   "cell_type": "code",
   "execution_count": 8,
   "id": "bc3e024c",
   "metadata": {},
   "outputs": [],
   "source": [
    "# scraping the first 10 job details\n",
    "\n",
    "title_tags = driver.find_elements(By.XPATH,'//a[@class=\"title fw500 ellipsis\"]')\n",
    "for i in title_tags[0:10]: # first ten titles\n",
    "    title = i.text\n",
    "    job_title.append(title)\n",
    "                                  \n",
    "location_tags = driver.find_elements(By.XPATH,'//li[@class=\"fleft grey-text br2 placeHolderLi location\"]')\n",
    "for i in location_tags[0:10]:\n",
    "    location = i.text\n",
    "    job_location.append(location)\n",
    "    \n",
    "company_tags = driver.find_elements(By.XPATH,'//a[@class=\"subTitle ellipsis fleft\"]')\n",
    "for i in company_tags[0:10]:\n",
    "    company = i.text\n",
    "    company_name.append(company)\n",
    "    \n",
    "experience_tags = driver.find_elements(By.XPATH,'//li[@class=\"fleft grey-text br2 placeHolderLi experience\"]')\n",
    "for i in experience_tags[0:10]:\n",
    "    exp = i.text\n",
    "    experience.append(exp)\n"
   ]
  },
  {
   "cell_type": "code",
   "execution_count": 9,
   "id": "07729741",
   "metadata": {},
   "outputs": [
    {
     "name": "stdout",
     "output_type": "stream",
     "text": [
      "10 10 10 10\n"
     ]
    }
   ],
   "source": [
    "print(len(job_title),len(job_location),len(company_name),len(experience))"
   ]
  },
  {
   "cell_type": "code",
   "execution_count": 10,
   "id": "e7794e52",
   "metadata": {},
   "outputs": [
    {
     "data": {
      "text/html": [
       "<div>\n",
       "<style scoped>\n",
       "    .dataframe tbody tr th:only-of-type {\n",
       "        vertical-align: middle;\n",
       "    }\n",
       "\n",
       "    .dataframe tbody tr th {\n",
       "        vertical-align: top;\n",
       "    }\n",
       "\n",
       "    .dataframe thead th {\n",
       "        text-align: right;\n",
       "    }\n",
       "</style>\n",
       "<table border=\"1\" class=\"dataframe\">\n",
       "  <thead>\n",
       "    <tr style=\"text-align: right;\">\n",
       "      <th></th>\n",
       "      <th>Designation</th>\n",
       "      <th>Location</th>\n",
       "      <th>Company_name</th>\n",
       "      <th>Experience</th>\n",
       "    </tr>\n",
       "  </thead>\n",
       "  <tbody>\n",
       "    <tr>\n",
       "      <th>0</th>\n",
       "      <td>Lead Data Analyst - 1st LOD</td>\n",
       "      <td>Bangalore/Bengaluru, Delhi / NCR</td>\n",
       "      <td>Silicon Valley Bank</td>\n",
       "      <td>3-8 Yrs</td>\n",
       "    </tr>\n",
       "    <tr>\n",
       "      <th>1</th>\n",
       "      <td>Data Analyst</td>\n",
       "      <td>Bangalore/Bengaluru</td>\n",
       "      <td>Herox</td>\n",
       "      <td>0-1 Yrs</td>\n",
       "    </tr>\n",
       "    <tr>\n",
       "      <th>2</th>\n",
       "      <td>Senior Data Analyst</td>\n",
       "      <td>Bangalore/Bengaluru</td>\n",
       "      <td>TEKsystems</td>\n",
       "      <td>7-10 Yrs</td>\n",
       "    </tr>\n",
       "    <tr>\n",
       "      <th>3</th>\n",
       "      <td>Senior Data Analyst</td>\n",
       "      <td>Bangalore/Bengaluru</td>\n",
       "      <td>nurture.farm</td>\n",
       "      <td>3-8 Yrs</td>\n",
       "    </tr>\n",
       "    <tr>\n",
       "      <th>4</th>\n",
       "      <td>Senior Data Analyst</td>\n",
       "      <td>Bangalore/Bengaluru</td>\n",
       "      <td>Walmart</td>\n",
       "      <td>6-10 Yrs</td>\n",
       "    </tr>\n",
       "    <tr>\n",
       "      <th>5</th>\n",
       "      <td>Data Analyst - Python / Artificial Intelligence</td>\n",
       "      <td>Kolkata, Mumbai, Hyderabad/Secunderabad, Luckn...</td>\n",
       "      <td>iMindYourBusiness</td>\n",
       "      <td>0-2 Yrs</td>\n",
       "    </tr>\n",
       "    <tr>\n",
       "      <th>6</th>\n",
       "      <td>Data Analyst ( ADF, Azure Databricks )</td>\n",
       "      <td>Bangalore/Bengaluru, Greater Noida</td>\n",
       "      <td>Coforge</td>\n",
       "      <td>6-10 Yrs</td>\n",
       "    </tr>\n",
       "    <tr>\n",
       "      <th>7</th>\n",
       "      <td>Data Analyst, Digital Business</td>\n",
       "      <td>Bangalore/Bengaluru</td>\n",
       "      <td>Sony Pictures Networks</td>\n",
       "      <td>2-5 Yrs</td>\n",
       "    </tr>\n",
       "    <tr>\n",
       "      <th>8</th>\n",
       "      <td>Senior Data Analyst</td>\n",
       "      <td>Bangalore/Bengaluru</td>\n",
       "      <td>Mobile Premier League</td>\n",
       "      <td>3-5 Yrs</td>\n",
       "    </tr>\n",
       "    <tr>\n",
       "      <th>9</th>\n",
       "      <td>Executive Data Analyst</td>\n",
       "      <td>Bangalore/Bengaluru(Dodda Banaswadi)</td>\n",
       "      <td>ITC Limited (ITC Foods &amp; Beverages Division)</td>\n",
       "      <td>3-7 Yrs</td>\n",
       "    </tr>\n",
       "  </tbody>\n",
       "</table>\n",
       "</div>"
      ],
      "text/plain": [
       "                                       Designation  \\\n",
       "0                      Lead Data Analyst - 1st LOD   \n",
       "1                                     Data Analyst   \n",
       "2                              Senior Data Analyst   \n",
       "3                              Senior Data Analyst   \n",
       "4                              Senior Data Analyst   \n",
       "5  Data Analyst - Python / Artificial Intelligence   \n",
       "6           Data Analyst ( ADF, Azure Databricks )   \n",
       "7                   Data Analyst, Digital Business   \n",
       "8                              Senior Data Analyst   \n",
       "9                           Executive Data Analyst   \n",
       "\n",
       "                                            Location  \\\n",
       "0                   Bangalore/Bengaluru, Delhi / NCR   \n",
       "1                                Bangalore/Bengaluru   \n",
       "2                                Bangalore/Bengaluru   \n",
       "3                                Bangalore/Bengaluru   \n",
       "4                                Bangalore/Bengaluru   \n",
       "5  Kolkata, Mumbai, Hyderabad/Secunderabad, Luckn...   \n",
       "6                 Bangalore/Bengaluru, Greater Noida   \n",
       "7                                Bangalore/Bengaluru   \n",
       "8                                Bangalore/Bengaluru   \n",
       "9               Bangalore/Bengaluru(Dodda Banaswadi)   \n",
       "\n",
       "                                   Company_name Experience  \n",
       "0                           Silicon Valley Bank    3-8 Yrs  \n",
       "1                                         Herox    0-1 Yrs  \n",
       "2                                    TEKsystems   7-10 Yrs  \n",
       "3                                  nurture.farm    3-8 Yrs  \n",
       "4                                       Walmart   6-10 Yrs  \n",
       "5                             iMindYourBusiness    0-2 Yrs  \n",
       "6                                       Coforge   6-10 Yrs  \n",
       "7                        Sony Pictures Networks    2-5 Yrs  \n",
       "8                         Mobile Premier League    3-5 Yrs  \n",
       "9  ITC Limited (ITC Foods & Beverages Division)    3-7 Yrs  "
      ]
     },
     "execution_count": 10,
     "metadata": {},
     "output_type": "execute_result"
    }
   ],
   "source": [
    "# Creating a DataFrame to store the data\n",
    "df = pd.DataFrame({'Designation':job_title,'Location':job_location,'Company_name':company_name,'Experience':experience})\n",
    "df # pardon my column names, It is not the same as given in the question"
   ]
  },
  {
   "cell_type": "markdown",
   "id": "2bad2c39",
   "metadata": {},
   "source": [
    "## Q2) Finding the same for data Scientists jobs"
   ]
  },
  {
   "cell_type": "code",
   "execution_count": 11,
   "id": "2db50ccd",
   "metadata": {},
   "outputs": [],
   "source": [
    "driver.get(\"https://www.naukri.com/\") # going back to the home page"
   ]
  },
  {
   "cell_type": "code",
   "execution_count": 12,
   "id": "1da902ad",
   "metadata": {},
   "outputs": [],
   "source": [
    "designation = driver.find_element(By.CLASS_NAME,\"suggestor-input\")\n",
    "\n",
    "designation.send_keys('Data Scientist') "
   ]
  },
  {
   "cell_type": "code",
   "execution_count": 13,
   "id": "42d1fff1",
   "metadata": {},
   "outputs": [],
   "source": [
    "location = driver.find_element(By.XPATH,\"/html/body/div[1]/div[6]/div/div/div[5]/div/div/div/input\")\n",
    "\n",
    "location.send_keys('Banglore')"
   ]
  },
  {
   "cell_type": "code",
   "execution_count": 14,
   "id": "a527e4fd",
   "metadata": {},
   "outputs": [],
   "source": [
    "search = driver.find_element(By.CLASS_NAME,\"qsbSubmit\")\n",
    "search.click()\n",
    "time.sleep(5) "
   ]
  },
  {
   "cell_type": "code",
   "execution_count": 15,
   "id": "ed8f458a",
   "metadata": {},
   "outputs": [],
   "source": [
    "job_title = []\n",
    "job_location = []\n",
    "company_name = []"
   ]
  },
  {
   "cell_type": "code",
   "execution_count": 16,
   "id": "3b7246f1",
   "metadata": {},
   "outputs": [],
   "source": [
    "title_tags = driver.find_elements(By.XPATH,'//a[@class=\"title fw500 ellipsis\"]')\n",
    "for i in title_tags[0:10]: # first ten titles\n",
    "    title = i.text\n",
    "    job_title.append(title)\n",
    "    \n",
    "location_tags = driver.find_elements(By.XPATH,'//li[@class=\"fleft grey-text br2 placeHolderLi location\"]')\n",
    "for i in location_tags[0:10]:\n",
    "    location = i.text\n",
    "    job_location.append(location)\n",
    "    \n",
    "company_tags = driver.find_elements(By.XPATH,'//a[@class=\"subTitle ellipsis fleft\"]')\n",
    "for i in company_tags[0:10]:\n",
    "    company = i.text\n",
    "    company_name.append(company)\n",
    "    "
   ]
  },
  {
   "cell_type": "code",
   "execution_count": 18,
   "id": "6fa4073e",
   "metadata": {},
   "outputs": [
    {
     "name": "stdout",
     "output_type": "stream",
     "text": [
      "10 10 10\n"
     ]
    }
   ],
   "source": [
    "print(len(job_title),len(job_location),len(company_name))"
   ]
  },
  {
   "cell_type": "code",
   "execution_count": 19,
   "id": "30af40bd",
   "metadata": {},
   "outputs": [
    {
     "data": {
      "text/html": [
       "<div>\n",
       "<style scoped>\n",
       "    .dataframe tbody tr th:only-of-type {\n",
       "        vertical-align: middle;\n",
       "    }\n",
       "\n",
       "    .dataframe tbody tr th {\n",
       "        vertical-align: top;\n",
       "    }\n",
       "\n",
       "    .dataframe thead th {\n",
       "        text-align: right;\n",
       "    }\n",
       "</style>\n",
       "<table border=\"1\" class=\"dataframe\">\n",
       "  <thead>\n",
       "    <tr style=\"text-align: right;\">\n",
       "      <th></th>\n",
       "      <th>Designation</th>\n",
       "      <th>Location</th>\n",
       "      <th>Company_name</th>\n",
       "    </tr>\n",
       "  </thead>\n",
       "  <tbody>\n",
       "    <tr>\n",
       "      <th>0</th>\n",
       "      <td>Data Science Specialist</td>\n",
       "      <td>Kolkata, Mumbai, Hyderabad/Secunderabad, Pune,...</td>\n",
       "      <td>Accenture</td>\n",
       "    </tr>\n",
       "    <tr>\n",
       "      <th>1</th>\n",
       "      <td>Data Science Manager</td>\n",
       "      <td>Kolkata, Mumbai, Hyderabad/Secunderabad, Pune,...</td>\n",
       "      <td>Accenture</td>\n",
       "    </tr>\n",
       "    <tr>\n",
       "      <th>2</th>\n",
       "      <td>Mongodb Database Administrator, Maria DB or Ca...</td>\n",
       "      <td>Hyderabad/Secunderabad, Pune, Chennai, Bangalo...</td>\n",
       "      <td>Mphasis</td>\n",
       "    </tr>\n",
       "    <tr>\n",
       "      <th>3</th>\n",
       "      <td>Analystics &amp; Modeling Specialist</td>\n",
       "      <td>Kolkata, Mumbai, Hyderabad/Secunderabad, Pune,...</td>\n",
       "      <td>Accenture</td>\n",
       "    </tr>\n",
       "    <tr>\n",
       "      <th>4</th>\n",
       "      <td>Senior Data Scientist</td>\n",
       "      <td>Mumbai, New Delhi, Chennai, Bangalore/Bengaluru</td>\n",
       "      <td>Boston Consulting Group</td>\n",
       "    </tr>\n",
       "    <tr>\n",
       "      <th>5</th>\n",
       "      <td>Assistant Manager - Data Science</td>\n",
       "      <td>Mumbai, Pune, Bangalore/Bengaluru</td>\n",
       "      <td>CitiusTech</td>\n",
       "    </tr>\n",
       "    <tr>\n",
       "      <th>6</th>\n",
       "      <td>Senior Data Scientist</td>\n",
       "      <td>Pune, Chennai, Bangalore/Bengaluru</td>\n",
       "      <td>Wipro</td>\n",
       "    </tr>\n",
       "    <tr>\n",
       "      <th>7</th>\n",
       "      <td>Data Scientist</td>\n",
       "      <td>Hyderabad/Secunderabad, Pune, Chennai, Bangalo...</td>\n",
       "      <td>Tech Mahindra</td>\n",
       "    </tr>\n",
       "    <tr>\n",
       "      <th>8</th>\n",
       "      <td>Opportunity For Senior Data Scientist/ Busines...</td>\n",
       "      <td>Gurgaon/Gurugram, Bangalore/Bengaluru, Delhi /...</td>\n",
       "      <td>PayU</td>\n",
       "    </tr>\n",
       "    <tr>\n",
       "      <th>9</th>\n",
       "      <td>Senior Data Scientist</td>\n",
       "      <td>Bangalore/Bengaluru</td>\n",
       "      <td>Cargill</td>\n",
       "    </tr>\n",
       "  </tbody>\n",
       "</table>\n",
       "</div>"
      ],
      "text/plain": [
       "                                         Designation  \\\n",
       "0                            Data Science Specialist   \n",
       "1                               Data Science Manager   \n",
       "2  Mongodb Database Administrator, Maria DB or Ca...   \n",
       "3                   Analystics & Modeling Specialist   \n",
       "4                              Senior Data Scientist   \n",
       "5                   Assistant Manager - Data Science   \n",
       "6                              Senior Data Scientist   \n",
       "7                                     Data Scientist   \n",
       "8  Opportunity For Senior Data Scientist/ Busines...   \n",
       "9                              Senior Data Scientist   \n",
       "\n",
       "                                            Location             Company_name  \n",
       "0  Kolkata, Mumbai, Hyderabad/Secunderabad, Pune,...                Accenture  \n",
       "1  Kolkata, Mumbai, Hyderabad/Secunderabad, Pune,...                Accenture  \n",
       "2  Hyderabad/Secunderabad, Pune, Chennai, Bangalo...                  Mphasis  \n",
       "3  Kolkata, Mumbai, Hyderabad/Secunderabad, Pune,...                Accenture  \n",
       "4    Mumbai, New Delhi, Chennai, Bangalore/Bengaluru  Boston Consulting Group  \n",
       "5                  Mumbai, Pune, Bangalore/Bengaluru               CitiusTech  \n",
       "6                 Pune, Chennai, Bangalore/Bengaluru                    Wipro  \n",
       "7  Hyderabad/Secunderabad, Pune, Chennai, Bangalo...            Tech Mahindra  \n",
       "8  Gurgaon/Gurugram, Bangalore/Bengaluru, Delhi /...                     PayU  \n",
       "9                                Bangalore/Bengaluru                  Cargill  "
      ]
     },
     "execution_count": 19,
     "metadata": {},
     "output_type": "execute_result"
    }
   ],
   "source": [
    "# Creating dataframe for data scientists jobs data\n",
    "df = pd.DataFrame({'Designation':job_title,'Location':job_location,'Company_name':company_name})\n",
    "df "
   ]
  },
  {
   "cell_type": "markdown",
   "id": "7c7d8865",
   "metadata": {},
   "source": [
    "## Q3) In this question you have to scrape data using the filters available on the webpage "
   ]
  },
  {
   "cell_type": "code",
   "execution_count": 5,
   "id": "670ccd59",
   "metadata": {},
   "outputs": [],
   "source": [
    "import selenium\n",
    "import pandas as pd\n",
    "from selenium import webdriver\n",
    "from selenium.webdriver.common.by import By\n",
    "\n",
    "import time\n",
    "\n",
    "import warnings\n",
    "warnings.filterwarnings('ignore')"
   ]
  },
  {
   "cell_type": "code",
   "execution_count": 6,
   "id": "04f91f9e",
   "metadata": {},
   "outputs": [],
   "source": [
    "driver = webdriver.Chrome(r\"C:\\Users\\deeks\\Downloads\\chromedriver_win32\\chromedriver.exe\") # connecting to the driver\n",
    "time.sleep(5)"
   ]
  },
  {
   "cell_type": "code",
   "execution_count": 7,
   "id": "eca931b5",
   "metadata": {},
   "outputs": [],
   "source": [
    "driver.get(\"https://www.naukri.com/\") # going to the home page"
   ]
  },
  {
   "cell_type": "code",
   "execution_count": 8,
   "id": "7171184f",
   "metadata": {},
   "outputs": [],
   "source": [
    "# Entering Data Scientist on skill, designation or companies field\n",
    "designation = driver.find_element(By.CLASS_NAME,\"suggestor-input\")\n",
    "\n",
    "designation.send_keys('Data Scientist')"
   ]
  },
  {
   "cell_type": "code",
   "execution_count": 9,
   "id": "5526878f",
   "metadata": {},
   "outputs": [],
   "source": [
    "# Now searching\n",
    "search = driver.find_element(By.CLASS_NAME,\"qsbSubmit\")\n",
    "search.click()\n",
    "time.sleep(3) "
   ]
  },
  {
   "cell_type": "code",
   "execution_count": 11,
   "id": "ffead162",
   "metadata": {},
   "outputs": [],
   "source": [
    "# Checking Location filter Delhi\n",
    "location_filter = driver.find_element(By.XPATH,'/html/body/div[1]/div[4]/div/section[1]/div[2]/div[5]/div[2]/div[3]/label/p/span[1]')\n",
    "location_filter.click()\n",
    "time.sleep(3)"
   ]
  },
  {
   "cell_type": "code",
   "execution_count": 12,
   "id": "fd984ade",
   "metadata": {},
   "outputs": [],
   "source": [
    "# Checking salary filter 3-6 lakhs\n",
    "salary_filter = driver.find_element(By.XPATH,'/html/body/div[1]/div[4]/div/section[1]/div[2]/div[6]/div[2]/div[2]/label/p/span[1]')\n",
    "salary_filter.click()\n",
    "time.sleep(3) # using sleep to load"
   ]
  },
  {
   "cell_type": "code",
   "execution_count": 13,
   "id": "113f5f00",
   "metadata": {},
   "outputs": [],
   "source": [
    "job_title = []\n",
    "job_location = []\n",
    "company_name = []\n",
    "experience_required = []"
   ]
  },
  {
   "cell_type": "code",
   "execution_count": 14,
   "id": "e2bdafe7",
   "metadata": {},
   "outputs": [],
   "source": [
    "title_tags = driver.find_elements(By.XPATH,'//a[@class=\"title fw500 ellipsis\"]')\n",
    "for i in title_tags[0:10]: # first ten titles\n",
    "    title = i.text\n",
    "    job_title.append(title)\n",
    "    \n",
    "location_tags = driver.find_elements(By.XPATH,'//li[@class=\"fleft grey-text br2 placeHolderLi location\"]')\n",
    "for i in location_tags[0:10]:\n",
    "    location = i.text\n",
    "    job_location.append(location)\n",
    "    \n",
    "experience_tags = driver.find_elements(By.XPATH,'//li[@class=\"fleft grey-text br2 placeHolderLi experience\"]')\n",
    "for i in experience_tags[0:10]:\n",
    "    experience = i.text\n",
    "    experience_required.append(experience)\n",
    "    \n",
    "company_tags = driver.find_elements(By.XPATH,'//a[@class=\"subTitle ellipsis fleft\"]')\n",
    "for i in company_tags[0:10]:\n",
    "    company = i.text\n",
    "    company_name.append(company)\n",
    "    "
   ]
  },
  {
   "cell_type": "code",
   "execution_count": 15,
   "id": "5345a9d1",
   "metadata": {},
   "outputs": [
    {
     "name": "stdout",
     "output_type": "stream",
     "text": [
      "10 10 10 10\n"
     ]
    }
   ],
   "source": [
    "print(len(job_title),len(job_location),len(company_name),len(experience_required))"
   ]
  },
  {
   "cell_type": "code",
   "execution_count": 16,
   "id": "6913c230",
   "metadata": {},
   "outputs": [
    {
     "data": {
      "text/html": [
       "<div>\n",
       "<style scoped>\n",
       "    .dataframe tbody tr th:only-of-type {\n",
       "        vertical-align: middle;\n",
       "    }\n",
       "\n",
       "    .dataframe tbody tr th {\n",
       "        vertical-align: top;\n",
       "    }\n",
       "\n",
       "    .dataframe thead th {\n",
       "        text-align: right;\n",
       "    }\n",
       "</style>\n",
       "<table border=\"1\" class=\"dataframe\">\n",
       "  <thead>\n",
       "    <tr style=\"text-align: right;\">\n",
       "      <th></th>\n",
       "      <th>Job_Title</th>\n",
       "      <th>Job_Location</th>\n",
       "      <th>Company_name</th>\n",
       "      <th>Experience_Required</th>\n",
       "    </tr>\n",
       "  </thead>\n",
       "  <tbody>\n",
       "    <tr>\n",
       "      <th>0</th>\n",
       "      <td>Data Scientist - Engine Algorithm</td>\n",
       "      <td>Delhi / NCR, Kolkata, Mumbai, Hyderabad/Secund...</td>\n",
       "      <td>Primo Hiring</td>\n",
       "      <td>1-3 Yrs</td>\n",
       "    </tr>\n",
       "    <tr>\n",
       "      <th>1</th>\n",
       "      <td>Data Scientist</td>\n",
       "      <td>Noida, Nagpur, Bangalore/Bengaluru</td>\n",
       "      <td>GlobalLogic</td>\n",
       "      <td>8-10 Yrs</td>\n",
       "    </tr>\n",
       "    <tr>\n",
       "      <th>2</th>\n",
       "      <td>DigitalBCG GAMMA Data Scientist</td>\n",
       "      <td>New Delhi, Bangalore/Bengaluru</td>\n",
       "      <td>Boston Consulting Group</td>\n",
       "      <td>2-5 Yrs</td>\n",
       "    </tr>\n",
       "    <tr>\n",
       "      <th>3</th>\n",
       "      <td>Data Activation Specialist - Adobe Target</td>\n",
       "      <td>Delhi / NCR, Kolkata, Mumbai, Hyderabad/Secund...</td>\n",
       "      <td>Okda Solutions</td>\n",
       "      <td>7-10 Yrs</td>\n",
       "    </tr>\n",
       "    <tr>\n",
       "      <th>4</th>\n",
       "      <td>Data Scientist</td>\n",
       "      <td>Gurgaon/Gurugram</td>\n",
       "      <td>IHS Markit</td>\n",
       "      <td>3-6 Yrs</td>\n",
       "    </tr>\n",
       "    <tr>\n",
       "      <th>5</th>\n",
       "      <td>Lead Data Scientist</td>\n",
       "      <td>Noida(Sector-59 Noida)\\n(WFH during Covid)</td>\n",
       "      <td>R Systems International</td>\n",
       "      <td>7-10 Yrs</td>\n",
       "    </tr>\n",
       "    <tr>\n",
       "      <th>6</th>\n",
       "      <td>Data Scientist</td>\n",
       "      <td>Gurgaon/Gurugram</td>\n",
       "      <td>Optum</td>\n",
       "      <td>2-7 Yrs</td>\n",
       "    </tr>\n",
       "    <tr>\n",
       "      <th>7</th>\n",
       "      <td>Data Scientist / Chat-bot Developer</td>\n",
       "      <td>New Delhi, Bangalore/Bengaluru, Mumbai (All Ar...</td>\n",
       "      <td>Big Seo Buzz</td>\n",
       "      <td>3-7 Yrs</td>\n",
       "    </tr>\n",
       "    <tr>\n",
       "      <th>8</th>\n",
       "      <td>Data Scientist - Mumbai - Immediate Joiner Req...</td>\n",
       "      <td>Delhi / NCR, Mumbai, New Delhi</td>\n",
       "      <td>HueCanvas Consulting</td>\n",
       "      <td>2-7 Yrs</td>\n",
       "    </tr>\n",
       "    <tr>\n",
       "      <th>9</th>\n",
       "      <td>Data Scientist</td>\n",
       "      <td>Noida</td>\n",
       "      <td>NGI Ventures</td>\n",
       "      <td>0-5 Yrs</td>\n",
       "    </tr>\n",
       "  </tbody>\n",
       "</table>\n",
       "</div>"
      ],
      "text/plain": [
       "                                           Job_Title  \\\n",
       "0                  Data Scientist - Engine Algorithm   \n",
       "1                                     Data Scientist   \n",
       "2                    DigitalBCG GAMMA Data Scientist   \n",
       "3          Data Activation Specialist - Adobe Target   \n",
       "4                                     Data Scientist   \n",
       "5                                Lead Data Scientist   \n",
       "6                                     Data Scientist   \n",
       "7                Data Scientist / Chat-bot Developer   \n",
       "8  Data Scientist - Mumbai - Immediate Joiner Req...   \n",
       "9                                     Data Scientist   \n",
       "\n",
       "                                        Job_Location             Company_name  \\\n",
       "0  Delhi / NCR, Kolkata, Mumbai, Hyderabad/Secund...             Primo Hiring   \n",
       "1                 Noida, Nagpur, Bangalore/Bengaluru              GlobalLogic   \n",
       "2                     New Delhi, Bangalore/Bengaluru  Boston Consulting Group   \n",
       "3  Delhi / NCR, Kolkata, Mumbai, Hyderabad/Secund...           Okda Solutions   \n",
       "4                                   Gurgaon/Gurugram               IHS Markit   \n",
       "5         Noida(Sector-59 Noida)\\n(WFH during Covid)  R Systems International   \n",
       "6                                   Gurgaon/Gurugram                    Optum   \n",
       "7  New Delhi, Bangalore/Bengaluru, Mumbai (All Ar...             Big Seo Buzz   \n",
       "8                     Delhi / NCR, Mumbai, New Delhi     HueCanvas Consulting   \n",
       "9                                              Noida             NGI Ventures   \n",
       "\n",
       "  Experience_Required  \n",
       "0             1-3 Yrs  \n",
       "1            8-10 Yrs  \n",
       "2             2-5 Yrs  \n",
       "3            7-10 Yrs  \n",
       "4             3-6 Yrs  \n",
       "5            7-10 Yrs  \n",
       "6             2-7 Yrs  \n",
       "7             3-7 Yrs  \n",
       "8             2-7 Yrs  \n",
       "9             0-5 Yrs  "
      ]
     },
     "execution_count": 16,
     "metadata": {},
     "output_type": "execute_result"
    }
   ],
   "source": [
    "# Making the scraped data into a DataFrame\n",
    "df = pd.DataFrame({'Job_Title':job_title,'Job_Location':job_location,'Company_name':company_name,'Experience_Required':experience_required})\n",
    "df"
   ]
  },
  {
   "cell_type": "markdown",
   "id": "b4ec058d",
   "metadata": {},
   "source": [
    "## Q4) Scrape data of first 100 sunglasses listings on flipkart.com. You have to scrape four attributes:\n",
    "### 1. Brand\n",
    "### 2. Product Description\n",
    "### 3. Price"
   ]
  },
  {
   "cell_type": "code",
   "execution_count": 23,
   "id": "09ba883b",
   "metadata": {},
   "outputs": [],
   "source": [
    "driver = webdriver.Chrome(r\"C:\\Users\\deeks\\Downloads\\chromedriver_win32\\chromedriver.exe\") # connecting to the driver\n",
    "time.sleep(5)"
   ]
  },
  {
   "cell_type": "code",
   "execution_count": 24,
   "id": "419b1016",
   "metadata": {},
   "outputs": [],
   "source": [
    "driver.get('https://www.flipkart.com/')\n",
    "time.sleep(3)"
   ]
  },
  {
   "cell_type": "code",
   "execution_count": 25,
   "id": "96eae359",
   "metadata": {},
   "outputs": [],
   "source": [
    "search_sunglasses = driver.find_element(By.CLASS_NAME,\"_3704LK\")\n",
    "\n",
    "search_sunglasses.send_keys(\"sunglasses\")"
   ]
  },
  {
   "cell_type": "code",
   "execution_count": 26,
   "id": "61047961",
   "metadata": {},
   "outputs": [],
   "source": [
    "search_button = driver.find_element(By.CLASS_NAME,\"L0Z3Pu\")\n",
    "search_button.click()"
   ]
  },
  {
   "cell_type": "code",
   "execution_count": 27,
   "id": "24fc0d4c",
   "metadata": {},
   "outputs": [],
   "source": [
    "brand = []\n",
    "p_description = []\n",
    "price = []"
   ]
  },
  {
   "cell_type": "code",
   "execution_count": 28,
   "id": "39d21107",
   "metadata": {},
   "outputs": [],
   "source": [
    "brand_tags = driver.find_elements(By.XPATH,'//div[@class=\"_2WkVRV\"]')\n",
    "for i in brand_tags:\n",
    "    brand.append(i.text)\n",
    "\n",
    "descript_tags = driver.find_elements(By.XPATH,\"//a[@class='IRpwTa']\")\n",
    "for i in descript_tags:\n",
    "    p_description.append(i.text)\n",
    "    \n",
    "price_tags = driver.find_elements(By.XPATH,'//div[@class=\"_30jeq3\"]')\n",
    "for i in price_tags:\n",
    "    price.append(i.text)"
   ]
  },
  {
   "cell_type": "code",
   "execution_count": 29,
   "id": "dedee368",
   "metadata": {},
   "outputs": [
    {
     "name": "stdout",
     "output_type": "stream",
     "text": [
      "40 40 40\n"
     ]
    }
   ],
   "source": [
    "print(len(brand),len(p_description),len(price)) # we have scraped 40 brands,descriptions and price data"
   ]
  },
  {
   "cell_type": "code",
   "execution_count": 30,
   "id": "11ea9819",
   "metadata": {},
   "outputs": [],
   "source": [
    "# Now let's go to next page\n",
    "next_page = driver.find_element(By.XPATH,'//a[@class=\"ge-49M\"]')\n",
    "next_page.click()\n",
    "time.sleep(2)"
   ]
  },
  {
   "cell_type": "code",
   "execution_count": 31,
   "id": "453234dd",
   "metadata": {},
   "outputs": [],
   "source": [
    "# Using the same method to append the second page data\n",
    "brand_tags = driver.find_elements(By.XPATH,'//div[@class=\"_2WkVRV\"]')\n",
    "for i in brand_tags:\n",
    "    brand.append(i.text)\n",
    "\n",
    "descript_tags = driver.find_elements(By.XPATH,\"//a[@class='IRpwTa']\")\n",
    "for i in descript_tags:\n",
    "    p_description.append(i.text)\n",
    "    \n",
    "price_tags = driver.find_elements(By.XPATH,'//div[@class=\"_30jeq3\"]')\n",
    "for i in price_tags:\n",
    "    price.append(i.text)"
   ]
  },
  {
   "cell_type": "code",
   "execution_count": 32,
   "id": "7e03bee9",
   "metadata": {},
   "outputs": [
    {
     "name": "stdout",
     "output_type": "stream",
     "text": [
      "80 80 80\n"
     ]
    }
   ],
   "source": [
    "print(len(brand),len(p_description),len(price)) # we got this page data aswell"
   ]
  },
  {
   "cell_type": "code",
   "execution_count": 34,
   "id": "bfaf06ff",
   "metadata": {},
   "outputs": [],
   "source": [
    "# Going to the 3rd page\n",
    "third_page = driver.find_element(By.XPATH,'/html/body/div[1]/div/div[3]/div[1]/div[2]/div[12]/div/div/nav/a[3]')\n",
    "third_page.click()\n",
    "time.sleep(2)"
   ]
  },
  {
   "cell_type": "code",
   "execution_count": 35,
   "id": "53fd5905",
   "metadata": {},
   "outputs": [],
   "source": [
    "# We got 80 sunglasses data, we need 20 more\n",
    "brand_tags = driver.find_elements(By.XPATH,'//div[@class=\"_2WkVRV\"]')\n",
    "for i in brand_tags[:20]:\n",
    "    brand.append(i.text)\n",
    "\n",
    "descript_tags = driver.find_elements(By.XPATH,\"//a[@class='IRpwTa']\")\n",
    "for i in descript_tags[:20]:\n",
    "    p_description.append(i.text)\n",
    "    \n",
    "price_tags = driver.find_elements(By.XPATH,'//div[@class=\"_30jeq3\"]')\n",
    "for i in price_tags[:20]:\n",
    "    price.append(i.text)"
   ]
  },
  {
   "cell_type": "code",
   "execution_count": 36,
   "id": "63041bfb",
   "metadata": {},
   "outputs": [
    {
     "name": "stdout",
     "output_type": "stream",
     "text": [
      "100 100 100\n"
     ]
    }
   ],
   "source": [
    "print(len(brand),len(p_description),len(price)) # we got all the 100 sunglasses data"
   ]
  },
  {
   "cell_type": "code",
   "execution_count": 37,
   "id": "b36b6b4a",
   "metadata": {},
   "outputs": [
    {
     "data": {
      "text/html": [
       "<div>\n",
       "<style scoped>\n",
       "    .dataframe tbody tr th:only-of-type {\n",
       "        vertical-align: middle;\n",
       "    }\n",
       "\n",
       "    .dataframe tbody tr th {\n",
       "        vertical-align: top;\n",
       "    }\n",
       "\n",
       "    .dataframe thead th {\n",
       "        text-align: right;\n",
       "    }\n",
       "</style>\n",
       "<table border=\"1\" class=\"dataframe\">\n",
       "  <thead>\n",
       "    <tr style=\"text-align: right;\">\n",
       "      <th></th>\n",
       "      <th>Brand</th>\n",
       "      <th>Product_Description</th>\n",
       "      <th>Price</th>\n",
       "    </tr>\n",
       "  </thead>\n",
       "  <tbody>\n",
       "    <tr>\n",
       "      <th>0</th>\n",
       "      <td>Singco India</td>\n",
       "      <td>UV Protection, Riding Glasses, Others Aviator,...</td>\n",
       "      <td>₹203</td>\n",
       "    </tr>\n",
       "    <tr>\n",
       "      <th>1</th>\n",
       "      <td>Singco India</td>\n",
       "      <td>Gradient, Toughened Glass Lens, UV Protection ...</td>\n",
       "      <td>₹631</td>\n",
       "    </tr>\n",
       "    <tr>\n",
       "      <th>2</th>\n",
       "      <td>Fastrack</td>\n",
       "      <td>UV Protection Wayfarer Sunglasses (Free Size)</td>\n",
       "      <td>₹799</td>\n",
       "    </tr>\n",
       "    <tr>\n",
       "      <th>3</th>\n",
       "      <td>SHAAH COLLECTIONS</td>\n",
       "      <td>UV Protection Round Sunglasses (54)</td>\n",
       "      <td>₹179</td>\n",
       "    </tr>\n",
       "    <tr>\n",
       "      <th>4</th>\n",
       "      <td>LIZA ANGEL</td>\n",
       "      <td>UV Protection Wayfarer Sunglasses (Free Size)</td>\n",
       "      <td>₹199</td>\n",
       "    </tr>\n",
       "    <tr>\n",
       "      <th>...</th>\n",
       "      <td>...</td>\n",
       "      <td>...</td>\n",
       "      <td>...</td>\n",
       "    </tr>\n",
       "    <tr>\n",
       "      <th>95</th>\n",
       "      <td>VINCENT CHASE</td>\n",
       "      <td>by Lenskart Polarized, UV Protection Wayfarer ...</td>\n",
       "      <td>₹699</td>\n",
       "    </tr>\n",
       "    <tr>\n",
       "      <th>96</th>\n",
       "      <td>kingsunglasses</td>\n",
       "      <td>UV Protection, Riding Glasses, Mirrored Wayfar...</td>\n",
       "      <td>₹213</td>\n",
       "    </tr>\n",
       "    <tr>\n",
       "      <th>97</th>\n",
       "      <td>Fastrack</td>\n",
       "      <td>UV Protection Wrap-around Sunglasses (63)</td>\n",
       "      <td>₹710</td>\n",
       "    </tr>\n",
       "    <tr>\n",
       "      <th>98</th>\n",
       "      <td>VINCENT CHASE</td>\n",
       "      <td>Polarized, UV Protection Round Sunglasses (51)</td>\n",
       "      <td>₹699</td>\n",
       "    </tr>\n",
       "    <tr>\n",
       "      <th>99</th>\n",
       "      <td>DEIXELS</td>\n",
       "      <td>UV Protection Aviator Sunglasses (Free Size)</td>\n",
       "      <td>₹229</td>\n",
       "    </tr>\n",
       "  </tbody>\n",
       "</table>\n",
       "<p>100 rows × 3 columns</p>\n",
       "</div>"
      ],
      "text/plain": [
       "                Brand                                Product_Description Price\n",
       "0        Singco India  UV Protection, Riding Glasses, Others Aviator,...  ₹203\n",
       "1        Singco India  Gradient, Toughened Glass Lens, UV Protection ...  ₹631\n",
       "2            Fastrack      UV Protection Wayfarer Sunglasses (Free Size)  ₹799\n",
       "3   SHAAH COLLECTIONS                UV Protection Round Sunglasses (54)  ₹179\n",
       "4          LIZA ANGEL      UV Protection Wayfarer Sunglasses (Free Size)  ₹199\n",
       "..                ...                                                ...   ...\n",
       "95      VINCENT CHASE  by Lenskart Polarized, UV Protection Wayfarer ...  ₹699\n",
       "96     kingsunglasses  UV Protection, Riding Glasses, Mirrored Wayfar...  ₹213\n",
       "97           Fastrack          UV Protection Wrap-around Sunglasses (63)  ₹710\n",
       "98      VINCENT CHASE     Polarized, UV Protection Round Sunglasses (51)  ₹699\n",
       "99            DEIXELS       UV Protection Aviator Sunglasses (Free Size)  ₹229\n",
       "\n",
       "[100 rows x 3 columns]"
      ]
     },
     "execution_count": 37,
     "metadata": {},
     "output_type": "execute_result"
    }
   ],
   "source": [
    "# Storing in a DataFrame\n",
    "sunglasses_df = pd.DataFrame({'Brand':brand,'Product_Description':p_description,'Price':price})\n",
    "sunglasses_df"
   ]
  },
  {
   "cell_type": "markdown",
   "id": "c0013697",
   "metadata": {},
   "source": [
    "## Q5: Scrape 100 reviews data from flipkart.com for iphone11 phone"
   ]
  },
  {
   "cell_type": "code",
   "execution_count": 152,
   "id": "a2c7d3e9",
   "metadata": {},
   "outputs": [],
   "source": [
    "driver = webdriver.Chrome(r\"C:\\Users\\deeks\\Downloads\\chromedriver_win32\\chromedriver.exe\") # connecting to the driver\n",
    "time.sleep(5)"
   ]
  },
  {
   "cell_type": "code",
   "execution_count": 153,
   "id": "7a30a8f1",
   "metadata": {},
   "outputs": [],
   "source": [
    "# Going back to the homepage\n",
    "driver.get('https://www.flipkart.com/')\n",
    "time.sleep(3)"
   ]
  },
  {
   "cell_type": "code",
   "execution_count": 154,
   "id": "92363726",
   "metadata": {},
   "outputs": [],
   "source": [
    "iphone_search = driver.find_element(By.CLASS_NAME,\"_3704LK\")\n",
    "iphone_search.send_keys('iphone 11')"
   ]
  },
  {
   "cell_type": "code",
   "execution_count": 155,
   "id": "1811260a",
   "metadata": {},
   "outputs": [],
   "source": [
    "# clicking on the search \n",
    "srch_btn = driver.find_element(By.CLASS_NAME,\"L0Z3Pu\")\n",
    "srch_btn.click()"
   ]
  },
  {
   "cell_type": "code",
   "execution_count": 156,
   "id": "5f5c9a2e",
   "metadata": {},
   "outputs": [],
   "source": [
    "# clicking on the iphone\n",
    "iphone_click = driver.find_element(By.CLASS_NAME,\"_4rR01T\")\n",
    "iphone_click.click()"
   ]
  },
  {
   "cell_type": "code",
   "execution_count": 157,
   "id": "ea769bdb",
   "metadata": {},
   "outputs": [],
   "source": [
    "driver.get('https://www.flipkart.com/apple-iphone-11-black-128-gb/p/itm8244e8d955aba?pid=MOBFWQ6BKRYBP5X8&lid=LSTMOBFWQ6BKRYBP5X8IBG6BS&marketplace=FLIPKART&q=iphone+11&store=tyy%2F4io&srno=s_1_1&otracker=search&otracker1=search&fm=organic&iid=44528617-544d-47c9-851e-4bb11c9ad6a3.MOBFWQ6BKRYBP5X8.SEARCH&ppt=hp&ppn=homepage&ssid=lgl8tr5ksw0000001664697462171&qH=f6cdfdaa9f3c23f3')\n"
   ]
  },
  {
   "cell_type": "code",
   "execution_count": 158,
   "id": "e7401812",
   "metadata": {},
   "outputs": [],
   "source": [
    "all_reviews = driver.find_element(By.XPATH,'//div[@class=\"_3UAT2v _16PBlm\"]')\n",
    "all_reviews.click()"
   ]
  },
  {
   "cell_type": "code",
   "execution_count": 159,
   "id": "78f2ed6f",
   "metadata": {},
   "outputs": [],
   "source": [
    "ratings = []\n",
    "review_summary = []\n",
    "review = []"
   ]
  },
  {
   "cell_type": "code",
   "execution_count": 196,
   "id": "353df5dd",
   "metadata": {},
   "outputs": [],
   "source": [
    "rating_tags = driver.find_elements(By.XPATH,'//div[@class=\"_3LWZlK _1BLPMq\"]')\n",
    "for i in rating_tags:\n",
    "    ratings.append(i.text)\n",
    "    \n",
    "summary_tags = driver.find_elements(By.XPATH,'//p[@class=\"_2-N8zT\"]')\n",
    "for i in summary_tags:\n",
    "    review_summary.append(i.text)\n",
    "    \n",
    "review_tags = driver.find_elements(By.XPATH,'//div[@class=\"t-ZTKy\"]')\n",
    "for i in review_tags:\n",
    "    review.append(i.text)"
   ]
  },
  {
   "cell_type": "code",
   "execution_count": 197,
   "id": "d8736fff",
   "metadata": {},
   "outputs": [
    {
     "name": "stdout",
     "output_type": "stream",
     "text": [
      "100 103 103\n"
     ]
    }
   ],
   "source": [
    "print(len(ratings),len(review_summary),len(review))"
   ]
  },
  {
   "cell_type": "code",
   "execution_count": 162,
   "id": "0b2516cd",
   "metadata": {},
   "outputs": [
    {
     "data": {
      "text/plain": [
       "['5', '4', '5', '5', '5', '5', '5', '5', '5', '5']"
      ]
     },
     "execution_count": 162,
     "metadata": {},
     "output_type": "execute_result"
    }
   ],
   "source": [
    "ratings"
   ]
  },
  {
   "cell_type": "code",
   "execution_count": 163,
   "id": "9f1a3fca",
   "metadata": {},
   "outputs": [],
   "source": [
    "sec_page = driver.find_element(By.XPATH,'/html/body/div[1]/div/div[3]/div/div/div[2]/div[13]/div/div/nav/a[2]')\n",
    "sec_page.click()"
   ]
  },
  {
   "cell_type": "code",
   "execution_count": 166,
   "id": "ec938e62",
   "metadata": {},
   "outputs": [],
   "source": [
    "third_page = driver.find_element(By.XPATH,'/html/body/div[1]/div/div[3]/div/div/div[2]/div[13]/div/div/nav/a[4]')\n",
    "third_page.click()"
   ]
  },
  {
   "cell_type": "code",
   "execution_count": 169,
   "id": "6c30fa8a",
   "metadata": {},
   "outputs": [],
   "source": [
    "fourth_page = driver.find_element(By.XPATH,'/html/body/div[1]/div/div[3]/div/div/div[2]/div[13]/div/div/nav/a[5]')\n",
    "fourth_page.click() "
   ]
  },
  {
   "cell_type": "code",
   "execution_count": 172,
   "id": "9edb5e77",
   "metadata": {},
   "outputs": [],
   "source": [
    "fifth_page = driver.find_element(By.XPATH,'/html/body/div[1]/div/div[3]/div/div/div[2]/div[13]/div/div/nav/a[6]')\n",
    "fifth_page.click() "
   ]
  },
  {
   "cell_type": "code",
   "execution_count": 175,
   "id": "f7a59117",
   "metadata": {},
   "outputs": [],
   "source": [
    "sixth_page = driver.find_element(By.XPATH,'/html/body/div[1]/div/div[3]/div/div/div[2]/div[13]/div/div/nav/a[7]')\n",
    "sixth_page.click() "
   ]
  },
  {
   "cell_type": "code",
   "execution_count": 178,
   "id": "9e868f34",
   "metadata": {},
   "outputs": [],
   "source": [
    "seventh_page = driver.find_element(By.XPATH,'/html/body/div[1]/div/div[3]/div/div/div[2]/div[13]/div/div/nav/a[8]')\n",
    "seventh_page.click() "
   ]
  },
  {
   "cell_type": "code",
   "execution_count": 181,
   "id": "2eb2c28b",
   "metadata": {},
   "outputs": [],
   "source": [
    "eighth_page = driver.find_element(By.XPATH,'/html/body/div[1]/div/div[3]/div/div/div[2]/div[13]/div/div/nav/a[7]')\n",
    "eighth_page.click() "
   ]
  },
  {
   "cell_type": "code",
   "execution_count": 184,
   "id": "0ef9edbf",
   "metadata": {},
   "outputs": [],
   "source": [
    "nineth_page = driver.find_element(By.XPATH,'/html/body/div[1]/div/div[3]/div/div/div[2]/div[13]/div/div/nav/a[7]')\n",
    "nineth_page.click() "
   ]
  },
  {
   "cell_type": "code",
   "execution_count": 189,
   "id": "040196ba",
   "metadata": {},
   "outputs": [],
   "source": [
    "tenth_page = driver.find_element(By.XPATH,'/html/body/div[1]/div/div[3]/div/div/div[2]/div[13]/div/div/nav/a[7]')\n",
    "tenth_page.click() "
   ]
  },
  {
   "cell_type": "code",
   "execution_count": 192,
   "id": "445dd9ee",
   "metadata": {},
   "outputs": [],
   "source": [
    "missing_page = driver.find_element(By.XPATH,'/html/body/div[1]/div/div[3]/div/div/div[2]/div[6]/div/div/nav/a[7]')\n",
    "missing_page.click() "
   ]
  },
  {
   "cell_type": "code",
   "execution_count": 195,
   "id": "934da962",
   "metadata": {},
   "outputs": [],
   "source": [
    "another_page = driver.find_element(By.XPATH,'/html/body/div[1]/div/div[3]/div/div/div[2]/div[8]/div/div/nav/a[7]')\n",
    "another_page.click()"
   ]
  },
  {
   "cell_type": "code",
   "execution_count": 198,
   "id": "72a9c183",
   "metadata": {},
   "outputs": [
    {
     "name": "stdout",
     "output_type": "stream",
     "text": [
      "100 103 103\n"
     ]
    }
   ],
   "source": [
    "print(len(ratings),len(review_summary),len(review)) "
   ]
  },
  {
   "cell_type": "markdown",
   "id": "15f20032",
   "metadata": {},
   "source": [
    "## Q6: Scrape data for first 100 sneakers you find when you visit flipkart.com and search for “sneakers” in the\n",
    "## search field.\n",
    "### You have to scrape 4 attributes of each sneaker:\n",
    "### 1. Brand\n",
    "### 2. Product Description\n",
    "### 3. Price\n"
   ]
  },
  {
   "cell_type": "code",
   "execution_count": 239,
   "id": "8e4af3e9",
   "metadata": {},
   "outputs": [],
   "source": [
    "driver = webdriver.Chrome(r\"C:\\Users\\deeks\\Downloads\\chromedriver_win32\\chromedriver.exe\") # connecting to the driver\n",
    "time.sleep(2)"
   ]
  },
  {
   "cell_type": "code",
   "execution_count": 240,
   "id": "79c7423b",
   "metadata": {},
   "outputs": [],
   "source": [
    "driver.get('https://www.flipkart.com/')\n",
    "time.sleep(2)"
   ]
  },
  {
   "cell_type": "code",
   "execution_count": 241,
   "id": "0bb5d080",
   "metadata": {},
   "outputs": [],
   "source": [
    "sneakers_search = driver.find_element(By.CLASS_NAME,\"_3704LK\")\n",
    "sneakers_search.send_keys('sneakers')"
   ]
  },
  {
   "cell_type": "code",
   "execution_count": 242,
   "id": "2e3659a3",
   "metadata": {},
   "outputs": [],
   "source": [
    "srch_btn = driver.find_element(By.CLASS_NAME,\"L0Z3Pu\")\n",
    "srch_btn.click()"
   ]
  },
  {
   "cell_type": "code",
   "execution_count": 245,
   "id": "5482e347",
   "metadata": {},
   "outputs": [],
   "source": [
    "sneak_brands = []\n",
    "product_description = []\n",
    "PRice = []\n",
    "Discount = []"
   ]
  },
  {
   "cell_type": "code",
   "execution_count": 246,
   "id": "950972f1",
   "metadata": {},
   "outputs": [],
   "source": [
    "# Iterating through the tags and appending in our lists\n",
    "for i in range(3):\n",
    "    b_name=driver.find_elements(By.XPATH,\"//div[@class='_2WkVRV']\")\n",
    "    p_desc=driver.find_elements(By.XPATH,\"//a[@class='IRpwTa']\")\n",
    "    price =driver.find_elements(By.XPATH,\"//div[@class='_25b18c']\")\n",
    "    discount=driver.find_elements(By.XPATH,\"//div[@class='_3Ay6Sb']\")\n",
    "    \n",
    "    for j  in b_name:\n",
    "        sneak_brands.append(j.text)\n",
    "        sneak_brands[:100]    \n",
    "    \n",
    "    \n",
    "    \n",
    "    for k in p_desc:\n",
    "        product_description.append(k.text)\n",
    "        product_description[:100] \n",
    "    \n",
    "    \n",
    "    for l in price:\n",
    "        PRice.append(l.text)\n",
    "        PRice[:100] \n",
    "    \n",
    "    \n",
    "    for t in discount:\n",
    "        Discount.append(t.text)\n",
    "        Discount[:100]"
   ]
  },
  {
   "cell_type": "code",
   "execution_count": 248,
   "id": "4dfcc6a9",
   "metadata": {},
   "outputs": [
    {
     "name": "stdout",
     "output_type": "stream",
     "text": [
      "120 114 135 120\n"
     ]
    }
   ],
   "source": [
    "print(len(sneak_brands),len(product_description),len(PRice),len(Discount))"
   ]
  },
  {
   "cell_type": "code",
   "execution_count": 251,
   "id": "58906a37",
   "metadata": {},
   "outputs": [
    {
     "data": {
      "text/html": [
       "<div>\n",
       "<style scoped>\n",
       "    .dataframe tbody tr th:only-of-type {\n",
       "        vertical-align: middle;\n",
       "    }\n",
       "\n",
       "    .dataframe tbody tr th {\n",
       "        vertical-align: top;\n",
       "    }\n",
       "\n",
       "    .dataframe thead th {\n",
       "        text-align: right;\n",
       "    }\n",
       "</style>\n",
       "<table border=\"1\" class=\"dataframe\">\n",
       "  <thead>\n",
       "    <tr style=\"text-align: right;\">\n",
       "      <th></th>\n",
       "      <th>Brand</th>\n",
       "      <th>Product_description</th>\n",
       "      <th>Price</th>\n",
       "      <th>Discount</th>\n",
       "    </tr>\n",
       "  </thead>\n",
       "  <tbody>\n",
       "    <tr>\n",
       "      <th>0</th>\n",
       "      <td>Alquwex</td>\n",
       "      <td>Sneakers For Men</td>\n",
       "      <td>₹524₹1,19956% off</td>\n",
       "      <td>56% off</td>\n",
       "    </tr>\n",
       "    <tr>\n",
       "      <th>1</th>\n",
       "      <td>RapidBox</td>\n",
       "      <td>Modern Trendy Shoes Sneakers For Men</td>\n",
       "      <td>₹580₹99941% off</td>\n",
       "      <td>41% off</td>\n",
       "    </tr>\n",
       "    <tr>\n",
       "      <th>2</th>\n",
       "      <td>BRUTON</td>\n",
       "      <td>Sneakers For Men</td>\n",
       "      <td>₹470₹1,29963% off</td>\n",
       "      <td>63% off</td>\n",
       "    </tr>\n",
       "    <tr>\n",
       "      <th>3</th>\n",
       "      <td>RED TAPE</td>\n",
       "      <td>Sneakers For Men</td>\n",
       "      <td>₹1,499₹4,99970% off</td>\n",
       "      <td>70% off</td>\n",
       "    </tr>\n",
       "    <tr>\n",
       "      <th>4</th>\n",
       "      <td>Labbin</td>\n",
       "      <td>Lightweight Pack Of 1 Trendy Sneakers Sneakers...</td>\n",
       "      <td>₹499₹99950% off</td>\n",
       "      <td>50% off</td>\n",
       "    </tr>\n",
       "    <tr>\n",
       "      <th>...</th>\n",
       "      <td>...</td>\n",
       "      <td>...</td>\n",
       "      <td>...</td>\n",
       "      <td>...</td>\n",
       "    </tr>\n",
       "    <tr>\n",
       "      <th>95</th>\n",
       "      <td>Robbie jones</td>\n",
       "      <td>Casuals, Canvas, Partywear Sneakers For Men</td>\n",
       "      <td>₹259₹59956% off</td>\n",
       "      <td>45% off</td>\n",
       "    </tr>\n",
       "    <tr>\n",
       "      <th>96</th>\n",
       "      <td>Shozie</td>\n",
       "      <td>Sneakers For Men</td>\n",
       "      <td>₹298₹49940% off</td>\n",
       "      <td>52% off</td>\n",
       "    </tr>\n",
       "    <tr>\n",
       "      <th>97</th>\n",
       "      <td>Deals4you</td>\n",
       "      <td>Sneaker Sneakers For Men</td>\n",
       "      <td>₹590₹99940% off</td>\n",
       "      <td>61% off</td>\n",
       "    </tr>\n",
       "    <tr>\n",
       "      <th>98</th>\n",
       "      <td>Magnolia</td>\n",
       "      <td>denim fabric shoes men and boys canvas sneaker...</td>\n",
       "      <td>₹1,499₹4,99970% off</td>\n",
       "      <td>55% off</td>\n",
       "    </tr>\n",
       "    <tr>\n",
       "      <th>99</th>\n",
       "      <td>Shozie</td>\n",
       "      <td>Sneakers Sneakers For Men</td>\n",
       "      <td>₹499₹99950% off</td>\n",
       "      <td>50% off</td>\n",
       "    </tr>\n",
       "  </tbody>\n",
       "</table>\n",
       "<p>100 rows × 4 columns</p>\n",
       "</div>"
      ],
      "text/plain": [
       "           Brand                                Product_description  \\\n",
       "0        Alquwex                                   Sneakers For Men   \n",
       "1       RapidBox               Modern Trendy Shoes Sneakers For Men   \n",
       "2         BRUTON                                   Sneakers For Men   \n",
       "3       RED TAPE                                   Sneakers For Men   \n",
       "4         Labbin  Lightweight Pack Of 1 Trendy Sneakers Sneakers...   \n",
       "..           ...                                                ...   \n",
       "95  Robbie jones        Casuals, Canvas, Partywear Sneakers For Men   \n",
       "96        Shozie                                   Sneakers For Men   \n",
       "97     Deals4you                           Sneaker Sneakers For Men   \n",
       "98      Magnolia  denim fabric shoes men and boys canvas sneaker...   \n",
       "99        Shozie                          Sneakers Sneakers For Men   \n",
       "\n",
       "                  Price Discount  \n",
       "0     ₹524₹1,19956% off  56% off  \n",
       "1       ₹580₹99941% off  41% off  \n",
       "2     ₹470₹1,29963% off  63% off  \n",
       "3   ₹1,499₹4,99970% off  70% off  \n",
       "4       ₹499₹99950% off  50% off  \n",
       "..                  ...      ...  \n",
       "95      ₹259₹59956% off  45% off  \n",
       "96      ₹298₹49940% off  52% off  \n",
       "97      ₹590₹99940% off  61% off  \n",
       "98  ₹1,499₹4,99970% off  55% off  \n",
       "99      ₹499₹99950% off  50% off  \n",
       "\n",
       "[100 rows x 4 columns]"
      ]
     },
     "execution_count": 251,
     "metadata": {},
     "output_type": "execute_result"
    }
   ],
   "source": [
    "#storing in dataframe\n",
    "sneak_df = pd.DataFrame({'Brand':sneak_brands[:100],'Product_description':product_description[:100],'Price':PRice[:100],'Discount':Discount[:100]})\n",
    "sneak_df"
   ]
  },
  {
   "cell_type": "markdown",
   "id": "82d69530",
   "metadata": {},
   "source": [
    "## Q7) Go to the link - https://www.myntra.com/shoes\n",
    "### Set second Price filter and Color filter to “Black”"
   ]
  },
  {
   "cell_type": "code",
   "execution_count": 281,
   "id": "44f92d5c",
   "metadata": {},
   "outputs": [],
   "source": [
    "driver = webdriver.Chrome(r\"C:\\Users\\deeks\\Downloads\\chromedriver_win32\\chromedriver.exe\") # connecting to the driver\n",
    "time.sleep(2)"
   ]
  },
  {
   "cell_type": "code",
   "execution_count": 282,
   "id": "f16423b9",
   "metadata": {},
   "outputs": [],
   "source": [
    "driver.get('https://www.myntra.com/shoes')\n",
    "time.sleep(2)"
   ]
  },
  {
   "cell_type": "code",
   "execution_count": 283,
   "id": "b5b617ee",
   "metadata": {},
   "outputs": [],
   "source": [
    "check_sec_price = driver.find_element(By.XPATH,'/html/body/div[2]/div/div[1]/main/div[3]/div[1]/section/div/div[5]/ul/li[2]/label')\n",
    "check_sec_price.click()"
   ]
  },
  {
   "cell_type": "code",
   "execution_count": 284,
   "id": "624c34be",
   "metadata": {},
   "outputs": [],
   "source": [
    "black_filter = driver.find_element(By.XPATH,'/html/body/div[2]/div/div[1]/main/div[3]/div[1]/section/div/div[6]/ul/li[1]')\n",
    "black_filter.click()"
   ]
  },
  {
   "cell_type": "code",
   "execution_count": 285,
   "id": "e4c1fb17",
   "metadata": {},
   "outputs": [],
   "source": [
    "shoe_brand = []\n",
    "descr = []\n",
    "PRIce = []"
   ]
  },
  {
   "cell_type": "code",
   "execution_count": 289,
   "id": "dae22fc8",
   "metadata": {},
   "outputs": [],
   "source": [
    "shoe_tags = driver.find_elements(By.XPATH,'//h3[@class=\"product-brand\"]')\n",
    "for i in shoe_tags:\n",
    "    shoe_brand.append(i.text)\n",
    "    \n",
    "    \n",
    "descr_tags = driver.find_elements(By.XPATH,'//h4[@class=\"product-product\"]')\n",
    "for i in descr_tags:\n",
    "    descr.append(i.text)\n",
    "  \n",
    "    \n",
    "prce_tags = driver.find_elements(By.XPATH,'//div[@class=\"product-price\"]')\n",
    "for i in prce_tags:\n",
    "    PRIce.append(i.text)\n",
    "   "
   ]
  },
  {
   "cell_type": "code",
   "execution_count": 290,
   "id": "81c0319f",
   "metadata": {},
   "outputs": [
    {
     "name": "stdout",
     "output_type": "stream",
     "text": [
      "100 100 100\n"
     ]
    }
   ],
   "source": [
    "print(len(shoe_brand),len(descr),len(PRIce))"
   ]
  },
  {
   "cell_type": "code",
   "execution_count": 288,
   "id": "76c8f025",
   "metadata": {},
   "outputs": [],
   "source": [
    "next_page1 = driver.find_element(By.XPATH,'//li[@class=\"pagination-number\"]')\n",
    "next_page1.click()"
   ]
  },
  {
   "cell_type": "code",
   "execution_count": 291,
   "id": "99f4268f",
   "metadata": {},
   "outputs": [
    {
     "data": {
      "text/html": [
       "<div>\n",
       "<style scoped>\n",
       "    .dataframe tbody tr th:only-of-type {\n",
       "        vertical-align: middle;\n",
       "    }\n",
       "\n",
       "    .dataframe tbody tr th {\n",
       "        vertical-align: top;\n",
       "    }\n",
       "\n",
       "    .dataframe thead th {\n",
       "        text-align: right;\n",
       "    }\n",
       "</style>\n",
       "<table border=\"1\" class=\"dataframe\">\n",
       "  <thead>\n",
       "    <tr style=\"text-align: right;\">\n",
       "      <th></th>\n",
       "      <th>Brand</th>\n",
       "      <th>Description</th>\n",
       "      <th>Price</th>\n",
       "    </tr>\n",
       "  </thead>\n",
       "  <tbody>\n",
       "    <tr>\n",
       "      <th>0</th>\n",
       "      <td>Skechers</td>\n",
       "      <td>Men GO WALK - TERRA Shoes</td>\n",
       "      <td>Rs. 8499Rs. 9999(15% OFF)</td>\n",
       "    </tr>\n",
       "    <tr>\n",
       "      <th>1</th>\n",
       "      <td>ADIDAS</td>\n",
       "      <td>Men 4DFWD_Pulse Running Shoes</td>\n",
       "      <td>Rs. 11199Rs. 15999(30% OFF)</td>\n",
       "    </tr>\n",
       "    <tr>\n",
       "      <th>2</th>\n",
       "      <td>Skechers</td>\n",
       "      <td>Men Go Run Hyper Burst Running</td>\n",
       "      <td>Rs. 7224Rs. 8499(15% OFF)</td>\n",
       "    </tr>\n",
       "    <tr>\n",
       "      <th>3</th>\n",
       "      <td>ADIDAS Originals</td>\n",
       "      <td>Men ZX 22 BOOST Sneakers</td>\n",
       "      <td>Rs. 10199Rs. 11999(15% OFF)</td>\n",
       "    </tr>\n",
       "    <tr>\n",
       "      <th>4</th>\n",
       "      <td>UNDER ARMOUR</td>\n",
       "      <td>Men HOVR SonicSE Running Shoes</td>\n",
       "      <td>Rs. 8499Rs. 9999(15% OFF)</td>\n",
       "    </tr>\n",
       "    <tr>\n",
       "      <th>...</th>\n",
       "      <td>...</td>\n",
       "      <td>...</td>\n",
       "      <td>...</td>\n",
       "    </tr>\n",
       "    <tr>\n",
       "      <th>95</th>\n",
       "      <td>ALDO</td>\n",
       "      <td>Textured Block Sandals</td>\n",
       "      <td>Rs. 7999</td>\n",
       "    </tr>\n",
       "    <tr>\n",
       "      <th>96</th>\n",
       "      <td>Tommy Hilfiger</td>\n",
       "      <td>Men Leather Sneakers</td>\n",
       "      <td>Rs. 6509Rs. 9299(30% OFF)</td>\n",
       "    </tr>\n",
       "    <tr>\n",
       "      <th>97</th>\n",
       "      <td>fitflop</td>\n",
       "      <td>Embellished PU Comfort Pumps</td>\n",
       "      <td>Rs. 7499</td>\n",
       "    </tr>\n",
       "    <tr>\n",
       "      <th>98</th>\n",
       "      <td>ALDO</td>\n",
       "      <td>Women Leather Horsebit Loafers</td>\n",
       "      <td>Rs. 11999</td>\n",
       "    </tr>\n",
       "    <tr>\n",
       "      <th>99</th>\n",
       "      <td>ALDO</td>\n",
       "      <td>Men Sneakers</td>\n",
       "      <td>Rs. 10999</td>\n",
       "    </tr>\n",
       "  </tbody>\n",
       "</table>\n",
       "<p>100 rows × 3 columns</p>\n",
       "</div>"
      ],
      "text/plain": [
       "               Brand                     Description  \\\n",
       "0           Skechers       Men GO WALK - TERRA Shoes   \n",
       "1             ADIDAS   Men 4DFWD_Pulse Running Shoes   \n",
       "2           Skechers  Men Go Run Hyper Burst Running   \n",
       "3   ADIDAS Originals        Men ZX 22 BOOST Sneakers   \n",
       "4       UNDER ARMOUR  Men HOVR SonicSE Running Shoes   \n",
       "..               ...                             ...   \n",
       "95              ALDO          Textured Block Sandals   \n",
       "96    Tommy Hilfiger            Men Leather Sneakers   \n",
       "97           fitflop    Embellished PU Comfort Pumps   \n",
       "98              ALDO  Women Leather Horsebit Loafers   \n",
       "99              ALDO                    Men Sneakers   \n",
       "\n",
       "                          Price  \n",
       "0     Rs. 8499Rs. 9999(15% OFF)  \n",
       "1   Rs. 11199Rs. 15999(30% OFF)  \n",
       "2     Rs. 7224Rs. 8499(15% OFF)  \n",
       "3   Rs. 10199Rs. 11999(15% OFF)  \n",
       "4     Rs. 8499Rs. 9999(15% OFF)  \n",
       "..                          ...  \n",
       "95                     Rs. 7999  \n",
       "96    Rs. 6509Rs. 9299(30% OFF)  \n",
       "97                     Rs. 7499  \n",
       "98                    Rs. 11999  \n",
       "99                    Rs. 10999  \n",
       "\n",
       "[100 rows x 3 columns]"
      ]
     },
     "execution_count": 291,
     "metadata": {},
     "output_type": "execute_result"
    }
   ],
   "source": [
    "# Making A DATAFRAME\n",
    "myntra_df = pd.DataFrame({'Brand':shoe_brand,'Description':descr,'Price':PRIce})\n",
    "myntra_df"
   ]
  },
  {
   "cell_type": "markdown",
   "id": "2792985e",
   "metadata": {},
   "source": [
    "## Q8: Go to webpage https://www.amazon.in/\n",
    "### Enter “Laptop” in the search field and then click the search icon.\n",
    "### Then set CPU Type filter to “Intel Core i7” "
   ]
  },
  {
   "cell_type": "code",
   "execution_count": 457,
   "id": "d3c70e4b",
   "metadata": {},
   "outputs": [],
   "source": [
    "driver = webdriver.Chrome(r\"C:\\Users\\deeks\\Downloads\\chromedriver_win32\\chromedriver.exe\") # connecting to the driver\n",
    "time.sleep(2)"
   ]
  },
  {
   "cell_type": "code",
   "execution_count": 458,
   "id": "8ba0e8a9",
   "metadata": {},
   "outputs": [],
   "source": [
    "driver.get('https://www.amazon.in/')\n",
    "time.sleep(2)"
   ]
  },
  {
   "cell_type": "code",
   "execution_count": 294,
   "id": "56310f53",
   "metadata": {},
   "outputs": [],
   "source": [
    "search_laptop = driver.find_element(By.XPATH,\"//input[@type='text']\")\n",
    "search_laptop.send_keys('Laptop')"
   ]
  },
  {
   "cell_type": "code",
   "execution_count": 296,
   "id": "fa5ed5e3",
   "metadata": {},
   "outputs": [],
   "source": [
    "searchbtn = driver.find_element(By.XPATH,\"//input[@id='nav-search-submit-button']\")\n",
    "searchbtn.click()"
   ]
  },
  {
   "cell_type": "code",
   "execution_count": 298,
   "id": "35dcaab5",
   "metadata": {},
   "outputs": [],
   "source": [
    "filter_Cpu = driver.find_element(By.XPATH,'/html/body/div[1]/div[2]/div[1]/div[2]/div/div[3]/span/div[1]/div/div/div[6]/ul[5]/li[11]/span/a/span')\n",
    "filter_Cpu.click()"
   ]
  },
  {
   "cell_type": "code",
   "execution_count": 301,
   "id": "45406391",
   "metadata": {},
   "outputs": [],
   "source": [
    "Title=[]\n",
    "PrIce=[]\n",
    "RAting=[]"
   ]
  },
  {
   "cell_type": "code",
   "execution_count": 302,
   "id": "4ad6a7d6",
   "metadata": {},
   "outputs": [],
   "source": [
    "tit_tags = driver.find_elements(By.XPATH,'//h2[@class=\"a-size-mini a-spacing-none a-color-base s-line-clamp-2\"]')\n",
    "for i in tit_tags[:10]:\n",
    "    Title.append(i.text)\n",
    "    \n",
    "    \n",
    "pr_tags = driver.find_elements(By.XPATH,'//span[@class=\"a-price-whole\"]')\n",
    "for i in pr_tags[:10]:\n",
    "    PrIce.append(i.text)\n",
    "  \n",
    "    \n",
    "Rat_tags = driver.find_elements(By.XPATH,'//span[@class=\"a-icon-alt\"]')\n",
    "for i in Rat_tags[:10]:\n",
    "    RAting.append(i.text)\n",
    "   "
   ]
  },
  {
   "cell_type": "code",
   "execution_count": 303,
   "id": "16ed62ad",
   "metadata": {},
   "outputs": [
    {
     "name": "stdout",
     "output_type": "stream",
     "text": [
      "10 10 10\n"
     ]
    }
   ],
   "source": [
    "print(len(Title),len(PrIce),len(RAting))"
   ]
  },
  {
   "cell_type": "markdown",
   "id": "92ef41a1",
   "metadata": {},
   "source": [
    "## Q10: Write a python program to scrape the salary data for Data Scientist designation.\n",
    "### You have to scrape Company name, Number of salaries, Average salary, Minsalary, Max Salary. "
   ]
  },
  {
   "cell_type": "code",
   "execution_count": 494,
   "id": "216777e2",
   "metadata": {},
   "outputs": [],
   "source": [
    "driver = webdriver.Chrome(r\"C:\\Users\\deeks\\Downloads\\chromedriver_win32\\chromedriver.exe\") # connecting to the driver\n",
    "time.sleep(2)"
   ]
  },
  {
   "cell_type": "code",
   "execution_count": 495,
   "id": "2b312175",
   "metadata": {},
   "outputs": [],
   "source": [
    "driver.get('https://www.ambitionbox.com/')\n",
    "time.sleep(2)"
   ]
  },
  {
   "cell_type": "code",
   "execution_count": 496,
   "id": "b80cd646",
   "metadata": {},
   "outputs": [],
   "source": [
    "clickon_salry = driver.find_element(By.XPATH,'/html/body/div/div/div/div[1]/header/nav/ul/li[3]')"
   ]
  },
  {
   "cell_type": "code",
   "execution_count": 497,
   "id": "c44939bf",
   "metadata": {},
   "outputs": [],
   "source": [
    "from selenium.webdriver import ActionChains # using actionchains module"
   ]
  },
  {
   "cell_type": "code",
   "execution_count": 498,
   "id": "328e823e",
   "metadata": {},
   "outputs": [],
   "source": [
    "actions = ActionChains(driver)"
   ]
  },
  {
   "cell_type": "code",
   "execution_count": 499,
   "id": "98707fed",
   "metadata": {},
   "outputs": [],
   "source": [
    "actions.move_to_element(clickon_salry).perform() # chaining the tags to hover and click on the salries\n",
    "time.sleep(2)\n",
    "driver.find_element(By.XPATH,'/html/body/div/div/div/div[1]/header/nav/ul/li[3]/div/ul/li[1]/div/div[2]/a').click()"
   ]
  },
  {
   "cell_type": "code",
   "execution_count": 500,
   "id": "48cf871b",
   "metadata": {},
   "outputs": [],
   "source": [
    "salar_search =  driver.find_element(By.XPATH,'//input[@id=\"jobProfileSearchbox\"]')\n",
    "salar_search.send_keys('Data Scientist')\n",
    "time.sleep(2)\n",
    "driver.find_element(By.XPATH,'//div[@class=\"suggestion_wrap tt-suggestion tt-selectable\"]').click()"
   ]
  },
  {
   "cell_type": "code",
   "execution_count": 561,
   "id": "7d212e80",
   "metadata": {},
   "outputs": [],
   "source": [
    "Title_tags = []\n",
    "EXperience = []\n",
    "Min_sal = []\n",
    "Max_sal = []\n",
    "Avg_sal = []"
   ]
  },
  {
   "cell_type": "code",
   "execution_count": 562,
   "id": "af681cbe",
   "metadata": {},
   "outputs": [],
   "source": [
    "tittle_taggs = driver.find_elements(By.XPATH,'//div[@class=\"company-info\"]')\n",
    "for i in tittle_taggs:\n",
    "    Title_tags.append(i.text.replace('\\n','').split())"
   ]
  },
  {
   "cell_type": "code",
   "execution_count": 563,
   "id": "d0babfb2",
   "metadata": {},
   "outputs": [],
   "source": [
    "Title_tags = Title_tags[0:10]"
   ]
  },
  {
   "cell_type": "code",
   "execution_count": 565,
   "id": "29202410",
   "metadata": {},
   "outputs": [],
   "source": [
    "exp_tags =  driver.find_elements(By.XPATH,'//div[@class=\"sbold-list-header\"]')\n",
    "for i in exp_tags:\n",
    "    EXperience.append(i.text)"
   ]
  },
  {
   "cell_type": "code",
   "execution_count": 566,
   "id": "f0deb325",
   "metadata": {},
   "outputs": [
    {
     "data": {
      "text/plain": [
       "['3-4 yrs experience (based on 24 salaries)',\n",
       " '2-4 yrs experience (based on 59 salaries)',\n",
       " '2-4 yrs experience (based on 49 salaries)',\n",
       " '1-2 yrs experience (based on 35 salaries)',\n",
       " '2-4 yrs experience (based on 118 salaries)',\n",
       " '1 yr experience (based on 10 salaries)',\n",
       " '2-4 yrs experience (based on 70 salaries)',\n",
       " '4 yrs experience (based on 11 salaries)',\n",
       " '4 yrs experience (based on 10 salaries)',\n",
       " '3 yrs experience (based on 14 salaries)']"
      ]
     },
     "execution_count": 566,
     "metadata": {},
     "output_type": "execute_result"
    }
   ],
   "source": [
    "EXperience"
   ]
  },
  {
   "cell_type": "code",
   "execution_count": 578,
   "id": "b5aff5b2",
   "metadata": {},
   "outputs": [],
   "source": [
    "sal_minmax = []"
   ]
  },
  {
   "cell_type": "code",
   "execution_count": 579,
   "id": "72d6a8c3",
   "metadata": {},
   "outputs": [],
   "source": [
    "sal_minmax_tags = driver.find_elements(By.XPATH,'//div[@class=\"value body-medium\"]')\n",
    "for i in sal_minmax_tags:\n",
    "    sal_minmax.append(i.text)\n",
    "    "
   ]
  },
  {
   "cell_type": "code",
   "execution_count": 580,
   "id": "a9ebc104",
   "metadata": {},
   "outputs": [
    {
     "data": {
      "text/plain": [
       "['₹ 25.0L',\n",
       " '₹ 45.0L',\n",
       " '₹ 15.0L',\n",
       " '₹ 26.0L',\n",
       " '₹ 11.0L',\n",
       " '₹ 22.6L',\n",
       " '₹ 11.0L',\n",
       " '₹ 22.0L',\n",
       " '₹ 9.0L',\n",
       " '₹ 23.0L',\n",
       " '₹ 12.7L',\n",
       " '₹ 19.7L',\n",
       " '₹ 9.0L',\n",
       " '₹ 20.0L',\n",
       " '₹ 11.0L',\n",
       " '₹ 20.0L',\n",
       " '₹ 12.0L',\n",
       " '₹ 18.0L',\n",
       " '₹ 8.8L',\n",
       " '₹ 17.5L']"
      ]
     },
     "execution_count": 580,
     "metadata": {},
     "output_type": "execute_result"
    }
   ],
   "source": [
    "sal_minmax"
   ]
  },
  {
   "cell_type": "code",
   "execution_count": 581,
   "id": "e64d9033",
   "metadata": {},
   "outputs": [
    {
     "data": {
      "text/plain": [
       "['₹ 25.0L',\n",
       " '₹ 15.0L',\n",
       " '₹ 11.0L',\n",
       " '₹ 11.0L',\n",
       " '₹ 9.0L',\n",
       " '₹ 12.7L',\n",
       " '₹ 9.0L',\n",
       " '₹ 11.0L',\n",
       " '₹ 12.0L',\n",
       " '₹ 8.8L']"
      ]
     },
     "execution_count": 581,
     "metadata": {},
     "output_type": "execute_result"
    }
   ],
   "source": [
    "for i in range(0,len(sal_minmax),2):\n",
    "    \n",
    "    Min_sal.append((sal_minmax[i]))\n",
    "\n",
    "Min_sal # This is the minimum salary"
   ]
  },
  {
   "cell_type": "code",
   "execution_count": 582,
   "id": "519d1cf6",
   "metadata": {},
   "outputs": [
    {
     "data": {
      "text/plain": [
       "['₹ 45.0L',\n",
       " '₹ 26.0L',\n",
       " '₹ 22.6L',\n",
       " '₹ 22.0L',\n",
       " '₹ 23.0L',\n",
       " '₹ 19.7L',\n",
       " '₹ 20.0L',\n",
       " '₹ 20.0L',\n",
       " '₹ 18.0L',\n",
       " '₹ 17.5L']"
      ]
     },
     "execution_count": 582,
     "metadata": {},
     "output_type": "execute_result"
    }
   ],
   "source": [
    "for i in range(1,len(sal_minmax),2):\n",
    "    \n",
    "    Max_sal.append((sal_minmax[i]))\n",
    "\n",
    "Max_sal # This is the minimum salary # This is maximum salary"
   ]
  },
  {
   "cell_type": "code",
   "execution_count": 583,
   "id": "79ad9439",
   "metadata": {},
   "outputs": [],
   "source": [
    "# Avg salary\n",
    "avg_tags =  driver.find_elements(By.XPATH,'//p[@class=\"averageCtc\"]')\n",
    "for i in avg_tags:\n",
    "    Avg_sal.append(i.text) # Average Salary"
   ]
  },
  {
   "cell_type": "code",
   "execution_count": 584,
   "id": "9cfb37b8",
   "metadata": {},
   "outputs": [
    {
     "data": {
      "text/plain": [
       "['₹ 32.2L',\n",
       " '₹ 19.8L',\n",
       " '₹ 16.4L',\n",
       " '₹ 15.9L',\n",
       " '₹ 15.5L',\n",
       " '₹ 14.7L',\n",
       " '₹ 14.6L',\n",
       " '₹ 14.5L',\n",
       " '₹ 14.0L',\n",
       " '₹ 13.9L']"
      ]
     },
     "execution_count": 584,
     "metadata": {},
     "output_type": "execute_result"
    }
   ],
   "source": [
    "Avg_sal"
   ]
  },
  {
   "cell_type": "code",
   "execution_count": 586,
   "id": "f52d053b",
   "metadata": {},
   "outputs": [
    {
     "name": "stdout",
     "output_type": "stream",
     "text": [
      "10 10 10 10\n"
     ]
    }
   ],
   "source": [
    "print(len(EXperience),len(Min_sal),len(Max_sal),len(Avg_sal))"
   ]
  },
  {
   "cell_type": "code",
   "execution_count": 588,
   "id": "d454c7f1",
   "metadata": {},
   "outputs": [
    {
     "data": {
      "text/html": [
       "<div>\n",
       "<style scoped>\n",
       "    .dataframe tbody tr th:only-of-type {\n",
       "        vertical-align: middle;\n",
       "    }\n",
       "\n",
       "    .dataframe tbody tr th {\n",
       "        vertical-align: top;\n",
       "    }\n",
       "\n",
       "    .dataframe thead th {\n",
       "        text-align: right;\n",
       "    }\n",
       "</style>\n",
       "<table border=\"1\" class=\"dataframe\">\n",
       "  <thead>\n",
       "    <tr style=\"text-align: right;\">\n",
       "      <th></th>\n",
       "      <th>Experience</th>\n",
       "      <th>Minimum_salary</th>\n",
       "      <th>Maximum_Salary</th>\n",
       "      <th>Average_Sal</th>\n",
       "    </tr>\n",
       "  </thead>\n",
       "  <tbody>\n",
       "    <tr>\n",
       "      <th>0</th>\n",
       "      <td>3-4 yrs experience (based on 24 salaries)</td>\n",
       "      <td>₹ 25.0L</td>\n",
       "      <td>₹ 45.0L</td>\n",
       "      <td>₹ 32.2L</td>\n",
       "    </tr>\n",
       "    <tr>\n",
       "      <th>1</th>\n",
       "      <td>2-4 yrs experience (based on 59 salaries)</td>\n",
       "      <td>₹ 15.0L</td>\n",
       "      <td>₹ 26.0L</td>\n",
       "      <td>₹ 19.8L</td>\n",
       "    </tr>\n",
       "    <tr>\n",
       "      <th>2</th>\n",
       "      <td>2-4 yrs experience (based on 49 salaries)</td>\n",
       "      <td>₹ 11.0L</td>\n",
       "      <td>₹ 22.6L</td>\n",
       "      <td>₹ 16.4L</td>\n",
       "    </tr>\n",
       "    <tr>\n",
       "      <th>3</th>\n",
       "      <td>1-2 yrs experience (based on 35 salaries)</td>\n",
       "      <td>₹ 11.0L</td>\n",
       "      <td>₹ 22.0L</td>\n",
       "      <td>₹ 15.9L</td>\n",
       "    </tr>\n",
       "    <tr>\n",
       "      <th>4</th>\n",
       "      <td>2-4 yrs experience (based on 118 salaries)</td>\n",
       "      <td>₹ 9.0L</td>\n",
       "      <td>₹ 23.0L</td>\n",
       "      <td>₹ 15.5L</td>\n",
       "    </tr>\n",
       "    <tr>\n",
       "      <th>5</th>\n",
       "      <td>1 yr experience (based on 10 salaries)</td>\n",
       "      <td>₹ 12.7L</td>\n",
       "      <td>₹ 19.7L</td>\n",
       "      <td>₹ 14.7L</td>\n",
       "    </tr>\n",
       "    <tr>\n",
       "      <th>6</th>\n",
       "      <td>2-4 yrs experience (based on 70 salaries)</td>\n",
       "      <td>₹ 9.0L</td>\n",
       "      <td>₹ 20.0L</td>\n",
       "      <td>₹ 14.6L</td>\n",
       "    </tr>\n",
       "    <tr>\n",
       "      <th>7</th>\n",
       "      <td>4 yrs experience (based on 11 salaries)</td>\n",
       "      <td>₹ 11.0L</td>\n",
       "      <td>₹ 20.0L</td>\n",
       "      <td>₹ 14.5L</td>\n",
       "    </tr>\n",
       "    <tr>\n",
       "      <th>8</th>\n",
       "      <td>4 yrs experience (based on 10 salaries)</td>\n",
       "      <td>₹ 12.0L</td>\n",
       "      <td>₹ 18.0L</td>\n",
       "      <td>₹ 14.0L</td>\n",
       "    </tr>\n",
       "    <tr>\n",
       "      <th>9</th>\n",
       "      <td>3 yrs experience (based on 14 salaries)</td>\n",
       "      <td>₹ 8.8L</td>\n",
       "      <td>₹ 17.5L</td>\n",
       "      <td>₹ 13.9L</td>\n",
       "    </tr>\n",
       "  </tbody>\n",
       "</table>\n",
       "</div>"
      ],
      "text/plain": [
       "                                   Experience Minimum_salary Maximum_Salary  \\\n",
       "0   3-4 yrs experience (based on 24 salaries)        ₹ 25.0L        ₹ 45.0L   \n",
       "1   2-4 yrs experience (based on 59 salaries)        ₹ 15.0L        ₹ 26.0L   \n",
       "2   2-4 yrs experience (based on 49 salaries)        ₹ 11.0L        ₹ 22.6L   \n",
       "3   1-2 yrs experience (based on 35 salaries)        ₹ 11.0L        ₹ 22.0L   \n",
       "4  2-4 yrs experience (based on 118 salaries)         ₹ 9.0L        ₹ 23.0L   \n",
       "5      1 yr experience (based on 10 salaries)        ₹ 12.7L        ₹ 19.7L   \n",
       "6   2-4 yrs experience (based on 70 salaries)         ₹ 9.0L        ₹ 20.0L   \n",
       "7     4 yrs experience (based on 11 salaries)        ₹ 11.0L        ₹ 20.0L   \n",
       "8     4 yrs experience (based on 10 salaries)        ₹ 12.0L        ₹ 18.0L   \n",
       "9     3 yrs experience (based on 14 salaries)         ₹ 8.8L        ₹ 17.5L   \n",
       "\n",
       "  Average_Sal  \n",
       "0     ₹ 32.2L  \n",
       "1     ₹ 19.8L  \n",
       "2     ₹ 16.4L  \n",
       "3     ₹ 15.9L  \n",
       "4     ₹ 15.5L  \n",
       "5     ₹ 14.7L  \n",
       "6     ₹ 14.6L  \n",
       "7     ₹ 14.5L  \n",
       "8     ₹ 14.0L  \n",
       "9     ₹ 13.9L  "
      ]
     },
     "execution_count": 588,
     "metadata": {},
     "output_type": "execute_result"
    }
   ],
   "source": [
    "# DataFrame\n",
    "df = pd.DataFrame({'Experience':EXperience,'Minimum_salary':Min_sal,'Maximum_Salary':Max_sal,'Average_Sal':Avg_sal})\n",
    "df"
   ]
  },
  {
   "cell_type": "code",
   "execution_count": null,
   "id": "99d809eb",
   "metadata": {},
   "outputs": [],
   "source": []
  }
 ],
 "metadata": {
  "kernelspec": {
   "display_name": "Python 3 (ipykernel)",
   "language": "python",
   "name": "python3"
  },
  "language_info": {
   "codemirror_mode": {
    "name": "ipython",
    "version": 3
   },
   "file_extension": ".py",
   "mimetype": "text/x-python",
   "name": "python",
   "nbconvert_exporter": "python",
   "pygments_lexer": "ipython3",
   "version": "3.9.7"
  }
 },
 "nbformat": 4,
 "nbformat_minor": 5
}
