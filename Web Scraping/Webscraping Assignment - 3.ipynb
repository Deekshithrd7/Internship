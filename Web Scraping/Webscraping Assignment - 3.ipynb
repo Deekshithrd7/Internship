{
 "cells": [
  {
   "cell_type": "code",
   "execution_count": 173,
   "id": "6445aa71",
   "metadata": {},
   "outputs": [],
   "source": [
    "from selenium import webdriver\n",
    "from selenium.webdriver.common.by import By\n",
    "import time\n",
    "from bs4 import BeautifulSoup\n",
    "import requests\n",
    "from selenium.common.exceptions import NoSuchElementException, StaleElementReferenceException, ElementNotVisibleException\n",
    "from selenium.webdriver.common.keys import Keys\n",
    "import re\n",
    "\n",
    "\n",
    "import warnings\n",
    "warnings.filterwarnings('ignore')"
   ]
  },
  {
   "cell_type": "markdown",
   "id": "62700cd2",
   "metadata": {},
   "source": [
    "## 1. Write a python program which searches all the product under a particular product from www.amazon.in. The product to be searched will be taken as input from user.\n",
    "\n",
    "## For e.g. If user input is ‘guitar’. Then search  for guitars.\n"
   ]
  },
  {
   "cell_type": "code",
   "execution_count": 2,
   "id": "3ae46342",
   "metadata": {},
   "outputs": [],
   "source": [
    "driver = webdriver.Chrome(r\"C:\\Users\\deeks\\Downloads\\chromedriver_win32\\chromedriver.exe\")\n",
    "\n",
    "driver.maximize_window()\n",
    "driver.get('https://www.amazon.in/')\n",
    "time.sleep(3)\n"
   ]
  },
  {
   "cell_type": "code",
   "execution_count": 3,
   "id": "93c577b3",
   "metadata": {},
   "outputs": [
    {
     "name": "stdout",
     "output_type": "stream",
     "text": [
      "Enter the product you want to search : guitar\n"
     ]
    },
    {
     "data": {
      "text/plain": [
       "'guitar'"
      ]
     },
     "execution_count": 3,
     "metadata": {},
     "output_type": "execute_result"
    }
   ],
   "source": [
    "# Entering the product that we want to search\n",
    "user_input = input('Enter the product you want to search : ')\n",
    "user_input"
   ]
  },
  {
   "cell_type": "code",
   "execution_count": 4,
   "id": "b113d2e8",
   "metadata": {},
   "outputs": [
    {
     "data": {
      "text/plain": [
       "<selenium.webdriver.remote.webelement.WebElement (session=\"33c73524dd0a162c744b5db9a0f94bef\", element=\"6bd0479d-73fd-4027-8571-d35707da7087\")>"
      ]
     },
     "execution_count": 4,
     "metadata": {},
     "output_type": "execute_result"
    }
   ],
   "source": [
    "# Searching the web element for user input\n",
    "search = driver.find_element(By.ID,\"twotabsearchtextbox\")\n",
    "search"
   ]
  },
  {
   "cell_type": "code",
   "execution_count": 5,
   "id": "b954ef45",
   "metadata": {},
   "outputs": [],
   "source": [
    "# Sending the user input to search bar\n",
    "search.send_keys(user_input)"
   ]
  },
  {
   "cell_type": "code",
   "execution_count": 6,
   "id": "42e79c85",
   "metadata": {},
   "outputs": [],
   "source": [
    "# Locating the search button using xpath\n",
    "search_btn = driver.find_element(By.XPATH,\"//div[@class='nav-search-submit nav-sprite']/span/input\")\n",
    "# Clicking on search button\n",
    "search_btn.click()"
   ]
  },
  {
   "cell_type": "markdown",
   "id": "54e1f947",
   "metadata": {},
   "source": [
    "# 2. In the above question, now scrape the following details of each product listed in first 3 pages of your search results and save it in a data frame and csv. In case if any product has less than 3 pages in search results then scrape all the products available under that product name. Details to be scraped are: \"Brand Name\", \"Name of the Product\", \"Price\", \"Return/Exchange\", \"Expected Delivery\", \"Availability\" and “Product URL”.  In case, if any of the details are missing for any of the product then replace it by “-“."
   ]
  },
  {
   "cell_type": "code",
   "execution_count": 7,
   "id": "2861cc8c",
   "metadata": {},
   "outputs": [],
   "source": [
    "Brand_Name = []\n",
    "Name_of_the_Product = []\n",
    "Price = []\n",
    "Return_or_Exchange = []\n",
    "Expected_Delivery = []\n",
    "Availability = []\n",
    "Product_URL = []"
   ]
  },
  {
   "cell_type": "code",
   "execution_count": 8,
   "id": "ea679c9c",
   "metadata": {},
   "outputs": [],
   "source": [
    "# Fetching URLs to open the pages\n",
    "pages = []          # empty list\n",
    "for i in range(0,3):      # for loop to scrape 3 pages\n",
    "    page_url = driver.find_elements(By.XPATH,'//a[@class=\"a-link-normal s-underline-text s-underline-link-text s-link-style a-text-normal\"]')\n",
    "    for i in page_url:\n",
    "        pages.append(i.get_attribute(\"href\"))"
   ]
  },
  {
   "cell_type": "code",
   "execution_count": 9,
   "id": "5ebef487",
   "metadata": {},
   "outputs": [
    {
     "data": {
      "text/plain": [
       "192"
      ]
     },
     "execution_count": 9,
     "metadata": {},
     "output_type": "execute_result"
    }
   ],
   "source": [
    "len(pages)"
   ]
  },
  {
   "cell_type": "code",
   "execution_count": 10,
   "id": "796170ab",
   "metadata": {},
   "outputs": [],
   "source": [
    "#applying loops\n",
    "for i in pages:\n",
    "    driver.get(i) \n",
    "    time.sleep(1)\n",
    "    # Brand_Name\n",
    "    try:\n",
    "        brand = driver.find_element(By.XPATH,\"//td[@class='a-span9']/span\")\n",
    "        Brand_Name.append(brand.text)\n",
    "    except:\n",
    "        Brand_Name.append('-') \n",
    "        \n",
    "    time.sleep(1) \n",
    "    # Name_of the product\n",
    "    try:\n",
    "        product =  driver.find_element(By.ID,\"productTitle\")\n",
    "        Name_of_the_Product.append(product.text)\n",
    "    except:\n",
    "        Name_of_the_Product.append('-')  \n",
    "    \n",
    "    time.sleep(1)\n",
    "    # Return or exchange\n",
    "    try:\n",
    "        returnx = driver.find_element(By.XPATH,'//div[@data-name=\"RETURNS_POLICY\"]/span/div[2]/a]')\n",
    "        Return_or_Exchange.append(returnx.text)\n",
    "    except:\n",
    "        Return_or_Exchange.append('-')\n",
    "    \n",
    "    time.sleep(1)\n",
    "     # Price                                 \n",
    "    try:\n",
    "        total_price = driver.find_element(By.XPATH,'//td[@class=\"a-span12\"]')\n",
    "        Price.append(total_price.text)\n",
    "    except:\n",
    "        Price.append('-')  \n",
    "        \n",
    "    time.sleep(1)\n",
    "    # expected delivery                                  \n",
    "    try:\n",
    "        delivary=driver.find_element(By.XPATH,\"//div[@id='ddmDeliveryMessage']/b\")\n",
    "        Expected_Delivery.append(delivary.text)\n",
    "    except NoSuchElementException as e:\n",
    "        Expected_Delivery.append(\"-\")\n",
    "        \n",
    "    time.sleep(1)\n",
    "    #Availability                                 \n",
    "    try:\n",
    "        avai=driver.find_element(By.XPATH,\"//div[@id='availability']/span\")\n",
    "        Availability.append(avai.text)\n",
    "    except NoSuchElementException as e:\n",
    "        Availability.append(\"-\")\n",
    "        \n",
    "        \n",
    "        "
   ]
  },
  {
   "cell_type": "code",
   "execution_count": 13,
   "id": "0fba7bce",
   "metadata": {},
   "outputs": [
    {
     "name": "stdout",
     "output_type": "stream",
     "text": [
      "192 192 192 192 192 192 192\n"
     ]
    }
   ],
   "source": [
    "print(len(Brand_Name),len(Name_of_the_Product),len(Return_or_Exchange),len(Price),len(Expected_Delivery),len(Availability),len(pages))"
   ]
  },
  {
   "cell_type": "code",
   "execution_count": 16,
   "id": "f6fb40a6",
   "metadata": {},
   "outputs": [],
   "source": [
    "# Creating the dataframe\n",
    "import pandas as pd\n",
    "Guitar =pd.DataFrame({})\n",
    "Guitar['Brand_Name'] = Brand_Name\n",
    "Guitar['Name_of_the_Product'] = Name_of_the_Product\n",
    "Guitar['Price'] = Price\n",
    "Guitar['Return/Exchange'] = Return_or_Exchange\n",
    "Guitar['Expected_Delivery'] = Expected_Delivery\n",
    "Guitar['Availability'] = Availability\n",
    "Guitar['Product_URL'] = pages"
   ]
  },
  {
   "cell_type": "code",
   "execution_count": 26,
   "id": "6c1dbe3f",
   "metadata": {},
   "outputs": [
    {
     "data": {
      "text/html": [
       "<div>\n",
       "<style scoped>\n",
       "    .dataframe tbody tr th:only-of-type {\n",
       "        vertical-align: middle;\n",
       "    }\n",
       "\n",
       "    .dataframe tbody tr th {\n",
       "        vertical-align: top;\n",
       "    }\n",
       "\n",
       "    .dataframe thead th {\n",
       "        text-align: right;\n",
       "    }\n",
       "</style>\n",
       "<table border=\"1\" class=\"dataframe\">\n",
       "  <thead>\n",
       "    <tr style=\"text-align: right;\">\n",
       "      <th></th>\n",
       "      <th>Brand_Name</th>\n",
       "      <th>Name_of_the_Product</th>\n",
       "      <th>Price</th>\n",
       "      <th>Return/Exchange</th>\n",
       "      <th>Expected_Delivery</th>\n",
       "      <th>Availability</th>\n",
       "      <th>Product_URL</th>\n",
       "    </tr>\n",
       "  </thead>\n",
       "  <tbody>\n",
       "    <tr>\n",
       "      <th>0</th>\n",
       "      <td>Kadence</td>\n",
       "      <td>Kadence Slowhand Premium Jumbo Semi Acoustic G...</td>\n",
       "      <td>-</td>\n",
       "      <td>-</td>\n",
       "      <td>Sunday, Oct 30</td>\n",
       "      <td></td>\n",
       "      <td>https://www.amazon.in/sspa/click?ie=UTF8&amp;spc=M...</td>\n",
       "    </tr>\n",
       "    <tr>\n",
       "      <th>1</th>\n",
       "      <td>FESTRA</td>\n",
       "      <td>Festra 38C, 38 Inch Acoustic Guitar Kit with B...</td>\n",
       "      <td>-</td>\n",
       "      <td>-</td>\n",
       "      <td>-</td>\n",
       "      <td>In stock.</td>\n",
       "      <td>https://www.amazon.in/sspa/click?ie=UTF8&amp;spc=M...</td>\n",
       "    </tr>\n",
       "    <tr>\n",
       "      <th>2</th>\n",
       "      <td>VAULT</td>\n",
       "      <td>Vault EA40 41 inch Premium Solid Spruce-Top Cu...</td>\n",
       "      <td>-</td>\n",
       "      <td>-</td>\n",
       "      <td>-</td>\n",
       "      <td>In stock.</td>\n",
       "      <td>https://www.amazon.in/sspa/click?ie=UTF8&amp;spc=M...</td>\n",
       "    </tr>\n",
       "    <tr>\n",
       "      <th>3</th>\n",
       "      <td>LUCHILA</td>\n",
       "      <td>LUCHILA 4 String Decor Guitar Children's Music...</td>\n",
       "      <td>-</td>\n",
       "      <td>-</td>\n",
       "      <td>-</td>\n",
       "      <td>In stock.</td>\n",
       "      <td>https://www.amazon.in/sspa/click?ie=UTF8&amp;spc=M...</td>\n",
       "    </tr>\n",
       "    <tr>\n",
       "      <th>4</th>\n",
       "      <td>Juârez</td>\n",
       "      <td>Juârez Acoustic Guitar, 38 Inch Cutaway, 038C ...</td>\n",
       "      <td>-</td>\n",
       "      <td>-</td>\n",
       "      <td>-</td>\n",
       "      <td>In stock.</td>\n",
       "      <td>https://www.amazon.in/Juarez-Acoustic-Cutaway-...</td>\n",
       "    </tr>\n",
       "  </tbody>\n",
       "</table>\n",
       "</div>"
      ],
      "text/plain": [
       "  Brand_Name                                Name_of_the_Product Price  \\\n",
       "0    Kadence  Kadence Slowhand Premium Jumbo Semi Acoustic G...     -   \n",
       "1     FESTRA  Festra 38C, 38 Inch Acoustic Guitar Kit with B...     -   \n",
       "2      VAULT  Vault EA40 41 inch Premium Solid Spruce-Top Cu...     -   \n",
       "3    LUCHILA  LUCHILA 4 String Decor Guitar Children's Music...     -   \n",
       "4     Juârez  Juârez Acoustic Guitar, 38 Inch Cutaway, 038C ...     -   \n",
       "\n",
       "  Return/Exchange Expected_Delivery Availability  \\\n",
       "0               -    Sunday, Oct 30                \n",
       "1               -                 -    In stock.   \n",
       "2               -                 -    In stock.   \n",
       "3               -                 -    In stock.   \n",
       "4               -                 -    In stock.   \n",
       "\n",
       "                                         Product_URL  \n",
       "0  https://www.amazon.in/sspa/click?ie=UTF8&spc=M...  \n",
       "1  https://www.amazon.in/sspa/click?ie=UTF8&spc=M...  \n",
       "2  https://www.amazon.in/sspa/click?ie=UTF8&spc=M...  \n",
       "3  https://www.amazon.in/sspa/click?ie=UTF8&spc=M...  \n",
       "4  https://www.amazon.in/Juarez-Acoustic-Cutaway-...  "
      ]
     },
     "execution_count": 26,
     "metadata": {},
     "output_type": "execute_result"
    }
   ],
   "source": [
    "Guitar.head()"
   ]
  },
  {
   "cell_type": "markdown",
   "id": "20c27d44",
   "metadata": {},
   "source": [
    "# 3. Write a python program to access the search bar and search button on images.google.com and scrape 10 images each for keywords ‘fruits’, ‘cars’ and ‘Machine Learning’, ‘Guitar’, ‘Cakes’.\n"
   ]
  },
  {
   "cell_type": "code",
   "execution_count": 6,
   "id": "e7a1947b",
   "metadata": {},
   "outputs": [
    {
     "name": "stdout",
     "output_type": "stream",
     "text": [
      "Collecting webdriver-manager\n",
      "  Downloading webdriver_manager-3.8.4-py2.py3-none-any.whl (27 kB)\n",
      "Requirement already satisfied: tqdm in c:\\users\\deeks\\anaconda3\\lib\\site-packages (from webdriver-manager) (4.62.3)\n",
      "Collecting python-dotenv\n",
      "  Downloading python_dotenv-0.21.0-py3-none-any.whl (18 kB)\n",
      "Requirement already satisfied: requests in c:\\users\\deeks\\anaconda3\\lib\\site-packages (from webdriver-manager) (2.26.0)\n",
      "Requirement already satisfied: charset-normalizer~=2.0.0 in c:\\users\\deeks\\anaconda3\\lib\\site-packages (from requests->webdriver-manager) (2.0.4)\n",
      "Requirement already satisfied: certifi>=2017.4.17 in c:\\users\\deeks\\anaconda3\\lib\\site-packages (from requests->webdriver-manager) (2022.6.15)\n",
      "Requirement already satisfied: urllib3<1.27,>=1.21.1 in c:\\users\\deeks\\anaconda3\\lib\\site-packages (from requests->webdriver-manager) (1.26.7)\n",
      "Requirement already satisfied: idna<4,>=2.5 in c:\\users\\deeks\\anaconda3\\lib\\site-packages (from requests->webdriver-manager) (3.2)\n",
      "Requirement already satisfied: colorama in c:\\users\\deeks\\anaconda3\\lib\\site-packages (from tqdm->webdriver-manager) (0.4.4)\n",
      "Installing collected packages: python-dotenv, webdriver-manager\n",
      "Successfully installed python-dotenv-0.21.0 webdriver-manager-3.8.4\n"
     ]
    }
   ],
   "source": [
    "!pip install webdriver-manager # installing webdriver manager to update the chrome driver\n",
    "\n",
    "# got an SessionNotCreated Exception"
   ]
  },
  {
   "cell_type": "code",
   "execution_count": 23,
   "id": "d71826e6",
   "metadata": {},
   "outputs": [],
   "source": [
    "from webdriver_manager.chrome import ChromeDriverManager"
   ]
  },
  {
   "cell_type": "code",
   "execution_count": 113,
   "id": "d747ed9f",
   "metadata": {},
   "outputs": [],
   "source": [
    "driver = webdriver.Chrome(ChromeDriverManager().install())"
   ]
  },
  {
   "cell_type": "code",
   "execution_count": 59,
   "id": "d020276a",
   "metadata": {},
   "outputs": [],
   "source": [
    "driver.maximize_window()\n",
    "\n",
    "driver.get('https://images.google.com/')\n",
    "time.sleep(1)"
   ]
  },
  {
   "cell_type": "code",
   "execution_count": 91,
   "id": "bd9279ce",
   "metadata": {},
   "outputs": [],
   "source": [
    "fruits = []\n",
    "machinelearning = []\n",
    "cars = []\n",
    "guitar = []\n",
    "cakes = []"
   ]
  },
  {
   "cell_type": "code",
   "execution_count": 75,
   "id": "c24dfe39",
   "metadata": {},
   "outputs": [],
   "source": [
    "# Fruits\n",
    "search_bar = driver.find_element(By.XPATH,\"/html/body/div[1]/div[3]/form/div[1]/div[1]/div[1]/div/div[2]/input\")\n",
    "search_bar.send_keys('fruits') "
   ]
  },
  {
   "cell_type": "code",
   "execution_count": 76,
   "id": "cf5ca59d",
   "metadata": {},
   "outputs": [],
   "source": [
    "search_button = driver.find_element(By.XPATH,'/html/body/div[1]/div[3]/form/div[1]/div[1]/div[1]/button/div/span')\n",
    "search_button.click()"
   ]
  },
  {
   "cell_type": "code",
   "execution_count": 78,
   "id": "2b3a99b1",
   "metadata": {},
   "outputs": [],
   "source": [
    "fruit_tags = driver.find_elements(By.XPATH,'//*[@id=\"islrg\"]/div[1]/div[1]/a[1]/div[1]/img')\n",
    "for i in fruit_tags[:10]:\n",
    "    im = i.get_attribute('src')\n",
    "    fruits.append(im)"
   ]
  },
  {
   "cell_type": "code",
   "execution_count": 79,
   "id": "f9d69174",
   "metadata": {},
   "outputs": [
    {
     "data": {
      "text/plain": [
       "53"
      ]
     },
     "execution_count": 79,
     "metadata": {},
     "output_type": "execute_result"
    }
   ],
   "source": [
    "len(fruits)"
   ]
  },
  {
   "cell_type": "code",
   "execution_count": 82,
   "id": "7e57adb9",
   "metadata": {},
   "outputs": [],
   "source": [
    "driver.close()"
   ]
  },
  {
   "cell_type": "code",
   "execution_count": 86,
   "id": "01f1cb09",
   "metadata": {},
   "outputs": [],
   "source": [
    "# Cars\n",
    "driver.maximize_window()\n",
    "\n",
    "driver.get('https://images.google.com/')\n",
    "time.sleep(1)"
   ]
  },
  {
   "cell_type": "code",
   "execution_count": 87,
   "id": "6ae91b66",
   "metadata": {},
   "outputs": [],
   "source": [
    "search_bar = driver.find_element(By.XPATH,\"/html/body/div[1]/div[3]/form/div[1]/div[1]/div[1]/div/div[2]/input\")\n",
    "search_bar.send_keys('cars') "
   ]
  },
  {
   "cell_type": "code",
   "execution_count": 88,
   "id": "aeeab0d3",
   "metadata": {},
   "outputs": [],
   "source": [
    "search_button = driver.find_element(By.XPATH,'/html/body/div[1]/div[3]/form/div[1]/div[1]/div[1]/button/div/span')\n",
    "search_button.click()"
   ]
  },
  {
   "cell_type": "code",
   "execution_count": 92,
   "id": "d95be9c2",
   "metadata": {},
   "outputs": [],
   "source": [
    "car_tags = driver.find_elements(By.XPATH,'//img[@class=\"rg_i Q4LuWd\"]')\n",
    "for i in car_tags[:10]:\n",
    "    cm = i.get_attribute('src')\n",
    "    cars.append(cm)"
   ]
  },
  {
   "cell_type": "code",
   "execution_count": 93,
   "id": "ee720a32",
   "metadata": {},
   "outputs": [
    {
     "data": {
      "text/plain": [
       "10"
      ]
     },
     "execution_count": 93,
     "metadata": {},
     "output_type": "execute_result"
    }
   ],
   "source": [
    "len(cars)"
   ]
  },
  {
   "cell_type": "code",
   "execution_count": 94,
   "id": "57504c84",
   "metadata": {},
   "outputs": [],
   "source": [
    "driver.close()"
   ]
  },
  {
   "cell_type": "code",
   "execution_count": 96,
   "id": "20976e48",
   "metadata": {},
   "outputs": [],
   "source": [
    "# Machine Learning\n",
    "driver.maximize_window()\n",
    "\n",
    "driver.get('https://images.google.com/')\n",
    "time.sleep(1)"
   ]
  },
  {
   "cell_type": "code",
   "execution_count": 97,
   "id": "8fba0a3f",
   "metadata": {},
   "outputs": [],
   "source": [
    "search_bar = driver.find_element(By.XPATH,\"/html/body/div[1]/div[3]/form/div[1]/div[1]/div[1]/div/div[2]/input\")\n",
    "search_bar.send_keys('Machine Learning') "
   ]
  },
  {
   "cell_type": "code",
   "execution_count": 98,
   "id": "92c9345c",
   "metadata": {},
   "outputs": [],
   "source": [
    "search_button = driver.find_element(By.XPATH,'/html/body/div[1]/div[3]/form/div[1]/div[1]/div[1]/button/div/span')\n",
    "search_button.click()"
   ]
  },
  {
   "cell_type": "code",
   "execution_count": 99,
   "id": "6e756f38",
   "metadata": {},
   "outputs": [],
   "source": [
    "ml_tags = driver.find_elements(By.XPATH,'//img[@class=\"rg_i Q4LuWd\"]')\n",
    "for i in ml_tags[:10]:\n",
    "    ml = i.get_attribute('src')\n",
    "    machinelearning.append(ml)"
   ]
  },
  {
   "cell_type": "code",
   "execution_count": 100,
   "id": "222ad372",
   "metadata": {},
   "outputs": [
    {
     "data": {
      "text/plain": [
       "10"
      ]
     },
     "execution_count": 100,
     "metadata": {},
     "output_type": "execute_result"
    }
   ],
   "source": [
    "len(machinelearning)"
   ]
  },
  {
   "cell_type": "code",
   "execution_count": 101,
   "id": "62eabd53",
   "metadata": {},
   "outputs": [],
   "source": [
    "driver.close()"
   ]
  },
  {
   "cell_type": "code",
   "execution_count": 103,
   "id": "226cf453",
   "metadata": {},
   "outputs": [],
   "source": [
    "# guitar\n",
    "driver.maximize_window()\n",
    "\n",
    "driver.get('https://images.google.com/')"
   ]
  },
  {
   "cell_type": "code",
   "execution_count": 108,
   "id": "e30a8ac4",
   "metadata": {},
   "outputs": [],
   "source": [
    "search_bar = driver.find_element(By.XPATH,\"/html/body/div[1]/div[3]/form/div[1]/div[1]/div[1]/div/div[2]/input\")\n",
    "search_bar.send_keys('Guitar') "
   ]
  },
  {
   "cell_type": "code",
   "execution_count": 109,
   "id": "22b0645a",
   "metadata": {},
   "outputs": [],
   "source": [
    "search_button = driver.find_element(By.XPATH,'/html/body/div[1]/div[3]/form/div[1]/div[1]/div[1]/button/div/span')\n",
    "search_button.click()"
   ]
  },
  {
   "cell_type": "code",
   "execution_count": 110,
   "id": "47733589",
   "metadata": {},
   "outputs": [],
   "source": [
    "guitar_tags = driver.find_elements(By.XPATH,'//img[@class=\"rg_i Q4LuWd\"]')\n",
    "for i in guitar_tags[:10]:\n",
    "    gt = i.get_attribute('src')\n",
    "    guitar.append(gt)"
   ]
  },
  {
   "cell_type": "code",
   "execution_count": 111,
   "id": "70e4ccbc",
   "metadata": {},
   "outputs": [
    {
     "data": {
      "text/plain": [
       "10"
      ]
     },
     "execution_count": 111,
     "metadata": {},
     "output_type": "execute_result"
    }
   ],
   "source": [
    "len(guitar)"
   ]
  },
  {
   "cell_type": "code",
   "execution_count": 112,
   "id": "4460a814",
   "metadata": {},
   "outputs": [],
   "source": [
    "driver.close()"
   ]
  },
  {
   "cell_type": "code",
   "execution_count": 114,
   "id": "b4550479",
   "metadata": {},
   "outputs": [],
   "source": [
    "driver.maximize_window()\n",
    "\n",
    "driver.get('https://images.google.com/')"
   ]
  },
  {
   "cell_type": "code",
   "execution_count": 115,
   "id": "d384bddc",
   "metadata": {},
   "outputs": [],
   "source": [
    "search_bar = driver.find_element(By.XPATH,\"/html/body/div[1]/div[3]/form/div[1]/div[1]/div[1]/div/div[2]/input\")\n",
    "search_bar.send_keys('Guitar') "
   ]
  },
  {
   "cell_type": "code",
   "execution_count": 116,
   "id": "052c6308",
   "metadata": {},
   "outputs": [],
   "source": [
    "search_button = driver.find_element(By.XPATH,'/html/body/div[1]/div[3]/form/div[1]/div[1]/div[1]/button/div/span')\n",
    "search_button.click()"
   ]
  },
  {
   "cell_type": "code",
   "execution_count": 117,
   "id": "076b8d21",
   "metadata": {},
   "outputs": [],
   "source": [
    "cake_tags = driver.find_elements(By.XPATH,'//img[@class=\"rg_i Q4LuWd\"]')\n",
    "for i in cake_tags[:10]:\n",
    "    ck = i.get_attribute('src')\n",
    "    cakes.append(ck)"
   ]
  },
  {
   "cell_type": "code",
   "execution_count": 118,
   "id": "69582e6e",
   "metadata": {},
   "outputs": [
    {
     "data": {
      "text/plain": [
       "10"
      ]
     },
     "execution_count": 118,
     "metadata": {},
     "output_type": "execute_result"
    }
   ],
   "source": [
    "len(guitar)"
   ]
  },
  {
   "cell_type": "markdown",
   "id": "54c02a77",
   "metadata": {},
   "source": [
    "## 4. Write a python program to search for a smartphone(e.g.: Oneplus Nord, pixel 4A, etc.) on www.flipkart.com and scrape following details for all the search results displayed on 1st page. Details to be scraped: “Brand Name”, “Smartphone name”, “Colour”, “RAM”, “Storage(ROM)”, “Primary Camera”, “Secondary Camera”, “Display Size”, “Battery Capacity”, “Price”, “Product URL”. Incase if any of thedetails is missing then replace it by “- “. Save your results in a dataframe and CSV."
   ]
  },
  {
   "cell_type": "code",
   "execution_count": 147,
   "id": "c4fdbcb8",
   "metadata": {},
   "outputs": [],
   "source": [
    "driver = webdriver.Chrome(ChromeDriverManager().install())\n",
    "time.sleep(1)\n",
    "driver.maximize_window()\n",
    "\n",
    "driver.get('https://www.flipkart.com/')"
   ]
  },
  {
   "cell_type": "code",
   "execution_count": 149,
   "id": "148e4f7e",
   "metadata": {},
   "outputs": [],
   "source": [
    "search_bar = driver.find_element(By.CLASS_NAME,\"_3704LK\")\n",
    "\n",
    "search_bar.send_keys(\"pixel 4A\")"
   ]
  },
  {
   "cell_type": "code",
   "execution_count": 150,
   "id": "008a8c5b",
   "metadata": {},
   "outputs": [],
   "source": [
    "search_button = driver.find_element(By.CLASS_NAME,\"L0Z3Pu\")\n",
    "search_button.click()"
   ]
  },
  {
   "cell_type": "code",
   "execution_count": 151,
   "id": "7025a339",
   "metadata": {},
   "outputs": [
    {
     "data": {
      "text/plain": [
       "24"
      ]
     },
     "execution_count": 151,
     "metadata": {},
     "output_type": "execute_result"
    }
   ],
   "source": [
    "urls = []\n",
    "for i in driver.find_elements(By.XPATH,\"//a[@class='_1fQZEK']\"):\n",
    "    urls.append(i.get_attribute(\"href\"))\n",
    "\n",
    "len(urls)"
   ]
  },
  {
   "cell_type": "code",
   "execution_count": 154,
   "id": "14f63e96",
   "metadata": {},
   "outputs": [],
   "source": [
    "Smartphones = {}\n",
    "Smartphones[\"Brand\"] = []\n",
    "Smartphones[\"Phone name\"] = []\n",
    "Smartphones[\"Colour\"] = []\n",
    "Smartphones[\"RAM\"] = []\n",
    "Smartphones[\"Storage(ROM)\"] = []\n",
    "Smartphones[\"Primary Camera\"] = []\n",
    "Smartphones[\"Display Size\"] = []\n",
    "Smartphones[\"Battery Capacity\"] = []\n",
    "Smartphones[\"Price\"] = []\n",
    "Smartphones[\"URL\"] = []"
   ]
  },
  {
   "cell_type": "code",
   "execution_count": 155,
   "id": "64561b08",
   "metadata": {},
   "outputs": [
    {
     "name": "stdout",
     "output_type": "stream",
     "text": [
      "Scraping URL =  https://www.flipkart.com/google-pixel-4a-just-black-128-gb/p/itm023b9677aa45d?pid=MOBFUSBNAZGY7HQU&lid=LSTMOBFUSBNAZGY7HQUWHTF0C&marketplace=FLIPKART&q=pixel+4A&store=tyy%2F4io&srno=s_1_1&otracker=search&otracker1=search&fm=organic&iid=94687fb2-93b7-4da7-a6d3-6fa29cd8d5d7.MOBFUSBNAZGY7HQU.SEARCH&ppt=hp&ppn=homepage&ssid=m0wb5hxj8w0000001666790423465&qH=9b26a23b2cff510d\n",
      "Scraping URL =  https://www.flipkart.com/realme-c30-bamboo-green-32-gb/p/itmfcf69b2db5059?pid=MOBGF37G7FRK8FBJ&lid=LSTMOBGF37G7FRK8FBJTETJBD&marketplace=FLIPKART&q=pixel+4A&store=tyy%2F4io&srno=s_1_2&otracker=search&otracker1=search&fm=organic&iid=94687fb2-93b7-4da7-a6d3-6fa29cd8d5d7.MOBGF37G7FRK8FBJ.SEARCH&ppt=hp&ppn=homepage&ssid=m0wb5hxj8w0000001666790423465&qH=9b26a23b2cff510d\n",
      "Scraping URL =  https://www.flipkart.com/realme-c30-denim-black-32-gb/p/itmfcf69b2db5059?pid=MOBGF37G8TGKHFWJ&lid=LSTMOBGF37G8TGKHFWJIST95C&marketplace=FLIPKART&q=pixel+4A&store=tyy%2F4io&srno=s_1_3&otracker=search&otracker1=search&fm=organic&iid=94687fb2-93b7-4da7-a6d3-6fa29cd8d5d7.MOBGF37G8TGKHFWJ.SEARCH&ppt=hp&ppn=homepage&ssid=m0wb5hxj8w0000001666790423465&qH=9b26a23b2cff510d\n",
      "Scraping URL =  https://www.flipkart.com/vivo-t1-44w-midnight-galaxy-128-gb/p/itm2a08ebbea3689?pid=MOBGDRHVZN29ZJF4&lid=LSTMOBGDRHVZN29ZJF4O6GUQG&marketplace=FLIPKART&q=pixel+4A&store=tyy%2F4io&srno=s_1_4&otracker=search&otracker1=search&fm=organic&iid=94687fb2-93b7-4da7-a6d3-6fa29cd8d5d7.MOBGDRHVZN29ZJF4.SEARCH&ppt=hp&ppn=homepage&ssid=m0wb5hxj8w0000001666790423465&qH=9b26a23b2cff510d\n",
      "Scraping URL =  https://www.flipkart.com/realme-c30-lake-blue-32-gb/p/itmfcf69b2db5059?pid=MOBGF37GTRVMRJVK&lid=LSTMOBGF37GTRVMRJVKRYAJNG&marketplace=FLIPKART&q=pixel+4A&store=tyy%2F4io&srno=s_1_5&otracker=search&otracker1=search&fm=organic&iid=94687fb2-93b7-4da7-a6d3-6fa29cd8d5d7.MOBGF37GTRVMRJVK.SEARCH&ppt=hp&ppn=homepage&ssid=m0wb5hxj8w0000001666790423465&qH=9b26a23b2cff510d\n",
      "Scraping URL =  https://www.flipkart.com/vivo-t1-44w-starry-sky-128-gb/p/itm2a08ebbea3689?pid=MOBGDRHVHNBBBBP5&lid=LSTMOBGDRHVHNBBBBP5SY2MJL&marketplace=FLIPKART&q=pixel+4A&store=tyy%2F4io&spotlightTagId=BestsellerId_tyy%2F4io&srno=s_1_6&otracker=search&otracker1=search&fm=organic&iid=94687fb2-93b7-4da7-a6d3-6fa29cd8d5d7.MOBGDRHVHNBBBBP5.SEARCH&ppt=hp&ppn=homepage&ssid=m0wb5hxj8w0000001666790423465&qH=9b26a23b2cff510d\n",
      "Scraping URL =  https://www.flipkart.com/realme-c30-bamboo-green-32-gb/p/itmfcf69b2db5059?pid=MOBGF37GUWGZQYGR&lid=LSTMOBGF37GUWGZQYGRVXRDM1&marketplace=FLIPKART&q=pixel+4A&store=tyy%2F4io&srno=s_1_7&otracker=search&otracker1=search&fm=organic&iid=94687fb2-93b7-4da7-a6d3-6fa29cd8d5d7.MOBGF37GUWGZQYGR.SEARCH&ppt=hp&ppn=homepage&ssid=m0wb5hxj8w0000001666790423465&qH=9b26a23b2cff510d\n",
      "Scraping URL =  https://www.flipkart.com/realme-c30-denim-black-32-gb/p/itmfcf69b2db5059?pid=MOBGF37GMBMYRFBK&lid=LSTMOBGF37GMBMYRFBK6OQWPG&marketplace=FLIPKART&q=pixel+4A&store=tyy%2F4io&srno=s_1_8&otracker=search&otracker1=search&fm=organic&iid=94687fb2-93b7-4da7-a6d3-6fa29cd8d5d7.MOBGF37GMBMYRFBK.SEARCH&ppt=hp&ppn=homepage&ssid=m0wb5hxj8w0000001666790423465&qH=9b26a23b2cff510d\n",
      "Scraping URL =  https://www.flipkart.com/realme-c30-lake-blue-32-gb/p/itmfcf69b2db5059?pid=MOBGF37GWT4TGVZM&lid=LSTMOBGF37GWT4TGVZM1IFYZO&marketplace=FLIPKART&q=pixel+4A&store=tyy%2F4io&srno=s_1_9&otracker=search&otracker1=search&fm=organic&iid=94687fb2-93b7-4da7-a6d3-6fa29cd8d5d7.MOBGF37GWT4TGVZM.SEARCH&ppt=hp&ppn=homepage&ssid=m0wb5hxj8w0000001666790423465&qH=9b26a23b2cff510d\n",
      "Scraping URL =  https://www.flipkart.com/vivo-t1-44w-ice-dawn-128-gb/p/itm2a08ebbea3689?pid=MOBGDRHVZ2F9AAM8&lid=LSTMOBGDRHVZ2F9AAM8P3XP8T&marketplace=FLIPKART&q=pixel+4A&store=tyy%2F4io&srno=s_1_10&otracker=search&otracker1=search&fm=organic&iid=94687fb2-93b7-4da7-a6d3-6fa29cd8d5d7.MOBGDRHVZ2F9AAM8.SEARCH&ppt=hp&ppn=homepage&ssid=m0wb5hxj8w0000001666790423465&qH=9b26a23b2cff510d\n",
      "Scraping URL =  https://www.flipkart.com/vivo-t1-44w-starry-sky-128-gb/p/itm2a08ebbea3689?pid=MOBGDRHVMW2UDXZY&lid=LSTMOBGDRHVMW2UDXZYVNQXYN&marketplace=FLIPKART&q=pixel+4A&store=tyy%2F4io&srno=s_1_11&otracker=search&otracker1=search&fm=organic&iid=94687fb2-93b7-4da7-a6d3-6fa29cd8d5d7.MOBGDRHVMW2UDXZY.SEARCH&ppt=hp&ppn=homepage&ssid=m0wb5hxj8w0000001666790423465&qH=9b26a23b2cff510d\n",
      "Scraping URL =  https://www.flipkart.com/vivo-t1-44w-midnight-galaxy-128-gb/p/itm2a08ebbea3689?pid=MOBGDRHVWJUFTYQJ&lid=LSTMOBGDRHVWJUFTYQJ2SYXAC&marketplace=FLIPKART&q=pixel+4A&store=tyy%2F4io&srno=s_1_12&otracker=search&otracker1=search&fm=organic&iid=94687fb2-93b7-4da7-a6d3-6fa29cd8d5d7.MOBGDRHVWJUFTYQJ.SEARCH&ppt=hp&ppn=homepage&ssid=m0wb5hxj8w0000001666790423465&qH=9b26a23b2cff510d\n",
      "Scraping URL =  https://www.flipkart.com/realme-c30-locked-airtel-prepaid-bamboo-green-32-gb/p/itm938b2a52e171f?pid=MOBGFCFQXDH5NZGU&lid=LSTMOBGFCFQXDH5NZGUMBWKGV&marketplace=FLIPKART&q=pixel+4A&store=tyy%2F4io&srno=s_1_13&otracker=search&otracker1=search&fm=organic&iid=94687fb2-93b7-4da7-a6d3-6fa29cd8d5d7.MOBGFCFQXDH5NZGU.SEARCH&ppt=hp&ppn=homepage&ssid=m0wb5hxj8w0000001666790423465&qH=9b26a23b2cff510d\n",
      "Scraping URL =  https://www.flipkart.com/realme-c30-locked-airtel-prepaid-lake-blue-32-gb/p/itm938b2a52e171f?pid=MOBGFCFQZGEUXH35&lid=LSTMOBGFCFQZGEUXH35331CCP&marketplace=FLIPKART&q=pixel+4A&store=tyy%2F4io&srno=s_1_14&otracker=search&otracker1=search&fm=organic&iid=94687fb2-93b7-4da7-a6d3-6fa29cd8d5d7.MOBGFCFQZGEUXH35.SEARCH&ppt=hp&ppn=homepage&ssid=m0wb5hxj8w0000001666790423465&qH=9b26a23b2cff510d\n",
      "Scraping URL =  https://www.flipkart.com/realme-c33-aqua-blue-64-gb/p/itma112335dbe78a?pid=MOBGHBJG3M6FB35G&lid=LSTMOBGHBJG3M6FB35GOCB4ZL&marketplace=FLIPKART&q=pixel+4A&store=tyy%2F4io&srno=s_1_15&otracker=search&otracker1=search&fm=organic&iid=94687fb2-93b7-4da7-a6d3-6fa29cd8d5d7.MOBGHBJG3M6FB35G.SEARCH&ppt=hp&ppn=homepage&ssid=m0wb5hxj8w0000001666790423465&qH=9b26a23b2cff510d\n",
      "Exception occured while moving to next page\n",
      "Scraping URL =  https://www.flipkart.com/vivo-t1-44w-midnight-galaxy-128-gb/p/itm2a08ebbea3689?pid=MOBGDRHVXFVCGS23&lid=LSTMOBGDRHVXFVCGS23RDLBPG&marketplace=FLIPKART&q=pixel+4A&store=tyy%2F4io&srno=s_1_16&otracker=search&otracker1=search&fm=organic&iid=94687fb2-93b7-4da7-a6d3-6fa29cd8d5d7.MOBGDRHVXFVCGS23.SEARCH&ppt=hp&ppn=homepage&ssid=m0wb5hxj8w0000001666790423465&qH=9b26a23b2cff510d\n",
      "Scraping URL =  https://www.flipkart.com/redmi-10-prime-phantom-black-128-gb/p/itm9377b4c936baa?pid=MOBG6RGPPXQFYJ4R&lid=LSTMOBG6RGPPXQFYJ4RW9POLT&marketplace=FLIPKART&q=pixel+4A&store=tyy%2F4io&srno=s_1_17&otracker=search&otracker1=search&fm=organic&iid=94687fb2-93b7-4da7-a6d3-6fa29cd8d5d7.MOBG6RGPPXQFYJ4R.SEARCH&ppt=hp&ppn=homepage&ssid=m0wb5hxj8w0000001666790423465&qH=9b26a23b2cff510d\n",
      "Scraping URL =  https://www.flipkart.com/realme-c30-locked-airtel-prepaid-denim-black-32-gb/p/itm938b2a52e171f?pid=MOBGFCFQTSHGRPYA&lid=LSTMOBGFCFQTSHGRPYATV0I3W&marketplace=FLIPKART&q=pixel+4A&store=tyy%2F4io&srno=s_1_18&otracker=search&otracker1=search&fm=organic&iid=94687fb2-93b7-4da7-a6d3-6fa29cd8d5d7.MOBGFCFQTSHGRPYA.SEARCH&ppt=hp&ppn=homepage&ssid=m0wb5hxj8w0000001666790423465&qH=9b26a23b2cff510d\n",
      "Scraping URL =  https://www.flipkart.com/redmi-10a-charcoal-black-32-gb/p/itm755830dd54ae1?pid=MOBGDRGHYWAAZDVD&lid=LSTMOBGDRGHYWAAZDVDIWF8LI&marketplace=FLIPKART&q=pixel+4A&store=tyy%2F4io&srno=s_1_19&otracker=search&otracker1=search&fm=organic&iid=94687fb2-93b7-4da7-a6d3-6fa29cd8d5d7.MOBGDRGHYWAAZDVD.SEARCH&ppt=hp&ppn=homepage&ssid=m0wb5hxj8w0000001666790423465&qH=9b26a23b2cff510d\n",
      "Scraping URL =  https://www.flipkart.com/redmi-note-10-pro-max-dark-nebula-128-gb/p/itm32dc939d5a40f?pid=MOBGF8VJY8ZFKPMK&lid=LSTMOBGF8VJY8ZFKPMKQSKZBG&marketplace=FLIPKART&q=pixel+4A&store=tyy%2F4io&srno=s_1_20&otracker=search&otracker1=search&fm=organic&iid=94687fb2-93b7-4da7-a6d3-6fa29cd8d5d7.MOBGF8VJY8ZFKPMK.SEARCH&ppt=hp&ppn=homepage&ssid=m0wb5hxj8w0000001666790423465&qH=9b26a23b2cff510d\n",
      "Scraping URL =  https://www.flipkart.com/infinix-smart-6-light-sea-green-64-gb/p/itmd4041ce33d262?pid=MOBGDC6HQJZKSX3K&lid=LSTMOBGDC6HQJZKSX3KUVADVY&marketplace=FLIPKART&q=pixel+4A&store=tyy%2F4io&srno=s_1_21&otracker=search&otracker1=search&fm=organic&iid=94687fb2-93b7-4da7-a6d3-6fa29cd8d5d7.MOBGDC6HQJZKSX3K.SEARCH&ppt=hp&ppn=homepage&ssid=m0wb5hxj8w0000001666790423465&qH=9b26a23b2cff510d\n",
      "Scraping URL =  https://www.flipkart.com/vivo-t1-44w-starry-sky-128-gb/p/itm2a08ebbea3689?pid=MOBGDRHVHYFKQP8K&lid=LSTMOBGDRHVHYFKQP8KYHDDNN&marketplace=FLIPKART&q=pixel+4A&store=tyy%2F4io&srno=s_1_22&otracker=search&otracker1=search&fm=organic&iid=94687fb2-93b7-4da7-a6d3-6fa29cd8d5d7.MOBGDRHVHYFKQP8K.SEARCH&ppt=hp&ppn=homepage&ssid=m0wb5hxj8w0000001666790423465&qH=9b26a23b2cff510d\n",
      "Scraping URL =  https://www.flipkart.com/redmi-9a-sport-coral-green-32-gb/p/itm53bc6ebfe147b?pid=MOBG7CHHZ2MUWAZ4&lid=LSTMOBG7CHHZ2MUWAZ4N0NCNM&marketplace=FLIPKART&q=pixel+4A&store=tyy%2F4io&srno=s_1_23&otracker=search&otracker1=search&fm=organic&iid=94687fb2-93b7-4da7-a6d3-6fa29cd8d5d7.MOBG7CHHZ2MUWAZ4.SEARCH&ppt=hp&ppn=homepage&ssid=m0wb5hxj8w0000001666790423465&qH=9b26a23b2cff510d\n",
      "Scraping URL =  https://www.flipkart.com/redmi-note-10-pro-max-dark-night-128-gb/p/itm3b34df1da19de?pid=MOBGB7255D2JWWKM&lid=LSTMOBGB7255D2JWWKMBHBQUP&marketplace=FLIPKART&q=pixel+4A&store=tyy%2F4io&srno=s_1_24&otracker=search&otracker1=search&fm=organic&iid=94687fb2-93b7-4da7-a6d3-6fa29cd8d5d7.MOBGB7255D2JWWKM.SEARCH&ppt=hp&ppn=homepage&ssid=m0wb5hxj8w0000001666790423465&qH=9b26a23b2cff510d\n"
     ]
    }
   ],
   "source": [
    "for url in urls:\n",
    "    driver.get(url)                                                        \n",
    "    print(\"Scraping URL = \", url)\n",
    "    Smartphones['URL'].append(url)                                                          \n",
    "    time.sleep(2)\n",
    "    \n",
    "    \n",
    "    #Clicking on read more button\n",
    "    try:\n",
    "        read_more = driver.find_element(By.XPATH,'//button[@class=\"_2KpZ6l _1FH0tX\"]')     \n",
    "        read_more.click()\n",
    "    except NoSuchElementException:\n",
    "        print(\"Exception occured while moving to next page\")\n",
    "    \n",
    "    \n",
    "    #Scraping brand name of phone data\n",
    "    try:\n",
    "        brand_tags = driver.find_element(By.XPATH,'//span[@class=\"B_NuCI\"]')      \n",
    "        Smartphones[\"Brand\"].append(brand_tags.text.split()[0])\n",
    "    except NoSuchElementException:\n",
    "        Smartphones['Brand'].append('-')\n",
    "    \n",
    "    \n",
    "    #Scraping phone name data\n",
    "    try:\n",
    "        name_tags = driver.find_element(By.XPATH,'//div[@class=\"_3k-BhJ\"][1]/table/tbody/tr[3]/td[2]/ul/li')     \n",
    "        Smartphones['Phone name'].append(name_tags.text)\n",
    "    except NoSuchElementException:\n",
    "        Smartphones['Phone name'].append('-')\n",
    "        \n",
    "     #Scraping phone color data\n",
    "    try:\n",
    "        color_tags = driver.find_element(By.XPATH,'//div[@class=\"_3k-BhJ\"][1]/table/tbody/tr[4]/td[2]/ul/li')      \n",
    "        Smartphones['Colour'].append(color_tags.text)\n",
    "    except NoSuchElementException:\n",
    "        Smartphones['Colour'].append('-')\n",
    "     \n",
    "    \n",
    "    #Scraping RAM data\n",
    "    try:\n",
    "        ram_tags = driver.find_element(By.XPATH,'//div[@class=\"_3k-BhJ\"][4]/table[1]/tbody/tr[2]/td[2]/ul/li')                \n",
    "        Smartphones['RAM'].append(ram_tags.text)\n",
    "    except NoSuchElementException:\n",
    "        Smartphones['RAM'].append('-')\n",
    "    \n",
    "    \n",
    "    #Scraping ROM data\n",
    "    try:\n",
    "        rom_tags = driver.find_element(By.XPATH,'//div[@class=\"_3k-BhJ\"][4]/table[1]/tbody/tr[1]/td[2]/ul/li')        \n",
    "        Smartphones['Storage(ROM)'].append(rom_tags.text)\n",
    "    except NoSuchElementException:\n",
    "        Smartphones['Storage(ROM)'].append('-')\n",
    "        \n",
    "        \n",
    "    #Scraping Primary camera data\n",
    "    try:                                                                                    \n",
    "        pri_tags = driver.find_element(By.XPATH,'//div[@class=\"_3k-BhJ\"][5]/table[1]/tbody/tr[2]/td[2]/ul/li')\n",
    "        Smartphones['Primary Camera'].append(pri_tags.text)\n",
    "    except NoSuchElementException:\n",
    "        Smartphones['Primary Camera'].append('-')\n",
    "        \n",
    "    #Scraping Display size data \n",
    "    try:\n",
    "        disp_tags = driver.find_element(By.XPATH,'//div[@class=\"_3k-BhJ\"][2]/div')\n",
    "        if disp_tags.text != \"Display Features\" : raise NoSuchElementException\n",
    "        disp_size = driver.find_element(By.XPATH,'//div[@class=\"_3k-BhJ\"][2]/table[1]/tbody/tr[1]/td[2]/ul/li')  \n",
    "        Smartphones['Display Size'].append(disp_size.text)\n",
    "    except NoSuchElementException:\n",
    "        Smartphones['Display Size'].append('-')\n",
    "    \n",
    "    \n",
    "    #Scraping Price data\n",
    "    try:\n",
    "        price_tags = driver.find_element(By.XPATH,'//div[@class=\"_30jeq3 _16Jk6d\"]')      \n",
    "        Smartphones['Price'].append(price_tags.text)\n",
    "    except NoSuchElementException:\n",
    "        Smartphones['Price'].append('-')\n",
    "        \n",
    "    \n"
   ]
  },
  {
   "cell_type": "code",
   "execution_count": 168,
   "id": "6d54ac99",
   "metadata": {},
   "outputs": [
    {
     "name": "stdout",
     "output_type": "stream",
     "text": [
      "24 24 24 24 24 24 24 24 24\n"
     ]
    }
   ],
   "source": [
    "print(len(Smartphones[\"Brand\"]), len(Smartphones[\"Phone name\"]),len(Smartphones[\"Colour\"]),\n",
    "      len(Smartphones[\"RAM\"]),len(Smartphones['Storage(ROM)']),len(Smartphones[\"Primary Camera\"]),\n",
    "      len(Smartphones['Display Size']),len(Smartphones['Price']),len(Smartphones['URL']))"
   ]
  },
  {
   "cell_type": "code",
   "execution_count": 170,
   "id": "13bcf02e",
   "metadata": {},
   "outputs": [
    {
     "data": {
      "text/plain": [
       "{'Brand': ['Google',\n",
       "  'realme',\n",
       "  'realme',\n",
       "  'vivo',\n",
       "  'realme',\n",
       "  'vivo',\n",
       "  'realme',\n",
       "  'realme',\n",
       "  'realme',\n",
       "  'vivo',\n",
       "  'vivo',\n",
       "  'vivo',\n",
       "  'Realme',\n",
       "  'Realme',\n",
       "  '-',\n",
       "  'vivo',\n",
       "  'REDMI',\n",
       "  'Realme',\n",
       "  'REDMI',\n",
       "  'REDMI',\n",
       "  'Infinix',\n",
       "  'vivo',\n",
       "  'Redmi',\n",
       "  'REDMI'],\n",
       " 'Phone name': ['Pixel 4a',\n",
       "  'C30',\n",
       "  'C30',\n",
       "  'T1 44W',\n",
       "  'C30',\n",
       "  'T1 44W',\n",
       "  'C30',\n",
       "  'C30',\n",
       "  'C30',\n",
       "  'T1 44W',\n",
       "  'T1 44W',\n",
       "  'T1 44W',\n",
       "  'C30',\n",
       "  'C30',\n",
       "  '-',\n",
       "  'T1 44W',\n",
       "  '10 Prime',\n",
       "  'C30',\n",
       "  'REDMI 10A',\n",
       "  'Note 10 Pro Max',\n",
       "  'Smart 6',\n",
       "  'T1 44W',\n",
       "  'Redmi 9A Sport',\n",
       "  'Note 10 Pro Max'],\n",
       " 'Colour': ['Just Black',\n",
       "  'Bamboo Green',\n",
       "  'Denim Black',\n",
       "  'Midnight Galaxy',\n",
       "  'Lake Blue',\n",
       "  'Starry Sky',\n",
       "  'Bamboo Green',\n",
       "  'Denim Black',\n",
       "  'Lake Blue',\n",
       "  'Ice Dawn',\n",
       "  'Starry Sky',\n",
       "  'Midnight Galaxy',\n",
       "  'Bamboo Green',\n",
       "  'Lake Blue',\n",
       "  '-',\n",
       "  'Midnight Galaxy',\n",
       "  'Phantom Black',\n",
       "  'Denim Black',\n",
       "  'Charcoal Black',\n",
       "  'Dark Nebula',\n",
       "  'Light Sea Green',\n",
       "  'Starry Sky',\n",
       "  'Coral Green',\n",
       "  'Dark Night'],\n",
       " 'RAM': ['6 GB',\n",
       "  '2 GB',\n",
       "  '2 GB',\n",
       "  '4 GB',\n",
       "  '2 GB',\n",
       "  '4 GB',\n",
       "  '3 GB',\n",
       "  '3 GB',\n",
       "  '3 GB',\n",
       "  '6 GB',\n",
       "  '6 GB',\n",
       "  '8 GB',\n",
       "  '2 GB',\n",
       "  '2 GB',\n",
       "  '-',\n",
       "  '6 GB',\n",
       "  '6 GB',\n",
       "  '2 GB',\n",
       "  '3 GB',\n",
       "  '6 GB',\n",
       "  '2 GB',\n",
       "  '8 GB',\n",
       "  '2 GB',\n",
       "  '6 GB'],\n",
       " 'Storage(ROM)': ['128 GB',\n",
       "  '32 GB',\n",
       "  '32 GB',\n",
       "  '128 GB',\n",
       "  '32 GB',\n",
       "  '128 GB',\n",
       "  '32 GB',\n",
       "  '32 GB',\n",
       "  '32 GB',\n",
       "  '128 GB',\n",
       "  '128 GB',\n",
       "  '128 GB',\n",
       "  '32 GB',\n",
       "  '32 GB',\n",
       "  '-',\n",
       "  '128 GB',\n",
       "  '128 GB',\n",
       "  '32 GB',\n",
       "  '32 GB',\n",
       "  '128 GB',\n",
       "  '64 GB',\n",
       "  '128 GB',\n",
       "  '32 GB',\n",
       "  '128 GB'],\n",
       " 'Primary Camera': ['12.2MP Rear Camera',\n",
       "  '8MP Rear Camera',\n",
       "  '8MP Rear Camera',\n",
       "  '50MP + 2MP + 2MP',\n",
       "  '8MP Rear Camera',\n",
       "  '50MP + 2MP + 2MP',\n",
       "  '8MP Rear Camera',\n",
       "  '8MP Rear Camera',\n",
       "  '8MP Rear Camera',\n",
       "  '50MP + 2MP + 2MP',\n",
       "  '50MP + 2MP + 2MP',\n",
       "  '50MP + 2MP + 2MP',\n",
       "  '8MP Rear Camera',\n",
       "  '8MP Rear Camera',\n",
       "  '-',\n",
       "  '50MP + 2MP + 2MP',\n",
       "  '50MP + 8MP + 2MP + 2MP',\n",
       "  '8MP Rear Camera',\n",
       "  'Primary Camera',\n",
       "  '108MP Rear Camera',\n",
       "  '8 MP + Depth Lens',\n",
       "  '50MP + 2MP + 2MP',\n",
       "  '13MP Rear Camera',\n",
       "  '108MP Rear Camera'],\n",
       " 'Display Size': ['14.76 cm (5.81 inch)',\n",
       "  '16.51 cm (6.5 inch)',\n",
       "  '16.51 cm (6.5 inch)',\n",
       "  '16.36 cm (6.44 inch)',\n",
       "  '16.51 cm (6.5 inch)',\n",
       "  '16.36 cm (6.44 inch)',\n",
       "  '16.51 cm (6.5 inch)',\n",
       "  '16.51 cm (6.5 inch)',\n",
       "  '16.51 cm (6.5 inch)',\n",
       "  '16.36 cm (6.44 inch)',\n",
       "  '16.36 cm (6.44 inch)',\n",
       "  '16.36 cm (6.44 inch)',\n",
       "  '16.51 cm (6.5 inch)',\n",
       "  '16.51 cm (6.5 inch)',\n",
       "  '-',\n",
       "  '16.36 cm (6.44 inch)',\n",
       "  '16.51 cm (6.5 inch)',\n",
       "  '16.51 cm (6.5 inch)',\n",
       "  '16.59 cm (6.53 inch)',\n",
       "  '16.94 cm (6.67 inch)',\n",
       "  '16.76 cm (6.6 inch)',\n",
       "  '16.36 cm (6.44 inch)',\n",
       "  '16.59 cm (6.53 inch)',\n",
       "  '16.94 cm (6.67 inch)'],\n",
       " 'Battery Capacity': [],\n",
       " 'Price': ['₹31,999',\n",
       "  '₹6,999',\n",
       "  '₹6,999',\n",
       "  '₹14,499',\n",
       "  '₹6,999',\n",
       "  '₹14,499',\n",
       "  '₹6,499',\n",
       "  '₹6,499',\n",
       "  '₹6,499',\n",
       "  '₹15,999',\n",
       "  '₹15,999',\n",
       "  '₹17,999',\n",
       "  '₹6,399',\n",
       "  '₹6,399',\n",
       "  '-',\n",
       "  '₹15,999',\n",
       "  '₹12,999',\n",
       "  '₹6,399',\n",
       "  '₹7,590',\n",
       "  '₹17,999',\n",
       "  '₹6,999',\n",
       "  '₹17,999',\n",
       "  '₹6,555',\n",
       "  '₹17,999'],\n",
       " 'URL': ['https://www.flipkart.com/google-pixel-4a-just-black-128-gb/p/itm023b9677aa45d?pid=MOBFUSBNAZGY7HQU&lid=LSTMOBFUSBNAZGY7HQUWHTF0C&marketplace=FLIPKART&q=pixel+4A&store=tyy%2F4io&srno=s_1_1&otracker=search&otracker1=search&fm=organic&iid=94687fb2-93b7-4da7-a6d3-6fa29cd8d5d7.MOBFUSBNAZGY7HQU.SEARCH&ppt=hp&ppn=homepage&ssid=m0wb5hxj8w0000001666790423465&qH=9b26a23b2cff510d',\n",
       "  'https://www.flipkart.com/realme-c30-bamboo-green-32-gb/p/itmfcf69b2db5059?pid=MOBGF37G7FRK8FBJ&lid=LSTMOBGF37G7FRK8FBJTETJBD&marketplace=FLIPKART&q=pixel+4A&store=tyy%2F4io&srno=s_1_2&otracker=search&otracker1=search&fm=organic&iid=94687fb2-93b7-4da7-a6d3-6fa29cd8d5d7.MOBGF37G7FRK8FBJ.SEARCH&ppt=hp&ppn=homepage&ssid=m0wb5hxj8w0000001666790423465&qH=9b26a23b2cff510d',\n",
       "  'https://www.flipkart.com/realme-c30-denim-black-32-gb/p/itmfcf69b2db5059?pid=MOBGF37G8TGKHFWJ&lid=LSTMOBGF37G8TGKHFWJIST95C&marketplace=FLIPKART&q=pixel+4A&store=tyy%2F4io&srno=s_1_3&otracker=search&otracker1=search&fm=organic&iid=94687fb2-93b7-4da7-a6d3-6fa29cd8d5d7.MOBGF37G8TGKHFWJ.SEARCH&ppt=hp&ppn=homepage&ssid=m0wb5hxj8w0000001666790423465&qH=9b26a23b2cff510d',\n",
       "  'https://www.flipkart.com/vivo-t1-44w-midnight-galaxy-128-gb/p/itm2a08ebbea3689?pid=MOBGDRHVZN29ZJF4&lid=LSTMOBGDRHVZN29ZJF4O6GUQG&marketplace=FLIPKART&q=pixel+4A&store=tyy%2F4io&srno=s_1_4&otracker=search&otracker1=search&fm=organic&iid=94687fb2-93b7-4da7-a6d3-6fa29cd8d5d7.MOBGDRHVZN29ZJF4.SEARCH&ppt=hp&ppn=homepage&ssid=m0wb5hxj8w0000001666790423465&qH=9b26a23b2cff510d',\n",
       "  'https://www.flipkart.com/realme-c30-lake-blue-32-gb/p/itmfcf69b2db5059?pid=MOBGF37GTRVMRJVK&lid=LSTMOBGF37GTRVMRJVKRYAJNG&marketplace=FLIPKART&q=pixel+4A&store=tyy%2F4io&srno=s_1_5&otracker=search&otracker1=search&fm=organic&iid=94687fb2-93b7-4da7-a6d3-6fa29cd8d5d7.MOBGF37GTRVMRJVK.SEARCH&ppt=hp&ppn=homepage&ssid=m0wb5hxj8w0000001666790423465&qH=9b26a23b2cff510d',\n",
       "  'https://www.flipkart.com/vivo-t1-44w-starry-sky-128-gb/p/itm2a08ebbea3689?pid=MOBGDRHVHNBBBBP5&lid=LSTMOBGDRHVHNBBBBP5SY2MJL&marketplace=FLIPKART&q=pixel+4A&store=tyy%2F4io&spotlightTagId=BestsellerId_tyy%2F4io&srno=s_1_6&otracker=search&otracker1=search&fm=organic&iid=94687fb2-93b7-4da7-a6d3-6fa29cd8d5d7.MOBGDRHVHNBBBBP5.SEARCH&ppt=hp&ppn=homepage&ssid=m0wb5hxj8w0000001666790423465&qH=9b26a23b2cff510d',\n",
       "  'https://www.flipkart.com/realme-c30-bamboo-green-32-gb/p/itmfcf69b2db5059?pid=MOBGF37GUWGZQYGR&lid=LSTMOBGF37GUWGZQYGRVXRDM1&marketplace=FLIPKART&q=pixel+4A&store=tyy%2F4io&srno=s_1_7&otracker=search&otracker1=search&fm=organic&iid=94687fb2-93b7-4da7-a6d3-6fa29cd8d5d7.MOBGF37GUWGZQYGR.SEARCH&ppt=hp&ppn=homepage&ssid=m0wb5hxj8w0000001666790423465&qH=9b26a23b2cff510d',\n",
       "  'https://www.flipkart.com/realme-c30-denim-black-32-gb/p/itmfcf69b2db5059?pid=MOBGF37GMBMYRFBK&lid=LSTMOBGF37GMBMYRFBK6OQWPG&marketplace=FLIPKART&q=pixel+4A&store=tyy%2F4io&srno=s_1_8&otracker=search&otracker1=search&fm=organic&iid=94687fb2-93b7-4da7-a6d3-6fa29cd8d5d7.MOBGF37GMBMYRFBK.SEARCH&ppt=hp&ppn=homepage&ssid=m0wb5hxj8w0000001666790423465&qH=9b26a23b2cff510d',\n",
       "  'https://www.flipkart.com/realme-c30-lake-blue-32-gb/p/itmfcf69b2db5059?pid=MOBGF37GWT4TGVZM&lid=LSTMOBGF37GWT4TGVZM1IFYZO&marketplace=FLIPKART&q=pixel+4A&store=tyy%2F4io&srno=s_1_9&otracker=search&otracker1=search&fm=organic&iid=94687fb2-93b7-4da7-a6d3-6fa29cd8d5d7.MOBGF37GWT4TGVZM.SEARCH&ppt=hp&ppn=homepage&ssid=m0wb5hxj8w0000001666790423465&qH=9b26a23b2cff510d',\n",
       "  'https://www.flipkart.com/vivo-t1-44w-ice-dawn-128-gb/p/itm2a08ebbea3689?pid=MOBGDRHVZ2F9AAM8&lid=LSTMOBGDRHVZ2F9AAM8P3XP8T&marketplace=FLIPKART&q=pixel+4A&store=tyy%2F4io&srno=s_1_10&otracker=search&otracker1=search&fm=organic&iid=94687fb2-93b7-4da7-a6d3-6fa29cd8d5d7.MOBGDRHVZ2F9AAM8.SEARCH&ppt=hp&ppn=homepage&ssid=m0wb5hxj8w0000001666790423465&qH=9b26a23b2cff510d',\n",
       "  'https://www.flipkart.com/vivo-t1-44w-starry-sky-128-gb/p/itm2a08ebbea3689?pid=MOBGDRHVMW2UDXZY&lid=LSTMOBGDRHVMW2UDXZYVNQXYN&marketplace=FLIPKART&q=pixel+4A&store=tyy%2F4io&srno=s_1_11&otracker=search&otracker1=search&fm=organic&iid=94687fb2-93b7-4da7-a6d3-6fa29cd8d5d7.MOBGDRHVMW2UDXZY.SEARCH&ppt=hp&ppn=homepage&ssid=m0wb5hxj8w0000001666790423465&qH=9b26a23b2cff510d',\n",
       "  'https://www.flipkart.com/vivo-t1-44w-midnight-galaxy-128-gb/p/itm2a08ebbea3689?pid=MOBGDRHVWJUFTYQJ&lid=LSTMOBGDRHVWJUFTYQJ2SYXAC&marketplace=FLIPKART&q=pixel+4A&store=tyy%2F4io&srno=s_1_12&otracker=search&otracker1=search&fm=organic&iid=94687fb2-93b7-4da7-a6d3-6fa29cd8d5d7.MOBGDRHVWJUFTYQJ.SEARCH&ppt=hp&ppn=homepage&ssid=m0wb5hxj8w0000001666790423465&qH=9b26a23b2cff510d',\n",
       "  'https://www.flipkart.com/realme-c30-locked-airtel-prepaid-bamboo-green-32-gb/p/itm938b2a52e171f?pid=MOBGFCFQXDH5NZGU&lid=LSTMOBGFCFQXDH5NZGUMBWKGV&marketplace=FLIPKART&q=pixel+4A&store=tyy%2F4io&srno=s_1_13&otracker=search&otracker1=search&fm=organic&iid=94687fb2-93b7-4da7-a6d3-6fa29cd8d5d7.MOBGFCFQXDH5NZGU.SEARCH&ppt=hp&ppn=homepage&ssid=m0wb5hxj8w0000001666790423465&qH=9b26a23b2cff510d',\n",
       "  'https://www.flipkart.com/realme-c30-locked-airtel-prepaid-lake-blue-32-gb/p/itm938b2a52e171f?pid=MOBGFCFQZGEUXH35&lid=LSTMOBGFCFQZGEUXH35331CCP&marketplace=FLIPKART&q=pixel+4A&store=tyy%2F4io&srno=s_1_14&otracker=search&otracker1=search&fm=organic&iid=94687fb2-93b7-4da7-a6d3-6fa29cd8d5d7.MOBGFCFQZGEUXH35.SEARCH&ppt=hp&ppn=homepage&ssid=m0wb5hxj8w0000001666790423465&qH=9b26a23b2cff510d',\n",
       "  'https://www.flipkart.com/realme-c33-aqua-blue-64-gb/p/itma112335dbe78a?pid=MOBGHBJG3M6FB35G&lid=LSTMOBGHBJG3M6FB35GOCB4ZL&marketplace=FLIPKART&q=pixel+4A&store=tyy%2F4io&srno=s_1_15&otracker=search&otracker1=search&fm=organic&iid=94687fb2-93b7-4da7-a6d3-6fa29cd8d5d7.MOBGHBJG3M6FB35G.SEARCH&ppt=hp&ppn=homepage&ssid=m0wb5hxj8w0000001666790423465&qH=9b26a23b2cff510d',\n",
       "  'https://www.flipkart.com/vivo-t1-44w-midnight-galaxy-128-gb/p/itm2a08ebbea3689?pid=MOBGDRHVXFVCGS23&lid=LSTMOBGDRHVXFVCGS23RDLBPG&marketplace=FLIPKART&q=pixel+4A&store=tyy%2F4io&srno=s_1_16&otracker=search&otracker1=search&fm=organic&iid=94687fb2-93b7-4da7-a6d3-6fa29cd8d5d7.MOBGDRHVXFVCGS23.SEARCH&ppt=hp&ppn=homepage&ssid=m0wb5hxj8w0000001666790423465&qH=9b26a23b2cff510d',\n",
       "  'https://www.flipkart.com/redmi-10-prime-phantom-black-128-gb/p/itm9377b4c936baa?pid=MOBG6RGPPXQFYJ4R&lid=LSTMOBG6RGPPXQFYJ4RW9POLT&marketplace=FLIPKART&q=pixel+4A&store=tyy%2F4io&srno=s_1_17&otracker=search&otracker1=search&fm=organic&iid=94687fb2-93b7-4da7-a6d3-6fa29cd8d5d7.MOBG6RGPPXQFYJ4R.SEARCH&ppt=hp&ppn=homepage&ssid=m0wb5hxj8w0000001666790423465&qH=9b26a23b2cff510d',\n",
       "  'https://www.flipkart.com/realme-c30-locked-airtel-prepaid-denim-black-32-gb/p/itm938b2a52e171f?pid=MOBGFCFQTSHGRPYA&lid=LSTMOBGFCFQTSHGRPYATV0I3W&marketplace=FLIPKART&q=pixel+4A&store=tyy%2F4io&srno=s_1_18&otracker=search&otracker1=search&fm=organic&iid=94687fb2-93b7-4da7-a6d3-6fa29cd8d5d7.MOBGFCFQTSHGRPYA.SEARCH&ppt=hp&ppn=homepage&ssid=m0wb5hxj8w0000001666790423465&qH=9b26a23b2cff510d',\n",
       "  'https://www.flipkart.com/redmi-10a-charcoal-black-32-gb/p/itm755830dd54ae1?pid=MOBGDRGHYWAAZDVD&lid=LSTMOBGDRGHYWAAZDVDIWF8LI&marketplace=FLIPKART&q=pixel+4A&store=tyy%2F4io&srno=s_1_19&otracker=search&otracker1=search&fm=organic&iid=94687fb2-93b7-4da7-a6d3-6fa29cd8d5d7.MOBGDRGHYWAAZDVD.SEARCH&ppt=hp&ppn=homepage&ssid=m0wb5hxj8w0000001666790423465&qH=9b26a23b2cff510d',\n",
       "  'https://www.flipkart.com/redmi-note-10-pro-max-dark-nebula-128-gb/p/itm32dc939d5a40f?pid=MOBGF8VJY8ZFKPMK&lid=LSTMOBGF8VJY8ZFKPMKQSKZBG&marketplace=FLIPKART&q=pixel+4A&store=tyy%2F4io&srno=s_1_20&otracker=search&otracker1=search&fm=organic&iid=94687fb2-93b7-4da7-a6d3-6fa29cd8d5d7.MOBGF8VJY8ZFKPMK.SEARCH&ppt=hp&ppn=homepage&ssid=m0wb5hxj8w0000001666790423465&qH=9b26a23b2cff510d',\n",
       "  'https://www.flipkart.com/infinix-smart-6-light-sea-green-64-gb/p/itmd4041ce33d262?pid=MOBGDC6HQJZKSX3K&lid=LSTMOBGDC6HQJZKSX3KUVADVY&marketplace=FLIPKART&q=pixel+4A&store=tyy%2F4io&srno=s_1_21&otracker=search&otracker1=search&fm=organic&iid=94687fb2-93b7-4da7-a6d3-6fa29cd8d5d7.MOBGDC6HQJZKSX3K.SEARCH&ppt=hp&ppn=homepage&ssid=m0wb5hxj8w0000001666790423465&qH=9b26a23b2cff510d',\n",
       "  'https://www.flipkart.com/vivo-t1-44w-starry-sky-128-gb/p/itm2a08ebbea3689?pid=MOBGDRHVHYFKQP8K&lid=LSTMOBGDRHVHYFKQP8KYHDDNN&marketplace=FLIPKART&q=pixel+4A&store=tyy%2F4io&srno=s_1_22&otracker=search&otracker1=search&fm=organic&iid=94687fb2-93b7-4da7-a6d3-6fa29cd8d5d7.MOBGDRHVHYFKQP8K.SEARCH&ppt=hp&ppn=homepage&ssid=m0wb5hxj8w0000001666790423465&qH=9b26a23b2cff510d',\n",
       "  'https://www.flipkart.com/redmi-9a-sport-coral-green-32-gb/p/itm53bc6ebfe147b?pid=MOBG7CHHZ2MUWAZ4&lid=LSTMOBG7CHHZ2MUWAZ4N0NCNM&marketplace=FLIPKART&q=pixel+4A&store=tyy%2F4io&srno=s_1_23&otracker=search&otracker1=search&fm=organic&iid=94687fb2-93b7-4da7-a6d3-6fa29cd8d5d7.MOBG7CHHZ2MUWAZ4.SEARCH&ppt=hp&ppn=homepage&ssid=m0wb5hxj8w0000001666790423465&qH=9b26a23b2cff510d',\n",
       "  'https://www.flipkart.com/redmi-note-10-pro-max-dark-night-128-gb/p/itm3b34df1da19de?pid=MOBGB7255D2JWWKM&lid=LSTMOBGB7255D2JWWKMBHBQUP&marketplace=FLIPKART&q=pixel+4A&store=tyy%2F4io&srno=s_1_24&otracker=search&otracker1=search&fm=organic&iid=94687fb2-93b7-4da7-a6d3-6fa29cd8d5d7.MOBGB7255D2JWWKM.SEARCH&ppt=hp&ppn=homepage&ssid=m0wb5hxj8w0000001666790423465&qH=9b26a23b2cff510d']}"
      ]
     },
     "execution_count": 170,
     "metadata": {},
     "output_type": "execute_result"
    }
   ],
   "source": [
    "Smartphones"
   ]
  },
  {
   "cell_type": "markdown",
   "id": "dff54009",
   "metadata": {},
   "source": [
    "## 5. Write a program to scrap geospatial coordinates (latitude, longitude) of a city searched on google maps.\n"
   ]
  },
  {
   "cell_type": "code",
   "execution_count": 174,
   "id": "c9ad1de5",
   "metadata": {},
   "outputs": [
    {
     "name": "stdout",
     "output_type": "stream",
     "text": [
      "Enter City name that has to be searched : Hyderabad\n",
      "URL Extracted:  https://www.google.co.in/maps/place/Hyderabad,+Telangana/@17.4122998,78.2679582,11z/data=!3m1!4b1!4m5!3m4!1s0x3bcb99daeaebd2c7:0xae93b78392bafbc2!8m2!3d17.385044!4d78.486671\n",
      "Latitude = 17.4122998, Longitude = 78.2679582\n"
     ]
    }
   ],
   "source": [
    "# Activating the chrome browser\n",
    "driver = webdriver.Chrome(ChromeDriverManager().install())\n",
    "time.sleep(1)\n",
    "driver.maximize_window()\n",
    "\n",
    "driver.get('https://www.google.co.in/maps')\n",
    "time.sleep(2)\n",
    "\n",
    "#Sending keyword for seach bar and search button\n",
    "city = input('Enter City name that has to be searched : ')\n",
    "search_bar = driver.find_element(By.ID,\"searchboxinput\")                       \n",
    "search_bar.clear()                                                             \n",
    "time.sleep(2)\n",
    "search_bar.send_keys(city)                                                     \n",
    "search_btn = driver.find_element(By.ID,\"searchbox-searchbutton\")              \n",
    "search_btn.click()                                                             \n",
    "time.sleep(3)\n",
    "\n",
    "try:\n",
    "    url_str = driver.current_url\n",
    "    print(\"URL Extracted: \", url_str)\n",
    "    latitude_longitude = re.findall(r'@(.*)data',url_str)\n",
    "    if len(latitude_longitude):\n",
    "        lat_lng_list = latitude_longitude[0].split(\",\")\n",
    "        if len(lat_lng_list)>=2:\n",
    "            latitude = lat_lng_list[0]\n",
    "            longitude = lat_lng_list[1]\n",
    "        print(\"Latitude = {}, Longitude = {}\".format(latitude, longitude))\n",
    "\n",
    "except Exception as e:\n",
    "        print(\"Error: \", str(e))"
   ]
  },
  {
   "cell_type": "markdown",
   "id": "627bd037",
   "metadata": {},
   "source": [
    "## 6. Write a program to scrap details of all the funding deals for second quarter (i.e Jan 21 – March 21) from trak.in.\n"
   ]
  },
  {
   "cell_type": "code",
   "execution_count": 175,
   "id": "f5158af6",
   "metadata": {},
   "outputs": [],
   "source": [
    "# Activating the chrome browser\n",
    "driver = webdriver.Chrome(ChromeDriverManager().install())\n",
    "time.sleep(1)\n",
    "driver.maximize_window()\n",
    "\n",
    "driver.get('https://trak.in/')\n",
    "time.sleep(2)"
   ]
  },
  {
   "cell_type": "code",
   "execution_count": 176,
   "id": "7ce96486",
   "metadata": {},
   "outputs": [],
   "source": [
    "#Getting xpath for funding deals\n",
    "fund_button = driver.find_element(By.XPATH,'//li[@id=\"menu-item-51510\"]/a').get_attribute('href')\n",
    "driver.get(fund_button)"
   ]
  },
  {
   "cell_type": "code",
   "execution_count": 177,
   "id": "715943bc",
   "metadata": {},
   "outputs": [],
   "source": [
    "#Creating empty lists\n",
    "fund_deals = {}\n",
    "fund_deals['Date'] = []\n",
    "fund_deals['Startup Name'] = []\n",
    "fund_deals['Industry OR Vertical'] = []\n",
    "fund_deals['Sub-Vertical'] = []\n",
    "fund_deals['Location'] = []\n",
    "fund_deals['Investor'] = []\n",
    "fund_deals['Investment Type'] = []\n",
    "fund_deals['Amount(in USD)'] = []"
   ]
  },
  {
   "cell_type": "code",
   "execution_count": 178,
   "id": "7c021e03",
   "metadata": {},
   "outputs": [],
   "source": [
    "for i in range(48,51):\n",
    "    driver.find_element(By.XPATH,'//div[@id=\"tablepress-{}_wrapper\"]/div/label/select/option[4]'.format(i)).click()\n",
    "\n",
    "    # Scraping data of Date\n",
    "    date_tags = driver.find_elements(By.XPATH,'//table[@id=\"tablepress-{}\"]/tbody/tr/td[2]'.format(i))\n",
    "    for date in date_tags:\n",
    "        fund_deals['Date'].append(date.text)\n",
    "\n",
    "    # Scraping data of Startup Name\n",
    "    name_tags = driver.find_elements(By.XPATH,'//table[@id=\"tablepress-{}\"]/tbody/tr/td[3]'.format(i))\n",
    "    for name in name_tags:\n",
    "        fund_deals['Startup Name'].append(name.text)\n",
    "    \n",
    "    # Scraping data of Industry OR Vertical\n",
    "    ind_tags = driver.find_elements(By.XPATH,'//table[@id=\"tablepress-{}\"]/tbody/tr/td[4]'.format(i))\n",
    "    for n in ind_tags:\n",
    "        fund_deals['Industry OR Vertical'].append(n.text)\n",
    "    \n",
    "    # Scraping data of Sub-Vertical\n",
    "    sv_tags = driver.find_elements(By.XPATH,'//table[@id=\"tablepress-{}\"]/tbody/tr/td[5]'.format(i))\n",
    "    for sv in sv_tags:\n",
    "        fund_deals['Sub-Vertical'].append(sv.text)\n",
    "\n",
    "    # Scraping data of Location\n",
    "    loc_tags = driver.find_elements(By.XPATH,'//table[@id=\"tablepress-{}\"]/tbody/tr/td[6]'.format(i))\n",
    "    for loc in loc_tags:\n",
    "        fund_deals['Location'].append(loc.text)\n",
    "    \n",
    "    # Scraping data of Investor\n",
    "    inv_tags = driver.find_elements(By.XPATH,'//table[@id=\"tablepress-{}\"]/tbody/tr/td[7]'.format(i))\n",
    "    for inv in inv_tags:\n",
    "        fund_deals['Investor'].append(inv.text)\n",
    "        \n",
    "    # Scraping data of Investment Type\n",
    "    invt_tags = driver.find_elements(By.XPATH,'//table[@id=\"tablepress-{}\"]/tbody/tr/td[8]'.format(i))\n",
    "    for invt in invt_tags:\n",
    "        fund_deals['Investment Type'].append(invt.text)\n",
    "    \n",
    "    # Scraping data of Amount\n",
    "    amt_tags = driver.find_elements(By.XPATH,'//table[@id=\"tablepress-{}\"]/tbody/tr/td[9]'.format(i))\n",
    "    for amt in amt_tags:\n",
    "        fund_deals['Amount(in USD)'].append(amt.text)"
   ]
  },
  {
   "cell_type": "code",
   "execution_count": 179,
   "id": "f0b62d9e",
   "metadata": {},
   "outputs": [
    {
     "data": {
      "text/html": [
       "<div>\n",
       "<style scoped>\n",
       "    .dataframe tbody tr th:only-of-type {\n",
       "        vertical-align: middle;\n",
       "    }\n",
       "\n",
       "    .dataframe tbody tr th {\n",
       "        vertical-align: top;\n",
       "    }\n",
       "\n",
       "    .dataframe thead th {\n",
       "        text-align: right;\n",
       "    }\n",
       "</style>\n",
       "<table border=\"1\" class=\"dataframe\">\n",
       "  <thead>\n",
       "    <tr style=\"text-align: right;\">\n",
       "      <th></th>\n",
       "      <th>Date</th>\n",
       "      <th>Startup Name</th>\n",
       "      <th>Industry OR Vertical</th>\n",
       "      <th>Sub-Vertical</th>\n",
       "      <th>Location</th>\n",
       "      <th>Investor</th>\n",
       "      <th>Investment Type</th>\n",
       "      <th>Amount(in USD)</th>\n",
       "    </tr>\n",
       "  </thead>\n",
       "  <tbody>\n",
       "    <tr>\n",
       "      <th>0</th>\n",
       "      <td>15/07/2020</td>\n",
       "      <td>Flipkart</td>\n",
       "      <td>E-commerce</td>\n",
       "      <td>E-commerce</td>\n",
       "      <td>Bangalore</td>\n",
       "      <td>Walmart Inc</td>\n",
       "      <td>M&amp;A</td>\n",
       "      <td>1,200,000,000</td>\n",
       "    </tr>\n",
       "    <tr>\n",
       "      <th>1</th>\n",
       "      <td>16/07/2020</td>\n",
       "      <td>Vedantu</td>\n",
       "      <td>EduTech</td>\n",
       "      <td>Online Tutoring</td>\n",
       "      <td>Bangalore</td>\n",
       "      <td>Coatue Management</td>\n",
       "      <td>Series D</td>\n",
       "      <td>100,000,000</td>\n",
       "    </tr>\n",
       "    <tr>\n",
       "      <th>2</th>\n",
       "      <td>16/07/2020</td>\n",
       "      <td>Crio</td>\n",
       "      <td>EduTech</td>\n",
       "      <td>Learning Platform for Developers</td>\n",
       "      <td>Bangalore</td>\n",
       "      <td>021 Capital</td>\n",
       "      <td>pre-Series A</td>\n",
       "      <td>934,160</td>\n",
       "    </tr>\n",
       "    <tr>\n",
       "      <th>3</th>\n",
       "      <td>14/07/2020</td>\n",
       "      <td>goDutch</td>\n",
       "      <td>FinTech</td>\n",
       "      <td>Group Payments</td>\n",
       "      <td>Mumbai</td>\n",
       "      <td>Matrix India,Y Combinator, Global Founders Cap...</td>\n",
       "      <td>Seed</td>\n",
       "      <td>1,700,000</td>\n",
       "    </tr>\n",
       "    <tr>\n",
       "      <th>4</th>\n",
       "      <td>13/07/2020</td>\n",
       "      <td>Mystifly</td>\n",
       "      <td>Airfare Marketplace</td>\n",
       "      <td>Ticketing, Airline Retailing, and Post-Ticketi...</td>\n",
       "      <td>Singapore and Bangalore</td>\n",
       "      <td>Recruit Co. Ltd.</td>\n",
       "      <td>pre-Series B</td>\n",
       "      <td>3,300,000</td>\n",
       "    </tr>\n",
       "  </tbody>\n",
       "</table>\n",
       "</div>"
      ],
      "text/plain": [
       "         Date Startup Name Industry OR Vertical  \\\n",
       "0  15/07/2020     Flipkart           E-commerce   \n",
       "1  16/07/2020      Vedantu              EduTech   \n",
       "2  16/07/2020         Crio              EduTech   \n",
       "3  14/07/2020      goDutch              FinTech   \n",
       "4  13/07/2020     Mystifly  Airfare Marketplace   \n",
       "\n",
       "                                        Sub-Vertical                 Location  \\\n",
       "0                                         E-commerce                Bangalore   \n",
       "1                                    Online Tutoring                Bangalore   \n",
       "2                   Learning Platform for Developers                Bangalore   \n",
       "3                                     Group Payments                   Mumbai   \n",
       "4  Ticketing, Airline Retailing, and Post-Ticketi...  Singapore and Bangalore   \n",
       "\n",
       "                                            Investor Investment Type  \\\n",
       "0                                        Walmart Inc             M&A   \n",
       "1                                  Coatue Management        Series D   \n",
       "2                                        021 Capital    pre-Series A   \n",
       "3  Matrix India,Y Combinator, Global Founders Cap...            Seed   \n",
       "4                                   Recruit Co. Ltd.    pre-Series B   \n",
       "\n",
       "  Amount(in USD)  \n",
       "0  1,200,000,000  \n",
       "1    100,000,000  \n",
       "2        934,160  \n",
       "3      1,700,000  \n",
       "4      3,300,000  "
      ]
     },
     "execution_count": 179,
     "metadata": {},
     "output_type": "execute_result"
    }
   ],
   "source": [
    "# dataframe\n",
    "df = pd.DataFrame(fund_deals)\n",
    "df.head()"
   ]
  },
  {
   "cell_type": "markdown",
   "id": "b8939177",
   "metadata": {},
   "source": [
    "## 7. Write a program to scrap all the available details of best gaming laptops from digit.in"
   ]
  },
  {
   "cell_type": "code",
   "execution_count": 180,
   "id": "fa67ae66",
   "metadata": {},
   "outputs": [],
   "source": [
    "driver = webdriver.Chrome(ChromeDriverManager().install())\n",
    "time.sleep(1)\n",
    "driver.maximize_window()\n",
    "\n",
    "driver.get(\"https://www.digit.in/\")\n",
    "time.sleep(2)"
   ]
  },
  {
   "cell_type": "code",
   "execution_count": 182,
   "id": "85d390a5",
   "metadata": {},
   "outputs": [],
   "source": [
    "#searching for best laptop\n",
    "best_gam_lap = driver.find_element(By.XPATH,\"//div[@class='listing_container']//ul//li[9]\").click()\n",
    "time.sleep(1)"
   ]
  },
  {
   "cell_type": "code",
   "execution_count": 183,
   "id": "bb067c43",
   "metadata": {},
   "outputs": [],
   "source": [
    "lap_name = []\n",
    "ope_sys = []\n",
    "display = []\n",
    "processor = []\n",
    "memory = []\n",
    "weight = []\n",
    "dimensions = []\n",
    "graph_proc = []\n",
    "price = []"
   ]
  },
  {
   "cell_type": "code",
   "execution_count": 184,
   "id": "48c20e3a",
   "metadata": {},
   "outputs": [],
   "source": [
    "name_tags = driver.find_elements(By.XPATH,\"//table[@id='summtable']//tr//td[1]\")\n",
    "for name in name_tags:\n",
    "    lap_name.append(name.text)\n",
    "    \n",
    "    \n",
    "#Scraping the data of operating system\n",
    "try:\n",
    "    os_tags = driver.find_elements(By.XPATH,\"//div[@class='Spcs-details']//tr[3]//td[3]\")\n",
    "    for os in os_tags:\n",
    "        ope_sys.append(os.text)\n",
    "except NoSuchElementException:\n",
    "    pass\n",
    "\n",
    "\n",
    "#Scraping data of display\n",
    "try:\n",
    "    disp_tags = driver.find_elements(By.XPATH,\"//div[@class='Spcs-details']//tr[4]//td[3]\")\n",
    "    for disp in disp_tags:\n",
    "        display.append(disp.text)\n",
    "except NoSuchElementException:\n",
    "    pass\n",
    "\n",
    "\n",
    "#Scraping data of Processor\n",
    "try:\n",
    "    pro_tags = driver.find_elements(By.XPATH,\"//div[@class='Spcs-details']//tr[5]//td[3]\")\n",
    "    for pro in pro_tags:\n",
    "        processor.append(pro.text)\n",
    "except NoSuchElementException:\n",
    "    pass\n",
    "\n",
    "\n",
    "#Scraping data of memory\n",
    "try:\n",
    "    memo_tags = driver.find_elements(By.XPATH,\"//div[@class='Spcs-details']//tr[6]//td[3]\")\n",
    "    for memo in memo_tags:\n",
    "        memory.append(memo.text)\n",
    "except NoSuchElementException:\n",
    "    pass\n",
    "\n",
    "#Scraping data of weight\n",
    "try:\n",
    "    wgt_tags = driver.find_elements(By.XPATH,\"//div[@class='Spcs-details']//tr[7]//td[3]\")\n",
    "    for wgt in wgt_tags:\n",
    "        weight.append(wgt.text)\n",
    "except NoSuchElementException:\n",
    "    pass\n",
    "\n",
    "\n",
    "#Scraping data of dimensions\n",
    "try:\n",
    "    dim_tags = driver.find_elements(By.XPATH,\"//div[@class='Spcs-details']//tr[8]//td[3]\")\n",
    "    for dim in dim_tags:\n",
    "        dimensions.append(dim.text)\n",
    "except NoSuchElementException:\n",
    "    pass\n",
    "\n",
    "\n",
    "#Scraping data of Graph processor\n",
    "try:\n",
    "    gra_tags = driver.find_elements(By.XPATH,\"//div[@class='Spcs-details']//tr[9]//td[3]\")\n",
    "    for gra in gra_tags:\n",
    "        graph_proc.append(gra.text)\n",
    "except NoSuchElementException:\n",
    "    pass\n",
    "\n",
    "\n",
    "#Scraping data of price\n",
    "try:\n",
    "    pri_tags = driver.find_elements(By.XPATH,\"//td[@class='smprice']\")\n",
    "    for pri in pri_tags:\n",
    "        price.append(pri.text.replace('Ã¢Â‚Â¹','Rs '))\n",
    "except NoSuchElementException:\n",
    "    pass\n"
   ]
  },
  {
   "cell_type": "code",
   "execution_count": 188,
   "id": "a2190b78",
   "metadata": {},
   "outputs": [
    {
     "name": "stdout",
     "output_type": "stream",
     "text": [
      "11 16 7 9 6 6 10 19 5\n"
     ]
    }
   ],
   "source": [
    "print(len('Laptop Name'), \n",
    "len('Operating system'),\n",
    "len('Display'),\n",
    "len('Processor'),\n",
    "len('Memory'),\n",
    "len('Weight'),\n",
    "len('Dimensions'),\n",
    "len('Graphical Processor'),\n",
    "len('Price'))"
   ]
  },
  {
   "cell_type": "markdown",
   "id": "522eabe2",
   "metadata": {},
   "source": [
    "## 8. Write a python program to scrape the details for all billionaires from www.forbes.com. Details to be scrapped: “Rank”, “Name”, “Net worth”, “Age”, “Citizenship”, “Source”, “Industry”.\n"
   ]
  },
  {
   "cell_type": "code",
   "execution_count": 194,
   "id": "ad77e092",
   "metadata": {},
   "outputs": [
    {
     "ename": "NoSuchElementException",
     "evalue": "Message: no such element: Unable to locate element: {\"method\":\"xpath\",\"selector\":\"//button[@class='icon--hamburger']\"}\n  (Session info: chrome=107.0.5304.63)\nStacktrace:\nBacktrace:\n\tOrdinal0 [0x0065ACD3+2075859]\n\tOrdinal0 [0x005EEE61+1633889]\n\tOrdinal0 [0x004EB7BD+571325]\n\tOrdinal0 [0x0051AC2F+764975]\n\tOrdinal0 [0x0051AE1B+765467]\n\tOrdinal0 [0x0054D0F2+970994]\n\tOrdinal0 [0x00537364+881508]\n\tOrdinal0 [0x0054B56A+963946]\n\tOrdinal0 [0x00537136+880950]\n\tOrdinal0 [0x0050FEFD+720637]\n\tOrdinal0 [0x00510F3F+724799]\n\tGetHandleVerifier [0x0090EED2+2769538]\n\tGetHandleVerifier [0x00900D95+2711877]\n\tGetHandleVerifier [0x006EA03A+521194]\n\tGetHandleVerifier [0x006E8DA0+516432]\n\tOrdinal0 [0x005F682C+1665068]\n\tOrdinal0 [0x005FB128+1683752]\n\tOrdinal0 [0x005FB215+1683989]\n\tOrdinal0 [0x00606484+1729668]\n\tBaseThreadInitThunk [0x75F96739+25]\n\tRtlGetFullPathName_UEx [0x77CF8FD2+1218]\n\tRtlGetFullPathName_UEx [0x77CF8F9D+1165]\n",
     "output_type": "error",
     "traceback": [
      "\u001b[1;31m---------------------------------------------------------------------------\u001b[0m",
      "\u001b[1;31mNoSuchElementException\u001b[0m                    Traceback (most recent call last)",
      "\u001b[1;32m~\\AppData\\Local\\Temp/ipykernel_14748/1781003580.py\u001b[0m in \u001b[0;36m<module>\u001b[1;34m\u001b[0m\n\u001b[0;32m      7\u001b[0m \u001b[1;33m\u001b[0m\u001b[0m\n\u001b[0;32m      8\u001b[0m \u001b[1;31m#clicking the explore button\u001b[0m\u001b[1;33m\u001b[0m\u001b[1;33m\u001b[0m\u001b[0m\n\u001b[1;32m----> 9\u001b[1;33m \u001b[0mbutton\u001b[0m \u001b[1;33m=\u001b[0m \u001b[0mdriver\u001b[0m\u001b[1;33m.\u001b[0m\u001b[0mfind_element\u001b[0m\u001b[1;33m(\u001b[0m\u001b[0mBy\u001b[0m\u001b[1;33m.\u001b[0m\u001b[0mXPATH\u001b[0m\u001b[1;33m,\u001b[0m\u001b[1;34m\"//button[@class='icon--hamburger']\"\u001b[0m\u001b[1;33m)\u001b[0m\u001b[1;33m\u001b[0m\u001b[1;33m\u001b[0m\u001b[0m\n\u001b[0m\u001b[0;32m     10\u001b[0m \u001b[0mbutton\u001b[0m\u001b[1;33m.\u001b[0m\u001b[0mclick\u001b[0m\u001b[1;33m(\u001b[0m\u001b[1;33m)\u001b[0m\u001b[1;33m\u001b[0m\u001b[1;33m\u001b[0m\u001b[0m\n\u001b[0;32m     11\u001b[0m \u001b[0mtime\u001b[0m\u001b[1;33m.\u001b[0m\u001b[0msleep\u001b[0m\u001b[1;33m(\u001b[0m\u001b[1;36m1\u001b[0m\u001b[1;33m)\u001b[0m\u001b[1;33m\u001b[0m\u001b[1;33m\u001b[0m\u001b[0m\n",
      "\u001b[1;32m~\\anaconda3\\lib\\site-packages\\selenium\\webdriver\\remote\\webdriver.py\u001b[0m in \u001b[0;36mfind_element\u001b[1;34m(self, by, value)\u001b[0m\n\u001b[0;32m    853\u001b[0m             \u001b[0mvalue\u001b[0m \u001b[1;33m=\u001b[0m \u001b[1;34m'[name=\"%s\"]'\u001b[0m \u001b[1;33m%\u001b[0m \u001b[0mvalue\u001b[0m\u001b[1;33m\u001b[0m\u001b[1;33m\u001b[0m\u001b[0m\n\u001b[0;32m    854\u001b[0m \u001b[1;33m\u001b[0m\u001b[0m\n\u001b[1;32m--> 855\u001b[1;33m         return self.execute(Command.FIND_ELEMENT, {\n\u001b[0m\u001b[0;32m    856\u001b[0m             \u001b[1;34m'using'\u001b[0m\u001b[1;33m:\u001b[0m \u001b[0mby\u001b[0m\u001b[1;33m,\u001b[0m\u001b[1;33m\u001b[0m\u001b[1;33m\u001b[0m\u001b[0m\n\u001b[0;32m    857\u001b[0m             'value': value})['value']\n",
      "\u001b[1;32m~\\anaconda3\\lib\\site-packages\\selenium\\webdriver\\remote\\webdriver.py\u001b[0m in \u001b[0;36mexecute\u001b[1;34m(self, driver_command, params)\u001b[0m\n\u001b[0;32m    426\u001b[0m         \u001b[0mresponse\u001b[0m \u001b[1;33m=\u001b[0m \u001b[0mself\u001b[0m\u001b[1;33m.\u001b[0m\u001b[0mcommand_executor\u001b[0m\u001b[1;33m.\u001b[0m\u001b[0mexecute\u001b[0m\u001b[1;33m(\u001b[0m\u001b[0mdriver_command\u001b[0m\u001b[1;33m,\u001b[0m \u001b[0mparams\u001b[0m\u001b[1;33m)\u001b[0m\u001b[1;33m\u001b[0m\u001b[1;33m\u001b[0m\u001b[0m\n\u001b[0;32m    427\u001b[0m         \u001b[1;32mif\u001b[0m \u001b[0mresponse\u001b[0m\u001b[1;33m:\u001b[0m\u001b[1;33m\u001b[0m\u001b[1;33m\u001b[0m\u001b[0m\n\u001b[1;32m--> 428\u001b[1;33m             \u001b[0mself\u001b[0m\u001b[1;33m.\u001b[0m\u001b[0merror_handler\u001b[0m\u001b[1;33m.\u001b[0m\u001b[0mcheck_response\u001b[0m\u001b[1;33m(\u001b[0m\u001b[0mresponse\u001b[0m\u001b[1;33m)\u001b[0m\u001b[1;33m\u001b[0m\u001b[1;33m\u001b[0m\u001b[0m\n\u001b[0m\u001b[0;32m    429\u001b[0m             response['value'] = self._unwrap_value(\n\u001b[0;32m    430\u001b[0m                 response.get('value', None))\n",
      "\u001b[1;32m~\\anaconda3\\lib\\site-packages\\selenium\\webdriver\\remote\\errorhandler.py\u001b[0m in \u001b[0;36mcheck_response\u001b[1;34m(self, response)\u001b[0m\n\u001b[0;32m    241\u001b[0m                 \u001b[0malert_text\u001b[0m \u001b[1;33m=\u001b[0m \u001b[0mvalue\u001b[0m\u001b[1;33m[\u001b[0m\u001b[1;34m'alert'\u001b[0m\u001b[1;33m]\u001b[0m\u001b[1;33m.\u001b[0m\u001b[0mget\u001b[0m\u001b[1;33m(\u001b[0m\u001b[1;34m'text'\u001b[0m\u001b[1;33m)\u001b[0m\u001b[1;33m\u001b[0m\u001b[1;33m\u001b[0m\u001b[0m\n\u001b[0;32m    242\u001b[0m             \u001b[1;32mraise\u001b[0m \u001b[0mexception_class\u001b[0m\u001b[1;33m(\u001b[0m\u001b[0mmessage\u001b[0m\u001b[1;33m,\u001b[0m \u001b[0mscreen\u001b[0m\u001b[1;33m,\u001b[0m \u001b[0mstacktrace\u001b[0m\u001b[1;33m,\u001b[0m \u001b[0malert_text\u001b[0m\u001b[1;33m)\u001b[0m  \u001b[1;31m# type: ignore[call-arg]  # mypy is not smart enough here\u001b[0m\u001b[1;33m\u001b[0m\u001b[1;33m\u001b[0m\u001b[0m\n\u001b[1;32m--> 243\u001b[1;33m         \u001b[1;32mraise\u001b[0m \u001b[0mexception_class\u001b[0m\u001b[1;33m(\u001b[0m\u001b[0mmessage\u001b[0m\u001b[1;33m,\u001b[0m \u001b[0mscreen\u001b[0m\u001b[1;33m,\u001b[0m \u001b[0mstacktrace\u001b[0m\u001b[1;33m)\u001b[0m\u001b[1;33m\u001b[0m\u001b[1;33m\u001b[0m\u001b[0m\n\u001b[0m",
      "\u001b[1;31mNoSuchElementException\u001b[0m: Message: no such element: Unable to locate element: {\"method\":\"xpath\",\"selector\":\"//button[@class='icon--hamburger']\"}\n  (Session info: chrome=107.0.5304.63)\nStacktrace:\nBacktrace:\n\tOrdinal0 [0x0065ACD3+2075859]\n\tOrdinal0 [0x005EEE61+1633889]\n\tOrdinal0 [0x004EB7BD+571325]\n\tOrdinal0 [0x0051AC2F+764975]\n\tOrdinal0 [0x0051AE1B+765467]\n\tOrdinal0 [0x0054D0F2+970994]\n\tOrdinal0 [0x00537364+881508]\n\tOrdinal0 [0x0054B56A+963946]\n\tOrdinal0 [0x00537136+880950]\n\tOrdinal0 [0x0050FEFD+720637]\n\tOrdinal0 [0x00510F3F+724799]\n\tGetHandleVerifier [0x0090EED2+2769538]\n\tGetHandleVerifier [0x00900D95+2711877]\n\tGetHandleVerifier [0x006EA03A+521194]\n\tGetHandleVerifier [0x006E8DA0+516432]\n\tOrdinal0 [0x005F682C+1665068]\n\tOrdinal0 [0x005FB128+1683752]\n\tOrdinal0 [0x005FB215+1683989]\n\tOrdinal0 [0x00606484+1729668]\n\tBaseThreadInitThunk [0x75F96739+25]\n\tRtlGetFullPathName_UEx [0x77CF8FD2+1218]\n\tRtlGetFullPathName_UEx [0x77CF8F9D+1165]\n"
     ]
    }
   ],
   "source": [
    "\n",
    "driver = webdriver.Chrome(ChromeDriverManager().install())\n",
    "time.sleep(1)\n",
    "driver.maximize_window()\n",
    "\n",
    "driver.get(\"https://www.forbes.com/\")\n",
    "time.sleep(2)\n",
    "\n",
    "#clicking the explore button\n",
    "button = driver.find_element(By.XPATH,\"//button[@class='icon--hamburger']\")\n",
    "button.click()\n",
    "time.sleep(1)\n",
    "\n",
    "#select billionaire  \n",
    "bill = driver.find_element(By.XPATH,\"/html/body/div[1]/header/nav/div[3]/ul/li[1]\")\n",
    "bill.click()\n",
    "time.sleep(1)\n",
    "\n",
    "#select world billionaire  \n",
    "world_bill= driver.find_element(By.XPATH,\"/html/body/div[1]/header/nav/div[3]/ul/li[1]/div[2]/ul/li[2]/a\")\n",
    "world_bill.click()\n",
    "time.sleep(1)"
   ]
  },
  {
   "cell_type": "code",
   "execution_count": 190,
   "id": "cb808494",
   "metadata": {},
   "outputs": [],
   "source": [
    "# scraping the reqdata\n",
    "Rank = []\n",
    "Person_Name = []\n",
    "total_net_worth = []\n",
    "Age = []\n",
    "citizenship = []\n",
    "Source = []\n",
    "industry = []\n",
    "\n",
    "\n",
    "while(True):\n",
    "    #Scraping the data of rank\n",
    "    rank_tags= driver.find_elements(By.XPATH,\"//div[@class='rank']\")\n",
    "    for rank in rank_tags:\n",
    "        Rank.append(rank.text)\n",
    "    time.sleep(1)\n",
    "    \n",
    "    \n",
    "    #Scraping the data of names\n",
    "    name_tags= driver.find_elements(By.XPATH,\"//div[@class='personName']//div\")\n",
    "    for name in name_tags:\n",
    "        Person_Name.append(name.text)\n",
    "    time.sleep(1)\n",
    "    \n",
    "    \n",
    "    #Scraping data of age\n",
    "    age_tags= driver.find_elements(By.XPATH,\"//div[@class='age']//div\")\n",
    "    for age in age_tags:\n",
    "        Age.append(age.text)   \n",
    "    time.sleep(1)\n",
    "    \n",
    "    \n",
    "    #Scraping data of citizenship\n",
    "    cit_tags= driver.find_elements(By.XPATH,\"//div[@class='countryOfCitizenship']\")\n",
    "    for cit in cit_tags:\n",
    "        citizenship.append(cit.text)\n",
    "    time.sleep(1)\n",
    "    \n",
    "    \n",
    "    #Scraping data of source of income\n",
    "    sour_tags= driver.find_elements(By.XPATH,\"//div[@class='source']\")\n",
    "    for sour in sour_tags:\n",
    "        Source.append(sour.text)    \n",
    "    time.sleep(1)\n",
    "    \n",
    "     #Scraping data of Industry\n",
    "    ind_tags= driver.find_elements(By.XPATH,\"//div[@class='category']//div\")\n",
    "    for ind in ind_tags:\n",
    "        industry.append(ind.text)\n",
    "        \n",
    "        \n",
    "    #scraping data of net_worth of billionaire \n",
    "    net_tags= driver.find_elements(By.XPATH,\"//div[@class='netWorth']//div[1]\")\n",
    "    for net in net_tags:\n",
    "        total_net_worth.append(net.text)\n",
    "    time.sleep(1)\n",
    "    \n",
    "    \n",
    "    #Clicking on next button\n",
    "    try:\n",
    "        next_button = driver.find_element(By.XPATH,\"//button[@class='pagination-btn pagination-btn--next ']\")\n",
    "        next_button.click()\n",
    "    except:\n",
    "        break\n",
    "        \n",
    "#Scraping data of net worth\n",
    "Net_Worth = []\n",
    "for i in range(0,len(total_net_worth),2):\n",
    "    Net_Worth.append(total_net_worth[i])\n",
    "    "
   ]
  },
  {
   "cell_type": "code",
   "execution_count": 191,
   "id": "ffa0bbb8",
   "metadata": {},
   "outputs": [],
   "source": [
    "#Framing data\n",
    "forbes=pd.DataFrame({})\n",
    "forbes['Rank'] = Rank\n",
    "forbes['Names'] = Person_Name\n",
    "forbes['Net Worth'] = Net_Worth\n",
    "forbes['Age'] = Age\n",
    "forbes['Citizenship'] = citizenship\n",
    "forbes['Source'] = Source\n",
    "forbes['Industry'] = industry"
   ]
  },
  {
   "cell_type": "code",
   "execution_count": 192,
   "id": "400c1ee9",
   "metadata": {},
   "outputs": [
    {
     "data": {
      "text/html": [
       "<div>\n",
       "<style scoped>\n",
       "    .dataframe tbody tr th:only-of-type {\n",
       "        vertical-align: middle;\n",
       "    }\n",
       "\n",
       "    .dataframe tbody tr th {\n",
       "        vertical-align: top;\n",
       "    }\n",
       "\n",
       "    .dataframe thead th {\n",
       "        text-align: right;\n",
       "    }\n",
       "</style>\n",
       "<table border=\"1\" class=\"dataframe\">\n",
       "  <thead>\n",
       "    <tr style=\"text-align: right;\">\n",
       "      <th></th>\n",
       "      <th>Rank</th>\n",
       "      <th>Names</th>\n",
       "      <th>Net Worth</th>\n",
       "      <th>Age</th>\n",
       "      <th>Citizenship</th>\n",
       "      <th>Source</th>\n",
       "      <th>Industry</th>\n",
       "    </tr>\n",
       "  </thead>\n",
       "  <tbody>\n",
       "  </tbody>\n",
       "</table>\n",
       "</div>"
      ],
      "text/plain": [
       "Empty DataFrame\n",
       "Columns: [Rank, Names, Net Worth, Age, Citizenship, Source, Industry]\n",
       "Index: []"
      ]
     },
     "execution_count": 192,
     "metadata": {},
     "output_type": "execute_result"
    }
   ],
   "source": [
    "forbes.head()"
   ]
  },
  {
   "cell_type": "markdown",
   "id": "b843e3fd",
   "metadata": {},
   "source": [
    "## 9. Write a program to extract at least 500 Comments, Comment upvote and time when comment was posted from any YouTube Video."
   ]
  },
  {
   "cell_type": "code",
   "execution_count": 207,
   "id": "3df67000",
   "metadata": {},
   "outputs": [],
   "source": [
    "driver = webdriver.Chrome(ChromeDriverManager().install())\n",
    "time.sleep(1)\n",
    "driver.maximize_window()\n",
    "\n",
    "driver.get(\"https://www.youtube.com/\")\n",
    "time.sleep(2)"
   ]
  },
  {
   "cell_type": "code",
   "execution_count": 209,
   "id": "b72593e8",
   "metadata": {},
   "outputs": [],
   "source": [
    "#finding element for search bar\n",
    "search_bar = driver.find_element(By.XPATH,'//input[@class=\"ytd-searchbox\"]')\n",
    "search_bar.send_keys(\"antman\")  #entering antman in the search bar\n",
    "time.sleep(1)"
   ]
  },
  {
   "cell_type": "code",
   "execution_count": 211,
   "id": "dc048052",
   "metadata": {},
   "outputs": [],
   "source": [
    "#clicking on search button\n",
    "search_btn = driver.find_element(By.ID,\"search-icon-legacy\")  \n",
    "search_btn.click()\n",
    "time.sleep(1)"
   ]
  },
  {
   "cell_type": "code",
   "execution_count": 213,
   "id": "439ab8c7",
   "metadata": {},
   "outputs": [],
   "source": [
    "#clicking on first video\n",
    "link_click = driver.find_element(By.XPATH,\"//yt-formatted-string[@class ='style-scope ytd-video-renderer']\")\n",
    "link_click.click()"
   ]
  },
  {
   "cell_type": "code",
   "execution_count": 218,
   "id": "8aff111d",
   "metadata": {},
   "outputs": [],
   "source": [
    "# scrolling down to see the comments\n",
    "for _ in range(60):\n",
    "    driver.execute_script(\"window.scrollBy(0,60)\")"
   ]
  },
  {
   "cell_type": "code",
   "execution_count": 219,
   "id": "6b295bc0",
   "metadata": {},
   "outputs": [],
   "source": [
    "#make empty lists\n",
    "comments = []\n",
    "comment_time = []\n",
    "Time = []\n",
    "Likes = []\n",
    "No_of_Likes = []"
   ]
  },
  {
   "cell_type": "code",
   "execution_count": 220,
   "id": "c0acec65",
   "metadata": {},
   "outputs": [],
   "source": [
    "#scraping the data of comments\n",
    "cm_tags = driver.find_elements(By.ID,\"content-text\")\n",
    "for cm in cm_tags:\n",
    "    if cm.text is None:\n",
    "        comments.append(\"--\")\n",
    "    else:\n",
    "        comments.append(cm.text)\n",
    "time.sleep(5)"
   ]
  },
  {
   "cell_type": "code",
   "execution_count": 221,
   "id": "c3d86f65",
   "metadata": {},
   "outputs": [],
   "source": [
    "# scraping the data of time when comment was posted\n",
    "tm_tags = driver.find_elements(By.XPATH,\"//a[contains(text(),'ago')]\")\n",
    "for tm in tm_tags:\n",
    "    Time.append(tm.text)\n",
    "\n",
    "for i in range(0,len(Time),2):\n",
    "    comment_time.append(Time[i])\n",
    "time.sleep(5)"
   ]
  },
  {
   "cell_type": "code",
   "execution_count": 222,
   "id": "63f6cbb8",
   "metadata": {},
   "outputs": [],
   "source": [
    "# scraping the data of comment likes\n",
    "like_tags = driver.find_elements(By.XPATH,\"//span[@class='style-scope ytd-comment-action-buttons-renderer']\")\n",
    "for like in like_tags:\n",
    "    Likes.append(like.text)\n",
    "    \n",
    "for i in range(1,len(Likes),2):\n",
    "    No_of_Likes.append(Likes[i])"
   ]
  },
  {
   "cell_type": "code",
   "execution_count": 224,
   "id": "c1f66eb6",
   "metadata": {},
   "outputs": [
    {
     "name": "stdout",
     "output_type": "stream",
     "text": [
      "297 149 297\n"
     ]
    }
   ],
   "source": [
    "print(len(comments),len(comment_time),len(No_of_Likes))"
   ]
  },
  {
   "cell_type": "code",
   "execution_count": 225,
   "id": "a055375b",
   "metadata": {},
   "outputs": [],
   "source": [
    "#Creating dataframe\n",
    "yt =pd.DataFrame({'Comments':comments[0:140],'Time':comment_time[0:140],'Upvotes':No_of_Likes[0:140]})"
   ]
  },
  {
   "cell_type": "code",
   "execution_count": 226,
   "id": "019c4c8b",
   "metadata": {},
   "outputs": [
    {
     "data": {
      "text/html": [
       "<div>\n",
       "<style scoped>\n",
       "    .dataframe tbody tr th:only-of-type {\n",
       "        vertical-align: middle;\n",
       "    }\n",
       "\n",
       "    .dataframe tbody tr th {\n",
       "        vertical-align: top;\n",
       "    }\n",
       "\n",
       "    .dataframe thead th {\n",
       "        text-align: right;\n",
       "    }\n",
       "</style>\n",
       "<table border=\"1\" class=\"dataframe\">\n",
       "  <thead>\n",
       "    <tr style=\"text-align: right;\">\n",
       "      <th></th>\n",
       "      <th>Comments</th>\n",
       "      <th>Time</th>\n",
       "      <th>Upvotes</th>\n",
       "    </tr>\n",
       "  </thead>\n",
       "  <tbody>\n",
       "    <tr>\n",
       "      <th>0</th>\n",
       "      <td>Oh god, can't wait to see this. I love Spider-...</td>\n",
       "      <td>1 day ago</td>\n",
       "      <td>78K</td>\n",
       "    </tr>\n",
       "    <tr>\n",
       "      <th>1</th>\n",
       "      <td>It is truly amazing how he went all the way fr...</td>\n",
       "      <td>18 hours ago</td>\n",
       "      <td>1.2K</td>\n",
       "    </tr>\n",
       "    <tr>\n",
       "      <th>2</th>\n",
       "      <td>I love how vastly different He Who Remains and...</td>\n",
       "      <td>13 hours ago</td>\n",
       "      <td>926</td>\n",
       "    </tr>\n",
       "    <tr>\n",
       "      <th>3</th>\n",
       "      <td>I loved the moment when Kang said: \"You won't ...</td>\n",
       "      <td>1 day ago (edited)</td>\n",
       "      <td>115</td>\n",
       "    </tr>\n",
       "    <tr>\n",
       "      <th>4</th>\n",
       "      <td>When Kang said “I can get you home and give yo...</td>\n",
       "      <td>8 hours ago</td>\n",
       "      <td>614</td>\n",
       "    </tr>\n",
       "  </tbody>\n",
       "</table>\n",
       "</div>"
      ],
      "text/plain": [
       "                                            Comments                Time  \\\n",
       "0  Oh god, can't wait to see this. I love Spider-...           1 day ago   \n",
       "1  It is truly amazing how he went all the way fr...        18 hours ago   \n",
       "2  I love how vastly different He Who Remains and...        13 hours ago   \n",
       "3  I loved the moment when Kang said: \"You won't ...  1 day ago (edited)   \n",
       "4  When Kang said “I can get you home and give yo...         8 hours ago   \n",
       "\n",
       "  Upvotes  \n",
       "0     78K  \n",
       "1    1.2K  \n",
       "2     926  \n",
       "3     115  \n",
       "4     614  "
      ]
     },
     "execution_count": 226,
     "metadata": {},
     "output_type": "execute_result"
    }
   ],
   "source": [
    "yt.head()"
   ]
  },
  {
   "cell_type": "markdown",
   "id": "97e2edeb",
   "metadata": {},
   "source": [
    "## 10. Write a python program to scrape a data for all available Hostels from https://www.hostelworld.com/ in “London” location. You have to scrape hostel name, distance from city centre, ratings, total reviews, overall reviews, privates from price, dorms from price, facilities and property description."
   ]
  },
  {
   "cell_type": "code",
   "execution_count": 262,
   "id": "5fb1490a",
   "metadata": {},
   "outputs": [],
   "source": [
    "driver = webdriver.Chrome(ChromeDriverManager().install())\n",
    "time.sleep(1)\n",
    "driver.maximize_window()\n",
    "\n",
    "driver.get(\"https://www.hostelworld.com/\")\n",
    "time.sleep(2)"
   ]
  },
  {
   "cell_type": "code",
   "execution_count": 264,
   "id": "18f63b13",
   "metadata": {},
   "outputs": [],
   "source": [
    "#locating the location search bar\n",
    "search_loc = driver.find_element(By.ID,'search-input-field')\n",
    "# write Lonodn in search bar\n",
    "search_loc.send_keys(\"London\")\n",
    "time.sleep(5)\n",
    "\n",
    "#select london\n",
    "london = driver.find_element(By.XPATH,'//*[@id=\"predicted-search-results\"]/li[2]/div')\n",
    "london.click()\n",
    "time.sleep(5)\n",
    "\n",
    "\n",
    "# do click on search button\n",
    "search_btn = driver.find_element(By.ID,'search-button')\n",
    "search_btn.click()"
   ]
  },
  {
   "cell_type": "code",
   "execution_count": 265,
   "id": "7573c81b",
   "metadata": {},
   "outputs": [],
   "source": [
    "# scraping the following\n",
    "hostel_name = []\n",
    "distance = []\n",
    "pvt_prices = []\n",
    "dorms_price = []\n",
    "rating = []\n",
    "reviews = []\n",
    "over_all = []\n",
    "facilities = []\n",
    "description =[]\n",
    "product_url = []"
   ]
  },
  {
   "cell_type": "code",
   "execution_count": 266,
   "id": "fa016153",
   "metadata": {},
   "outputs": [],
   "source": [
    "#Scraping the requered information\n",
    "for i in driver.find_elements(By.XPATH,'//*[@id=\"__layout\"]/div/div[2]/div[4]/div/div/div[4]/div[2]/div[1]/h2/a'):\n",
    "    i.click()\n",
    "    time.sleep(4)\n",
    "    \n",
    "    #fetching hostel name\n",
    "    try:\n",
    "        name = driver.find_elements(By.XPATH,\"//h2[@class='title title-6']\")\n",
    "        for i in name:\n",
    "            hostel_name.append(i.text)\n",
    "    except NoSuchElementException:\n",
    "        hostel_name.append('-')\n",
    "        \n",
    "    #fetching distance from city centre\n",
    "    try:\n",
    "        dist = driver.find_elements(By.XPATH,\"//div[@class='subtitle body-3']//a//span[1]\")\n",
    "        for i in dist:\n",
    "            distance.append(i.text.replace('Hostel - ',''))\n",
    "    except NoSuchElementException:\n",
    "        distance.append('-')\n",
    "        \n",
    "    for i in driver.find_elements(By.XPATH,\"//div[@class='prices-col']\"):\n",
    "        \n",
    "    #fetch privates from price\n",
    "        try:\n",
    "            pvt_price = driver.find_element(By.XPATH,\"//a[@class='prices']//div[1]//div\")\n",
    "            pvt_prices.append(pvt_price.text)\n",
    "        except NoSuchElementException:\n",
    "            pvt_prices.append('-')\n",
    "            \n",
    "    #fetching dorms from price\n",
    "    for i in driver.find_elements(By.XPATH,\"//div[@class='prices-col']\"):\n",
    "        try:\n",
    "            dorms = driver.find_element(By.XPATH,\"//a[@class='prices']//div[2]//div\")\n",
    "            dorms_price.append(dorms.text)\n",
    "        except NoSuchElementException:\n",
    "            dorms_price.append('-')\n",
    "            \n",
    "    #fetching facilities\n",
    "    try:\n",
    "        fac1 = driver.find_elements(By.XPATH,\"//div[@class='has-wifi']\")\n",
    "        fac2 = driver.find_elements(By.XPATH,\"//div[@class='has-sanitation']\")\n",
    "        for i in fac1:\n",
    "            for j in fac2:\n",
    "                facilities.append(i.text +', '+ j.text )\n",
    "    except NoSuchElementException:\n",
    "        facilities.append('-')\n",
    "        \n",
    "    #lets fetch url of each hostel\n",
    "    p_url = driver.find_elements(By.XPATH,\"//div[@class='prices-col']//a[2]\")\n",
    "    for i in p_url:\n",
    "        product_url.append(i.get_attribute('href'))\n",
    "\n",
    "for i in product_url:\n",
    "    driver.get(i)\n",
    "    time.sleep(3)\n",
    "    \n",
    "    #lets click on show more button for description\n",
    "    try:\n",
    "        driver.find_element(By.XPATH,'//a[@class=\"toggle-content\"]').click()\n",
    "        time.sleep(5)\n",
    "    except NoSuchElementException:\n",
    "        pass\n",
    "    \n",
    "    #fetching ratings\n",
    "    try:\n",
    "        rat = driver.find_element(By.XPATH,\"//div[@class='score orange big' or @class='score gray big']\")\n",
    "        rating.append(rat.text)\n",
    "    except NoSuchElementException:\n",
    "        rating.append('-')\n",
    "        \n",
    "    #fetching total reviews\n",
    "    try:\n",
    "        rws = driver.find_element(By.XPATH,\"//div[@class='reviews']\")\n",
    "        reviews.append(rws.text.replace('Total Reviews',''))\n",
    "    except NoSuchElementException:\n",
    "        reviews.append('-')\n",
    "        \n",
    "    #fetch overall review\n",
    "    try:\n",
    "        overall_rw = driver.find_element(By.XPATH,\"//div[@class='keyword']//span\")\n",
    "        over_all.append(overall_rw.text)\n",
    "    except NoSuchElementException:\n",
    "        over_all.append('-')\n",
    "        \n",
    "    #fetch property description \n",
    "    try:\n",
    "        disc = driver.find_element(By.XPATH,\"//div[@class='content']\")\n",
    "        description.append(disc.text)\n",
    "    except NoSuchElementException:\n",
    "        over_all.append('-')"
   ]
  },
  {
   "cell_type": "code",
   "execution_count": 267,
   "id": "3f4539c2",
   "metadata": {},
   "outputs": [],
   "source": [
    "#Creating dataframe\n",
    "df = pd.DataFrame({})\n",
    "df['Hostel_Name'] = hostel_name\n",
    "df['Distance fron city centre'] = distance\n",
    "df['Ratings'] = rating\n",
    "df['Total_reviews'] = reviews\n",
    "df['Overall Reviews'] = over_all\n",
    "df['Privates from price'] = pvt_prices\n",
    "df['Dorms from price'] = dorms_price\n",
    "df['Facilities'] = facilities\n",
    "df['Description'] = description"
   ]
  },
  {
   "cell_type": "code",
   "execution_count": 268,
   "id": "e4569f30",
   "metadata": {},
   "outputs": [
    {
     "data": {
      "text/html": [
       "<div>\n",
       "<style scoped>\n",
       "    .dataframe tbody tr th:only-of-type {\n",
       "        vertical-align: middle;\n",
       "    }\n",
       "\n",
       "    .dataframe tbody tr th {\n",
       "        vertical-align: top;\n",
       "    }\n",
       "\n",
       "    .dataframe thead th {\n",
       "        text-align: right;\n",
       "    }\n",
       "</style>\n",
       "<table border=\"1\" class=\"dataframe\">\n",
       "  <thead>\n",
       "    <tr style=\"text-align: right;\">\n",
       "      <th></th>\n",
       "      <th>Hostel_Name</th>\n",
       "      <th>Distance fron city centre</th>\n",
       "      <th>Ratings</th>\n",
       "      <th>Total_reviews</th>\n",
       "      <th>Overall Reviews</th>\n",
       "      <th>Privates from price</th>\n",
       "      <th>Dorms from price</th>\n",
       "      <th>Facilities</th>\n",
       "      <th>Description</th>\n",
       "    </tr>\n",
       "  </thead>\n",
       "  <tbody>\n",
       "  </tbody>\n",
       "</table>\n",
       "</div>"
      ],
      "text/plain": [
       "Empty DataFrame\n",
       "Columns: [Hostel_Name, Distance fron city centre, Ratings, Total_reviews, Overall Reviews, Privates from price, Dorms from price, Facilities, Description]\n",
       "Index: []"
      ]
     },
     "execution_count": 268,
     "metadata": {},
     "output_type": "execute_result"
    }
   ],
   "source": [
    "df.head()"
   ]
  },
  {
   "cell_type": "code",
   "execution_count": null,
   "id": "b16ff5a4",
   "metadata": {},
   "outputs": [],
   "source": []
  },
  {
   "cell_type": "code",
   "execution_count": null,
   "id": "39c0f8a2",
   "metadata": {},
   "outputs": [],
   "source": []
  },
  {
   "cell_type": "code",
   "execution_count": null,
   "id": "44b89d80",
   "metadata": {},
   "outputs": [],
   "source": []
  },
  {
   "cell_type": "code",
   "execution_count": null,
   "id": "a181fdb7",
   "metadata": {},
   "outputs": [],
   "source": []
  },
  {
   "cell_type": "code",
   "execution_count": null,
   "id": "e52a31fc",
   "metadata": {},
   "outputs": [],
   "source": [
    "for i in driver.find_elements_by_xpath(\"//div[@class = 'pagination-item pagination-current' or @class='pagination-item']\"):\n",
    "    i.click()\n",
    "    time.sleep(4)"
   ]
  },
  {
   "cell_type": "code",
   "execution_count": null,
   "id": "694bfe45",
   "metadata": {},
   "outputs": [],
   "source": []
  },
  {
   "cell_type": "code",
   "execution_count": null,
   "id": "e02565ce",
   "metadata": {},
   "outputs": [],
   "source": []
  },
  {
   "cell_type": "code",
   "execution_count": null,
   "id": "ce18952d",
   "metadata": {},
   "outputs": [],
   "source": []
  }
 ],
 "metadata": {
  "kernelspec": {
   "display_name": "Python 3 (ipykernel)",
   "language": "python",
   "name": "python3"
  },
  "language_info": {
   "codemirror_mode": {
    "name": "ipython",
    "version": 3
   },
   "file_extension": ".py",
   "mimetype": "text/x-python",
   "name": "python",
   "nbconvert_exporter": "python",
   "pygments_lexer": "ipython3",
   "version": "3.9.7"
  }
 },
 "nbformat": 4,
 "nbformat_minor": 5
}
